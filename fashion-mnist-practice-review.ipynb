{
 "cells": [
  {
   "cell_type": "code",
   "execution_count": 1,
   "id": "d1bebd4a",
   "metadata": {
    "_cell_guid": "b1076dfc-b9ad-4769-8c92-a6c4dae69d19",
    "_uuid": "8f2839f25d086af736a60e9eeb907d3b93b6e0e5",
    "execution": {
     "iopub.execute_input": "2024-02-01T13:41:49.501339Z",
     "iopub.status.busy": "2024-02-01T13:41:49.500853Z",
     "iopub.status.idle": "2024-02-01T13:41:50.524676Z",
     "shell.execute_reply": "2024-02-01T13:41:50.523398Z"
    },
    "papermill": {
     "duration": 1.035029,
     "end_time": "2024-02-01T13:41:50.527596",
     "exception": false,
     "start_time": "2024-02-01T13:41:49.492567",
     "status": "completed"
    },
    "tags": []
   },
   "outputs": [],
   "source": [
    "# This Python 3 environment comes with many helpful analytics libraries installed\n",
    "# It is defined by the kaggle/python Docker image: https://github.com/kaggle/docker-python\n",
    "# For example, here's several helpful packages to load\n",
    "\n",
    "import numpy as np # linear algebra\n",
    "import pandas as pd # data processing, CSV file I/O (e.g. pd.read_csv)\n",
    "\n",
    "# Input data files are available in the read-only \"../input/\" directory\n",
    "# For example, running this (by clicking run or pressing Shift+Enter) will list all files under the input directory\n",
    "\n",
    "import os\n",
    "for dirname, _, filenames in os.walk('/kaggle/input'):\n",
    "    for filename in filenames:\n",
    "        print(os.path.join(dirname, filename))\n",
    "\n",
    "# You can write up to 20GB to the current directory (/kaggle/working/) that gets preserved as output when you create a version using \"Save & Run All\" \n",
    "# You can also write temporary files to /kaggle/temp/, but they won't be saved outside of the current session"
   ]
  },
  {
   "cell_type": "markdown",
   "id": "99701fe1",
   "metadata": {
    "papermill": {
     "duration": 0.005871,
     "end_time": "2024-02-01T13:41:50.539988",
     "exception": false,
     "start_time": "2024-02-01T13:41:50.534117",
     "status": "completed"
    },
    "tags": []
   },
   "source": [
    "# fashion mnist dataset을 통한 딥러닝 학습 실습을 정리하기 위한 공간임\n",
    "\n",
    "* 일반적으로 로직은\n",
    "* functional api 모델 생성 후 pixel 값 조정 및 type 조정\n",
    "* one hot encoding 적용\n",
    "* 이후 학습 검증 테스트 데이터로 나눈다\n",
    "* 마지막으로 complie, 학습/예측/평가"
   ]
  },
  {
   "cell_type": "raw",
   "id": "cab84d85",
   "metadata": {
    "papermill": {
     "duration": 0.006454,
     "end_time": "2024-02-01T13:41:50.553010",
     "exception": false,
     "start_time": "2024-02-01T13:41:50.546556",
     "status": "completed"
    },
    "tags": []
   },
   "source": [
    "%config Completer.use_jedi = False"
   ]
  },
  {
   "cell_type": "markdown",
   "id": "0e9d3348",
   "metadata": {
    "papermill": {
     "duration": 0.005784,
     "end_time": "2024-02-01T13:41:50.565048",
     "exception": false,
     "start_time": "2024-02-01T13:41:50.559264",
     "status": "completed"
    },
    "tags": []
   },
   "source": [
    "## 데이터 전처리 수행\n",
    "\n",
    "* 0에서 255 사이의 픽셀값을 0에서 1 사이로 변환. 이 과정을 거쳐야 성능 향상\n",
    "* array type은 float32. tensorflow도 데이터를 끌어올 떄 자동적으로 float32로 바꾼다\n",
    "* 전처리를 수행하기 전에 train_labels를 보면 type이 unit8로 되어 있음"
   ]
  },
  {
   "cell_type": "code",
   "execution_count": 2,
   "id": "1bae9a25",
   "metadata": {
    "execution": {
     "iopub.execute_input": "2024-02-01T13:41:50.579267Z",
     "iopub.status.busy": "2024-02-01T13:41:50.578730Z",
     "iopub.status.idle": "2024-02-01T13:42:11.136847Z",
     "shell.execute_reply": "2024-02-01T13:42:11.135865Z"
    },
    "papermill": {
     "duration": 20.568705,
     "end_time": "2024-02-01T13:42:11.139892",
     "exception": false,
     "start_time": "2024-02-01T13:41:50.571187",
     "status": "completed"
    },
    "tags": []
   },
   "outputs": [
    {
     "name": "stderr",
     "output_type": "stream",
     "text": [
      "2024-02-01 13:41:52.991136: E external/local_xla/xla/stream_executor/cuda/cuda_dnn.cc:9261] Unable to register cuDNN factory: Attempting to register factory for plugin cuDNN when one has already been registered\n",
      "2024-02-01 13:41:52.991283: E external/local_xla/xla/stream_executor/cuda/cuda_fft.cc:607] Unable to register cuFFT factory: Attempting to register factory for plugin cuFFT when one has already been registered\n",
      "2024-02-01 13:41:53.173931: E external/local_xla/xla/stream_executor/cuda/cuda_blas.cc:1515] Unable to register cuBLAS factory: Attempting to register factory for plugin cuBLAS when one has already been registered\n"
     ]
    },
    {
     "name": "stdout",
     "output_type": "stream",
     "text": [
      "Downloading data from https://storage.googleapis.com/tensorflow/tf-keras-datasets/train-labels-idx1-ubyte.gz\n",
      "29515/29515 [==============================] - 0s 1us/step\n",
      "Downloading data from https://storage.googleapis.com/tensorflow/tf-keras-datasets/train-images-idx3-ubyte.gz\n",
      "26421880/26421880 [==============================] - 2s 0us/step\n",
      "Downloading data from https://storage.googleapis.com/tensorflow/tf-keras-datasets/t10k-labels-idx1-ubyte.gz\n",
      "5148/5148 [==============================] - 0s 0us/step\n",
      "Downloading data from https://storage.googleapis.com/tensorflow/tf-keras-datasets/t10k-images-idx3-ubyte.gz\n",
      "4422102/4422102 [==============================] - 1s 0us/step\n",
      "<class 'numpy.uint8'>\n",
      "(60000, 28, 28)\n"
     ]
    }
   ],
   "source": [
    "from tensorflow.keras.datasets import fashion_mnist\n",
    "\n",
    "(train_images, train_labels), (test_images, test_labels) = fashion_mnist.load_data()\n",
    "\n",
    "# 전처리를 수행하기 전 데이터들을 보면 type이 unit8임\n",
    "print(type(train_images[0][0][0]))\n",
    "print(train_images.shape)"
   ]
  },
  {
   "cell_type": "code",
   "execution_count": 3,
   "id": "22ba03fa",
   "metadata": {
    "execution": {
     "iopub.execute_input": "2024-02-01T13:42:11.166326Z",
     "iopub.status.busy": "2024-02-01T13:42:11.165639Z",
     "iopub.status.idle": "2024-02-01T13:42:11.171772Z",
     "shell.execute_reply": "2024-02-01T13:42:11.170472Z"
    },
    "papermill": {
     "duration": 0.022142,
     "end_time": "2024-02-01T13:42:11.174452",
     "exception": false,
     "start_time": "2024-02-01T13:42:11.152310",
     "status": "completed"
    },
    "tags": []
   },
   "outputs": [
    {
     "name": "stdout",
     "output_type": "stream",
     "text": [
      "(10000, 28, 28)\n"
     ]
    }
   ],
   "source": [
    "print(test_images.shape)"
   ]
  },
  {
   "cell_type": "code",
   "execution_count": 4,
   "id": "a2bf5e48",
   "metadata": {
    "execution": {
     "iopub.execute_input": "2024-02-01T13:42:11.200338Z",
     "iopub.status.busy": "2024-02-01T13:42:11.199410Z",
     "iopub.status.idle": "2024-02-01T13:42:11.522332Z",
     "shell.execute_reply": "2024-02-01T13:42:11.521279Z"
    },
    "papermill": {
     "duration": 0.338599,
     "end_time": "2024-02-01T13:42:11.525121",
     "exception": false,
     "start_time": "2024-02-01T13:42:11.186522",
     "status": "completed"
    },
    "tags": []
   },
   "outputs": [
    {
     "data": {
      "text/plain": [
       "Text(0.5, 1.0, '9')"
      ]
     },
     "execution_count": 4,
     "metadata": {},
     "output_type": "execute_result"
    },
    {
     "data": {
      "image/png": "[encoded data removed]",
      "text/plain": [
       "<Figure size 640x480 with 1 Axes>"
      ]
     },
     "metadata": {},
     "output_type": "display_data"
    }
   ],
   "source": [
    "# fashion mnist 데이터 샘플 출력\n",
    "\n",
    "import matplotlib.pyplot as plt\n",
    "%matplotlib inline\n",
    "\n",
    "plt.imshow(train_images[0], cmap='gray')\n",
    "plt.title(train_labels[0])"
   ]
  },
  {
   "cell_type": "code",
   "execution_count": 5,
   "id": "148098eb",
   "metadata": {
    "execution": {
     "iopub.execute_input": "2024-02-01T13:42:11.551247Z",
     "iopub.status.busy": "2024-02-01T13:42:11.550770Z",
     "iopub.status.idle": "2024-02-01T13:42:11.723138Z",
     "shell.execute_reply": "2024-02-01T13:42:11.721392Z"
    },
    "papermill": {
     "duration": 0.200682,
     "end_time": "2024-02-01T13:42:11.737826",
     "exception": false,
     "start_time": "2024-02-01T13:42:11.537144",
     "status": "completed"
    },
    "tags": []
   },
   "outputs": [
    {
     "name": "stdout",
     "output_type": "stream",
     "text": [
      "Model: \"model\"\n",
      "_________________________________________________________________\n",
      " Layer (type)                Output Shape              Param #   \n",
      "=================================================================\n",
      " input_1 (InputLayer)        [(None, 28, 28)]          0         \n",
      "                                                                 \n",
      " flatten (Flatten)           (None, 784)               0         \n",
      "                                                                 \n",
      " dense (Dense)               (None, 100)               78500     \n",
      "                                                                 \n",
      " dense_1 (Dense)             (None, 30)                3030      \n",
      "                                                                 \n",
      " dense_2 (Dense)             (None, 10)                310       \n",
      "                                                                 \n",
      "=================================================================\n",
      "Total params: 81840 (319.69 KB)\n",
      "Trainable params: 81840 (319.69 KB)\n",
      "Non-trainable params: 0 (0.00 Byte)\n",
      "_________________________________________________________________\n"
     ]
    }
   ],
   "source": [
    "# functional api를 이용한 model 생성\n",
    "\n",
    "from tensorflow.keras.layers import  Layer, Input, Dense, Flatten\n",
    "from tensorflow.keras.models import Model\n",
    "import tensorflow as tf\n",
    "\n",
    "INPUT_SIZE = 28\n",
    "\n",
    "def create_model():\n",
    "    input_tensor = Input(shape=(INPUT_SIZE, INPUT_SIZE))\n",
    "    x = Flatten()(input_tensor)\n",
    "    x = Dense(100, activation='relu')(x)\n",
    "    x = Dense(30, activation='relu')(x)\n",
    "    output = Dense(10, activation='softmax')(x)\n",
    "    \n",
    "    # functional api의 경우 multi input output을 지원하는데 sequentail은 불가능\n",
    "    model = Model(inputs=input_tensor, outputs=output)\n",
    "    \n",
    "    return model\n",
    "\n",
    "model = create_model()\n",
    "model.summary()"
   ]
  },
  {
   "cell_type": "code",
   "execution_count": 6,
   "id": "808f782e",
   "metadata": {
    "execution": {
     "iopub.execute_input": "2024-02-01T13:42:11.769223Z",
     "iopub.status.busy": "2024-02-01T13:42:11.768830Z",
     "iopub.status.idle": "2024-02-01T13:42:13.145234Z",
     "shell.execute_reply": "2024-02-01T13:42:13.144047Z"
    },
    "papermill": {
     "duration": 1.396357,
     "end_time": "2024-02-01T13:42:13.147973",
     "exception": false,
     "start_time": "2024-02-01T13:42:11.751616",
     "status": "completed"
    },
    "tags": []
   },
   "outputs": [],
   "source": [
    "# 데이터 전처리 함수\n",
    "\n",
    "from tensorflow.keras.utils import to_categorical\n",
    "from sklearn.model_selection import train_test_split\n",
    "\n",
    "# 0~1 사잇값의 float32로 전처리\n",
    "\n",
    "def get_preprocessed_data(images, labels):\n",
    "    images = np.array(images/255.0, dtype=np.float32)\n",
    "    labels = np.array(labels, dtype=np.float32)\n",
    "    \n",
    "    return images, labels\n",
    "\n",
    "# 0~1 사잇값 float32로 변경하는 함수 호출 후 one hot encoding 적용\n",
    "\n",
    "def get_preprocessed_ohe(images, labels):\n",
    "    images, labels = get_preprocessed_data(images, labels)\n",
    "    \n",
    "    # labels 데이터를 one hot encoding\n",
    "    oh_labels = to_categorical(labels)\n",
    "    \n",
    "    return images, oh_labels\n",
    "\n",
    "# 학습/검증/테스트 데이터 세트에 전처리 및 one hot encoding 적용\n",
    "# 여기서 전처리 및 one hot encoding 과정을 거친 후 학습과 검증 데이터를 분리하면 효율적\n",
    "\n",
    "def get_train_valid_test_split(train_images, train_labels, test_images, test_labels, valid_size=0.15, random_state=42):\n",
    "    \n",
    "    # 학습과 테스트 데이터의 전처리 후 학습이랑 검증 데이터 분리\n",
    "    train_images, train_oh_labels = get_preprocessed_ohe(train_images, train_labels)\n",
    "    test_images, test_oh_labels = get_preprocessed_ohe(test_images, test_labels)\n",
    "    \n",
    "    # 학습과 검증 데이터 분리\n",
    "    train_images, valid_images, train_oh_images, valid_oh_labels = train_test_split(train_images, train_oh_labels, test_size=valid_size, random_state=random_state)\n",
    "    \n",
    "    return (train_images, train_oh_images), (valid_images, valid_oh_labels), (test_images, test_oh_labels)"
   ]
  },
  {
   "cell_type": "code",
   "execution_count": 7,
   "id": "268d4d6d",
   "metadata": {
    "execution": {
     "iopub.execute_input": "2024-02-01T13:42:13.179311Z",
     "iopub.status.busy": "2024-02-01T13:42:13.178670Z",
     "iopub.status.idle": "2024-02-01T13:42:14.047416Z",
     "shell.execute_reply": "2024-02-01T13:42:14.045633Z"
    },
    "papermill": {
     "duration": 0.888374,
     "end_time": "2024-02-01T13:42:14.050107",
     "exception": false,
     "start_time": "2024-02-01T13:42:13.161733",
     "status": "completed"
    },
    "tags": []
   },
   "outputs": [
    {
     "name": "stdout",
     "output_type": "stream",
     "text": [
      "<class 'numpy.ndarray'>\n",
      "((51000, 28, 28), (51000, 10))\n"
     ]
    }
   ],
   "source": [
    "# 데이터 전처리 함수를 활용한 실제 데이터 전처리\n",
    "\n",
    "from tensorflow.keras.datasets import fashion_mnist\n",
    "\n",
    "# fashion mnist 데이터 재 로딩 및 전처리 적용해서 학습/검증/테스트 데이터 세트 결정\n",
    "# 데이터 받아오기 / 처음 받아오는 데이터 타입은 numpy.ndarray이다\n",
    "\n",
    "(train_images, train_labels), (test_images, test_labels) = fashion_mnist.load_data()\n",
    "print(type(train_labels))\n",
    "\n",
    "(tr_images, tr_oh_labels), (val_images, val_oh_labels), (test_images, test_oh_labels) = \\\n",
    "    get_train_valid_test_split(train_images, train_labels, test_images, test_labels, valid_size=0.15, random_state=42)\n",
    "\n",
    "print((tr_images.shape, tr_oh_labels.shape))  # labels를 보면 one hot encoding이 되어 있다"
   ]
  },
  {
   "cell_type": "markdown",
   "id": "5eeaba63",
   "metadata": {
    "papermill": {
     "duration": 0.013464,
     "end_time": "2024-02-01T13:42:14.077881",
     "exception": false,
     "start_time": "2024-02-01T13:42:14.064417",
     "status": "completed"
    },
    "tags": []
   },
   "source": [
    "# loss와 optimizer 설정을 통한 학습 수행\n",
    "* loss는 categorical_crossentropy로, optimizer는 Adam으로 설정\n",
    "* categorical crossentropy를 위해서 Label을 one hot encoding으로 변경(keras의 to_categorical을 통해)"
   ]
  },
  {
   "cell_type": "code",
   "execution_count": 8,
   "id": "171d3513",
   "metadata": {
    "execution": {
     "iopub.execute_input": "2024-02-01T13:42:14.108330Z",
     "iopub.status.busy": "2024-02-01T13:42:14.107092Z",
     "iopub.status.idle": "2024-02-01T13:42:14.202888Z",
     "shell.execute_reply": "2024-02-01T13:42:14.201651Z"
    },
    "papermill": {
     "duration": 0.114146,
     "end_time": "2024-02-01T13:42:14.205759",
     "exception": false,
     "start_time": "2024-02-01T13:42:14.091613",
     "status": "completed"
    },
    "tags": []
   },
   "outputs": [
    {
     "name": "stdout",
     "output_type": "stream",
     "text": [
      "Model: \"model_1\"\n",
      "_________________________________________________________________\n",
      " Layer (type)                Output Shape              Param #   \n",
      "=================================================================\n",
      " input_2 (InputLayer)        [(None, 28, 28)]          0         \n",
      "                                                                 \n",
      " flatten_1 (Flatten)         (None, 784)               0         \n",
      "                                                                 \n",
      " dense_3 (Dense)             (None, 100)               78500     \n",
      "                                                                 \n",
      " dense_4 (Dense)             (None, 30)                3030      \n",
      "                                                                 \n",
      " dense_5 (Dense)             (None, 10)                310       \n",
      "                                                                 \n",
      "=================================================================\n",
      "Total params: 81840 (319.69 KB)\n",
      "Trainable params: 81840 (319.69 KB)\n",
      "Non-trainable params: 0 (0.00 Byte)\n",
      "_________________________________________________________________\n"
     ]
    }
   ],
   "source": [
    "from tensorflow.keras.optimizers import Adam\n",
    "\n",
    "# model 생성 및 optimizer, loss, metric 적용\n",
    "\n",
    "model = create_model()\n",
    "model.summary()\n",
    "\n",
    "# compile을 통해 loss 함수와 optimizer 설정\n",
    "# one hot encoding이 되었으면 categorical, 아닌 경우 sparse categorical\n",
    "model.compile(optimizer='Adam', loss='categorical_crossentropy', metrics=['accuracy'])\n"
   ]
  },
  {
   "cell_type": "code",
   "execution_count": 9,
   "id": "deedc5ad",
   "metadata": {
    "execution": {
     "iopub.execute_input": "2024-02-01T13:42:14.239208Z",
     "iopub.status.busy": "2024-02-01T13:42:14.238813Z",
     "iopub.status.idle": "2024-02-01T13:42:56.407082Z",
     "shell.execute_reply": "2024-02-01T13:42:56.405517Z"
    },
    "papermill": {
     "duration": 42.188653,
     "end_time": "2024-02-01T13:42:56.410255",
     "exception": false,
     "start_time": "2024-02-01T13:42:14.221602",
     "status": "completed"
    },
    "tags": []
   },
   "outputs": [
    {
     "name": "stdout",
     "output_type": "stream",
     "text": [
      "Epoch 1/20\n",
      "399/399 [==============================] - 3s 6ms/step - loss: 0.6187 - accuracy: 0.7847 - val_loss: 0.4574 - val_accuracy: 0.8409\n",
      "Epoch 2/20\n",
      "399/399 [==============================] - 2s 4ms/step - loss: 0.4171 - accuracy: 0.8528 - val_loss: 0.4208 - val_accuracy: 0.8494\n",
      "Epoch 3/20\n",
      "399/399 [==============================] - 2s 5ms/step - loss: 0.3752 - accuracy: 0.8670 - val_loss: 0.3942 - val_accuracy: 0.8571\n",
      "Epoch 4/20\n",
      "399/399 [==============================] - 2s 4ms/step - loss: 0.3478 - accuracy: 0.8755 - val_loss: 0.3755 - val_accuracy: 0.8669\n",
      "Epoch 5/20\n",
      "399/399 [==============================] - 2s 4ms/step - loss: 0.3351 - accuracy: 0.8782 - val_loss: 0.3644 - val_accuracy: 0.8683\n",
      "Epoch 6/20\n",
      "399/399 [==============================] - 2s 4ms/step - loss: 0.3166 - accuracy: 0.8845 - val_loss: 0.3498 - val_accuracy: 0.8754\n",
      "Epoch 7/20\n",
      "399/399 [==============================] - 2s 4ms/step - loss: 0.2991 - accuracy: 0.8915 - val_loss: 0.3416 - val_accuracy: 0.8784\n",
      "Epoch 8/20\n",
      "399/399 [==============================] - 2s 4ms/step - loss: 0.2889 - accuracy: 0.8934 - val_loss: 0.3425 - val_accuracy: 0.8758\n",
      "Epoch 9/20\n",
      "399/399 [==============================] - 2s 4ms/step - loss: 0.2794 - accuracy: 0.8977 - val_loss: 0.3326 - val_accuracy: 0.8802\n",
      "Epoch 10/20\n",
      "399/399 [==============================] - 2s 4ms/step - loss: 0.2697 - accuracy: 0.9005 - val_loss: 0.3424 - val_accuracy: 0.8754\n",
      "Epoch 11/20\n",
      "399/399 [==============================] - 2s 4ms/step - loss: 0.2586 - accuracy: 0.9050 - val_loss: 0.3191 - val_accuracy: 0.8854\n",
      "Epoch 12/20\n",
      "399/399 [==============================] - 2s 5ms/step - loss: 0.2538 - accuracy: 0.9061 - val_loss: 0.3245 - val_accuracy: 0.8841\n",
      "Epoch 13/20\n",
      "399/399 [==============================] - 2s 5ms/step - loss: 0.2461 - accuracy: 0.9095 - val_loss: 0.3202 - val_accuracy: 0.8844\n",
      "Epoch 14/20\n",
      "399/399 [==============================] - 2s 5ms/step - loss: 0.2418 - accuracy: 0.9108 - val_loss: 0.3260 - val_accuracy: 0.8816\n",
      "Epoch 15/20\n",
      "399/399 [==============================] - 2s 5ms/step - loss: 0.2314 - accuracy: 0.9139 - val_loss: 0.3242 - val_accuracy: 0.8850\n",
      "Epoch 16/20\n",
      "399/399 [==============================] - 2s 4ms/step - loss: 0.2285 - accuracy: 0.9160 - val_loss: 0.3205 - val_accuracy: 0.8890\n",
      "Epoch 17/20\n",
      "399/399 [==============================] - 2s 4ms/step - loss: 0.2207 - accuracy: 0.9181 - val_loss: 0.3193 - val_accuracy: 0.8871\n",
      "Epoch 18/20\n",
      "399/399 [==============================] - 2s 4ms/step - loss: 0.2144 - accuracy: 0.9215 - val_loss: 0.3280 - val_accuracy: 0.8872\n",
      "Epoch 19/20\n",
      "399/399 [==============================] - 2s 4ms/step - loss: 0.2138 - accuracy: 0.9210 - val_loss: 0.3193 - val_accuracy: 0.8902\n",
      "Epoch 20/20\n",
      "399/399 [==============================] - 2s 4ms/step - loss: 0.2059 - accuracy: 0.9236 - val_loss: 0.3300 - val_accuracy: 0.8886\n"
     ]
    }
   ],
   "source": [
    "# 학습 수행의 경우 model의 fit을 통해 진행\n",
    "# history를 통해 결과를 받는다. loss와 accuracy metrics를 받는다\n",
    "# epoch를 통해 6만개를 batch 수만큼 쪼개서 학습하는데 이걸 epoch 횟수만큼 반복\n",
    "\n",
    "history = model.fit(x=tr_images, y=tr_oh_labels, batch_size=128, epochs=20, validation_data=(val_images, val_oh_labels))"
   ]
  },
  {
   "cell_type": "code",
   "execution_count": 10,
   "id": "2ceb3964",
   "metadata": {
    "execution": {
     "iopub.execute_input": "2024-02-01T13:42:56.570000Z",
     "iopub.status.busy": "2024-02-01T13:42:56.569061Z",
     "iopub.status.idle": "2024-02-01T13:42:56.578901Z",
     "shell.execute_reply": "2024-02-01T13:42:56.577644Z"
    },
    "papermill": {
     "duration": 0.092785,
     "end_time": "2024-02-01T13:42:56.581953",
     "exception": false,
     "start_time": "2024-02-01T13:42:56.489168",
     "status": "completed"
    },
    "tags": []
   },
   "outputs": [
    {
     "data": {
      "text/plain": [
       "{'loss': [0.6187459230422974,\n",
       "  0.4171264171600342,\n",
       "  0.37519124150276184,\n",
       "  0.34775310754776,\n",
       "  0.3351292014122009,\n",
       "  0.31659650802612305,\n",
       "  0.29909443855285645,\n",
       "  0.2888989746570587,\n",
       "  0.27938956022262573,\n",
       "  0.2697316110134125,\n",
       "  0.25864923000335693,\n",
       "  0.25377193093299866,\n",
       "  0.24607546627521515,\n",
       "  0.24180863797664642,\n",
       "  0.23143672943115234,\n",
       "  0.2285403460264206,\n",
       "  0.22073791921138763,\n",
       "  0.2143980860710144,\n",
       "  0.21380463242530823,\n",
       "  0.20585383474826813],\n",
       " 'accuracy': [0.7847058773040771,\n",
       "  0.8527647256851196,\n",
       "  0.8669999837875366,\n",
       "  0.8755097985267639,\n",
       "  0.8782156705856323,\n",
       "  0.8844509720802307,\n",
       "  0.8914510011672974,\n",
       "  0.8934117555618286,\n",
       "  0.8976666927337646,\n",
       "  0.900509774684906,\n",
       "  0.9049999713897705,\n",
       "  0.9060784578323364,\n",
       "  0.9094706177711487,\n",
       "  0.9107646942138672,\n",
       "  0.913921594619751,\n",
       "  0.9160196185112,\n",
       "  0.9180784225463867,\n",
       "  0.9214901924133301,\n",
       "  0.9210000038146973,\n",
       "  0.923568606376648],\n",
       " 'val_loss': [0.4573999047279358,\n",
       "  0.4208140969276428,\n",
       "  0.3942020535469055,\n",
       "  0.3755190670490265,\n",
       "  0.3643542230129242,\n",
       "  0.3497847020626068,\n",
       "  0.3415692150592804,\n",
       "  0.3424714505672455,\n",
       "  0.3325730264186859,\n",
       "  0.34239330887794495,\n",
       "  0.3190867602825165,\n",
       "  0.3245411217212677,\n",
       "  0.32019147276878357,\n",
       "  0.3259771466255188,\n",
       "  0.32421934604644775,\n",
       "  0.32047784328460693,\n",
       "  0.3192945122718811,\n",
       "  0.3279646039009094,\n",
       "  0.3193211555480957,\n",
       "  0.32999518513679504],\n",
       " 'val_accuracy': [0.8408889174461365,\n",
       "  0.8494444489479065,\n",
       "  0.8571110963821411,\n",
       "  0.8668888807296753,\n",
       "  0.8683333396911621,\n",
       "  0.8754444718360901,\n",
       "  0.8784444332122803,\n",
       "  0.8757777810096741,\n",
       "  0.8802222013473511,\n",
       "  0.8754444718360901,\n",
       "  0.8854444622993469,\n",
       "  0.8841111063957214,\n",
       "  0.8844444155693054,\n",
       "  0.8815555572509766,\n",
       "  0.8849999904632568,\n",
       "  0.8889999985694885,\n",
       "  0.8871111273765564,\n",
       "  0.8872222304344177,\n",
       "  0.8902222514152527,\n",
       "  0.8885555267333984]}"
      ]
     },
     "execution_count": 10,
     "metadata": {},
     "output_type": "execute_result"
    }
   ],
   "source": [
    "history.history"
   ]
  },
  {
   "cell_type": "code",
   "execution_count": 11,
   "id": "dab18fc8",
   "metadata": {
    "execution": {
     "iopub.execute_input": "2024-02-01T13:42:56.738846Z",
     "iopub.status.busy": "2024-02-01T13:42:56.737530Z",
     "iopub.status.idle": "2024-02-01T13:42:57.026798Z",
     "shell.execute_reply": "2024-02-01T13:42:57.025618Z"
    },
    "papermill": {
     "duration": 0.371124,
     "end_time": "2024-02-01T13:42:57.029466",
     "exception": false,
     "start_time": "2024-02-01T13:42:56.658342",
     "status": "completed"
    },
    "tags": []
   },
   "outputs": [
    {
     "data": {
      "image/png": "[encoded data removed]",
      "text/plain": [
       "<Figure size 640x480 with 1 Axes>"
      ]
     },
     "metadata": {},
     "output_type": "display_data"
    }
   ],
   "source": [
    "import matplotlib.pyplot as plt\n",
    "%matplotlib inline\n",
    "\n",
    "def show_history(hisotry):\n",
    "    plt.plot(history.history['accuracy'], label='train')\n",
    "    plt.plot(history.history['val_accuracy'], label='valid')\n",
    "    plt.legend()\n",
    "    \n",
    "show_history(history)"
   ]
  },
  {
   "cell_type": "code",
   "execution_count": 12,
   "id": "321cce57",
   "metadata": {
    "execution": {
     "iopub.execute_input": "2024-02-01T13:42:57.192679Z",
     "iopub.status.busy": "2024-02-01T13:42:57.192233Z",
     "iopub.status.idle": "2024-02-01T13:42:57.452792Z",
     "shell.execute_reply": "2024-02-01T13:42:57.451632Z"
    },
    "papermill": {
     "duration": 0.345536,
     "end_time": "2024-02-01T13:42:57.455237",
     "exception": false,
     "start_time": "2024-02-01T13:42:57.109701",
     "status": "completed"
    },
    "tags": []
   },
   "outputs": [
    {
     "name": "stdout",
     "output_type": "stream",
     "text": [
      "40/40 [==============================] - 0s 3ms/step - loss: 0.3448 - accuracy: 0.8819\n"
     ]
    },
    {
     "data": {
      "text/plain": [
       "[0.34476321935653687, 0.8819000124931335]"
      ]
     },
     "execution_count": 12,
     "metadata": {},
     "output_type": "execute_result"
    }
   ],
   "source": [
    "# 테스트 세트로 모델 성능 검증\n",
    "\n",
    "model.evaluate(x=test_images, y=test_oh_labels, batch_size=256, verbose=1)"
   ]
  },
  {
   "cell_type": "code",
   "execution_count": null,
   "id": "1f188ffe",
   "metadata": {
    "papermill": {
     "duration": 0.139342,
     "end_time": "2024-02-01T13:42:57.674706",
     "exception": false,
     "start_time": "2024-02-01T13:42:57.535364",
     "status": "completed"
    },
    "tags": []
   },
   "outputs": [],
   "source": []
  }
 ],
 "metadata": {
  "kaggle": {
   "accelerator": "none",
   "dataSources": [],
   "dockerImageVersionId": 30646,
   "isGpuEnabled": false,
   "isInternetEnabled": true,
   "language": "python",
   "sourceType": "notebook"
  },
  "kernelspec": {
   "display_name": "Python 3",
   "language": "python",
   "name": "python3"
  },
  "language_info": {
   "codemirror_mode": {
    "name": "ipython",
    "version": 3
   },
   "file_extension": ".py",
   "mimetype": "text/x-python",
   "name": "python",
   "nbconvert_exporter": "python",
   "pygments_lexer": "ipython3",
   "version": "3.10.13"
  },
  "papermill": {
   "default_parameters": {},
   "duration": 73.153781,
   "end_time": "2024-02-01T13:42:59.478025",
   "environment_variables": {},
   "exception": null,
   "input_path": "__notebook__.ipynb",
   "output_path": "__notebook__.ipynb",
   "parameters": {},
   "start_time": "2024-02-01T13:41:46.324244",
   "version": "2.5.0"
  }
 },
 "nbformat": 4,
 "nbformat_minor": 5
}
