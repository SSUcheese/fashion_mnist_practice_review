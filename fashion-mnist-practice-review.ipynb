{
 "cells": [
  {
   "cell_type": "code",
   "execution_count": 1,
   "id": "eb0d4664",
   "metadata": {
    "_cell_guid": "b1076dfc-b9ad-4769-8c92-a6c4dae69d19",
    "_uuid": "8f2839f25d086af736a60e9eeb907d3b93b6e0e5",
    "execution": {
     "iopub.execute_input": "2024-02-04T07:32:22.226545Z",
     "iopub.status.busy": "2024-02-04T07:32:22.226191Z",
     "iopub.status.idle": "2024-02-04T07:32:23.151986Z",
     "shell.execute_reply": "2024-02-04T07:32:23.151031Z"
    },
    "papermill": {
     "duration": 0.940055,
     "end_time": "2024-02-04T07:32:23.155010",
     "exception": false,
     "start_time": "2024-02-04T07:32:22.214955",
     "status": "completed"
    },
    "tags": []
   },
   "outputs": [],
   "source": [
    "# This Python 3 environment comes with many helpful analytics libraries installed\n",
    "# It is defined by the kaggle/python Docker image: https://github.com/kaggle/docker-python\n",
    "# For example, here's several helpful packages to load\n",
    "\n",
    "import numpy as np # linear algebra\n",
    "import pandas as pd # data processing, CSV file I/O (e.g. pd.read_csv)\n",
    "\n",
    "# Input data files are available in the read-only \"../input/\" directory\n",
    "# For example, running this (by clicking run or pressing Shift+Enter) will list all files under the input directory\n",
    "\n",
    "import os\n",
    "for dirname, _, filenames in os.walk('/kaggle/input'):\n",
    "    for filename in filenames:\n",
    "        print(os.path.join(dirname, filename))\n",
    "\n",
    "# You can write up to 20GB to the current directory (/kaggle/working/) that gets preserved as output when you create a version using \"Save & Run All\" \n",
    "# You can also write temporary files to /kaggle/temp/, but they won't be saved outside of the current session"
   ]
  },
  {
   "cell_type": "markdown",
   "id": "94dcec03",
   "metadata": {
    "papermill": {
     "duration": 0.010284,
     "end_time": "2024-02-04T07:32:23.179589",
     "exception": false,
     "start_time": "2024-02-04T07:32:23.169305",
     "status": "completed"
    },
    "tags": []
   },
   "source": [
    "# fashion mnist dataset을 통한 딥러닝 학습 실습을 정리하기 위한 공간임\n",
    "\n",
    "* 일반적으로 로직은\n",
    "* functional api 모델 생성 후 pixel 값 조정 및 type 조정\n",
    "* one hot encoding 적용\n",
    "* 이후 학습 검증 테스트 데이터로 나눈다\n",
    "* 마지막으로 complie, 학습/예측/평가"
   ]
  },
  {
   "cell_type": "raw",
   "id": "6c29d6d7",
   "metadata": {
    "papermill": {
     "duration": 0.009441,
     "end_time": "2024-02-04T07:32:23.198604",
     "exception": false,
     "start_time": "2024-02-04T07:32:23.189163",
     "status": "completed"
    },
    "tags": []
   },
   "source": [
    "%config Completer.use_jedi = False"
   ]
  },
  {
   "cell_type": "markdown",
   "id": "5fde4100",
   "metadata": {
    "papermill": {
     "duration": 0.00957,
     "end_time": "2024-02-04T07:32:23.217784",
     "exception": false,
     "start_time": "2024-02-04T07:32:23.208214",
     "status": "completed"
    },
    "tags": []
   },
   "source": [
    "## 데이터 전처리 수행\n",
    "\n",
    "* 0에서 255 사이의 픽셀값을 0에서 1 사이로 변환. 이 과정을 거쳐야 성능 향상\n",
    "* array type은 float32. tensorflow도 데이터를 끌어올 떄 자동적으로 float32로 바꾼다\n",
    "* 전처리를 수행하기 전에 train_labels를 보면 type이 unit8로 되어 있음"
   ]
  },
  {
   "cell_type": "code",
   "execution_count": 2,
   "id": "5ba786c9",
   "metadata": {
    "execution": {
     "iopub.execute_input": "2024-02-04T07:32:23.239042Z",
     "iopub.status.busy": "2024-02-04T07:32:23.238623Z",
     "iopub.status.idle": "2024-02-04T07:32:38.356153Z",
     "shell.execute_reply": "2024-02-04T07:32:38.355098Z"
    },
    "papermill": {
     "duration": 15.130687,
     "end_time": "2024-02-04T07:32:38.358314",
     "exception": false,
     "start_time": "2024-02-04T07:32:23.227627",
     "status": "completed"
    },
    "tags": []
   },
   "outputs": [
    {
     "name": "stderr",
     "output_type": "stream",
     "text": [
      "2024-02-04 07:32:25.504887: E external/local_xla/xla/stream_executor/cuda/cuda_dnn.cc:9261] Unable to register cuDNN factory: Attempting to register factory for plugin cuDNN when one has already been registered\n",
      "2024-02-04 07:32:25.505009: E external/local_xla/xla/stream_executor/cuda/cuda_fft.cc:607] Unable to register cuFFT factory: Attempting to register factory for plugin cuFFT when one has already been registered\n",
      "2024-02-04 07:32:25.701122: E external/local_xla/xla/stream_executor/cuda/cuda_blas.cc:1515] Unable to register cuBLAS factory: Attempting to register factory for plugin cuBLAS when one has already been registered\n"
     ]
    },
    {
     "name": "stdout",
     "output_type": "stream",
     "text": [
      "Downloading data from https://storage.googleapis.com/tensorflow/tf-keras-datasets/train-labels-idx1-ubyte.gz\n",
      "29515/29515 [==============================] - 0s 0us/step\n",
      "Downloading data from https://storage.googleapis.com/tensorflow/tf-keras-datasets/train-images-idx3-ubyte.gz\n",
      "26421880/26421880 [==============================] - 0s 0us/step\n",
      "Downloading data from https://storage.googleapis.com/tensorflow/tf-keras-datasets/t10k-labels-idx1-ubyte.gz\n",
      "5148/5148 [==============================] - 0s 0us/step\n",
      "Downloading data from https://storage.googleapis.com/tensorflow/tf-keras-datasets/t10k-images-idx3-ubyte.gz\n",
      "4422102/4422102 [==============================] - 0s 0us/step\n",
      "<class 'numpy.uint8'>\n",
      "(60000, 28, 28)\n"
     ]
    }
   ],
   "source": [
    "from tensorflow.keras.datasets import fashion_mnist\n",
    "\n",
    "(train_images, train_labels), (test_images, test_labels) = fashion_mnist.load_data()\n",
    "\n",
    "# 전처리를 수행하기 전 데이터들을 보면 type이 unit8임\n",
    "print(type(train_images[0][0][0]))\n",
    "print(train_images.shape)"
   ]
  },
  {
   "cell_type": "code",
   "execution_count": 3,
   "id": "56ec3064",
   "metadata": {
    "execution": {
     "iopub.execute_input": "2024-02-04T07:32:38.383182Z",
     "iopub.status.busy": "2024-02-04T07:32:38.382569Z",
     "iopub.status.idle": "2024-02-04T07:32:38.387498Z",
     "shell.execute_reply": "2024-02-04T07:32:38.386620Z"
    },
    "papermill": {
     "duration": 0.020169,
     "end_time": "2024-02-04T07:32:38.389678",
     "exception": false,
     "start_time": "2024-02-04T07:32:38.369509",
     "status": "completed"
    },
    "tags": []
   },
   "outputs": [
    {
     "name": "stdout",
     "output_type": "stream",
     "text": [
      "(10000, 28, 28)\n"
     ]
    }
   ],
   "source": [
    "print(test_images.shape)"
   ]
  },
  {
   "cell_type": "code",
   "execution_count": 4,
   "id": "7849ff4a",
   "metadata": {
    "execution": {
     "iopub.execute_input": "2024-02-04T07:32:38.413409Z",
     "iopub.status.busy": "2024-02-04T07:32:38.413090Z",
     "iopub.status.idle": "2024-02-04T07:32:38.676909Z",
     "shell.execute_reply": "2024-02-04T07:32:38.675979Z"
    },
    "papermill": {
     "duration": 0.277693,
     "end_time": "2024-02-04T07:32:38.678849",
     "exception": false,
     "start_time": "2024-02-04T07:32:38.401156",
     "status": "completed"
    },
    "tags": []
   },
   "outputs": [
    {
     "data": {
      "text/plain": [
       "Text(0.5, 1.0, '9')"
      ]
     },
     "execution_count": 4,
     "metadata": {},
     "output_type": "execute_result"
    },
    {
     "data": {
      "image/png": "[encoded data removed]",
      "text/plain": [
       "<Figure size 640x480 with 1 Axes>"
      ]
     },
     "metadata": {},
     "output_type": "display_data"
    }
   ],
   "source": [
    "# fashion mnist 데이터 샘플 출력\n",
    "\n",
    "import matplotlib.pyplot as plt\n",
    "%matplotlib inline\n",
    "\n",
    "plt.imshow(train_images[0], cmap='gray')\n",
    "plt.title(train_labels[0])"
   ]
  },
  {
   "cell_type": "code",
   "execution_count": 5,
   "id": "a8474508",
   "metadata": {
    "execution": {
     "iopub.execute_input": "2024-02-04T07:32:38.703376Z",
     "iopub.status.busy": "2024-02-04T07:32:38.703069Z",
     "iopub.status.idle": "2024-02-04T07:32:39.665479Z",
     "shell.execute_reply": "2024-02-04T07:32:39.664526Z"
    },
    "papermill": {
     "duration": 0.980641,
     "end_time": "2024-02-04T07:32:39.671154",
     "exception": false,
     "start_time": "2024-02-04T07:32:38.690513",
     "status": "completed"
    },
    "tags": []
   },
   "outputs": [
    {
     "name": "stdout",
     "output_type": "stream",
     "text": [
      "Model: \"model\"\n",
      "_________________________________________________________________\n",
      " Layer (type)                Output Shape              Param #   \n",
      "=================================================================\n",
      " input_1 (InputLayer)        [(None, 28, 28)]          0         \n",
      "                                                                 \n",
      " flatten (Flatten)           (None, 784)               0         \n",
      "                                                                 \n",
      " dense (Dense)               (None, 100)               78500     \n",
      "                                                                 \n",
      " dense_1 (Dense)             (None, 30)                3030      \n",
      "                                                                 \n",
      " dense_2 (Dense)             (None, 10)                310       \n",
      "                                                                 \n",
      "=================================================================\n",
      "Total params: 81840 (319.69 KB)\n",
      "Trainable params: 81840 (319.69 KB)\n",
      "Non-trainable params: 0 (0.00 Byte)\n",
      "_________________________________________________________________\n"
     ]
    }
   ],
   "source": [
    "# functional api를 이용한 model 생성\n",
    "\n",
    "from tensorflow.keras.layers import  Layer, Input, Dense, Flatten\n",
    "from tensorflow.keras.models import Model\n",
    "import tensorflow as tf\n",
    "\n",
    "INPUT_SIZE = 28\n",
    "\n",
    "def create_model():\n",
    "    input_tensor = Input(shape=(INPUT_SIZE, INPUT_SIZE))\n",
    "    x = Flatten()(input_tensor)\n",
    "    x = Dense(100, activation='relu')(x)\n",
    "    x = Dense(30, activation='relu')(x)\n",
    "    output = Dense(10, activation='softmax')(x)\n",
    "    \n",
    "    # functional api의 경우 multi input output을 지원하는데 sequentail은 불가능\n",
    "    model = Model(inputs=input_tensor, outputs=output)\n",
    "    \n",
    "    return model\n",
    "\n",
    "model = create_model()\n",
    "model.summary()"
   ]
  },
  {
   "cell_type": "code",
   "execution_count": 6,
   "id": "f2e43dfe",
   "metadata": {
    "execution": {
     "iopub.execute_input": "2024-02-04T07:32:39.698265Z",
     "iopub.status.busy": "2024-02-04T07:32:39.697950Z",
     "iopub.status.idle": "2024-02-04T07:32:40.741151Z",
     "shell.execute_reply": "2024-02-04T07:32:40.740297Z"
    },
    "papermill": {
     "duration": 1.05949,
     "end_time": "2024-02-04T07:32:40.743810",
     "exception": false,
     "start_time": "2024-02-04T07:32:39.684320",
     "status": "completed"
    },
    "tags": []
   },
   "outputs": [],
   "source": [
    "# 데이터 전처리 함수\n",
    "\n",
    "from tensorflow.keras.utils import to_categorical\n",
    "from sklearn.model_selection import train_test_split\n",
    "\n",
    "# 0~1 사잇값의 float32로 전처리\n",
    "\n",
    "def get_preprocessed_data(images, labels):\n",
    "    images = np.array(images/255.0, dtype=np.float32)\n",
    "    labels = np.array(labels, dtype=np.float32)\n",
    "    \n",
    "    return images, labels\n",
    "\n",
    "# 0~1 사잇값 float32로 변경하는 함수 호출 후 one hot encoding 적용\n",
    "\n",
    "def get_preprocessed_ohe(images, labels):\n",
    "    images, labels = get_preprocessed_data(images, labels)\n",
    "    \n",
    "    # labels 데이터를 one hot encoding\n",
    "    oh_labels = to_categorical(labels)\n",
    "    \n",
    "    return images, oh_labels\n",
    "\n",
    "# 학습/검증/테스트 데이터 세트에 전처리 및 one hot encoding 적용\n",
    "# 여기서 전처리 및 one hot encoding 과정을 거친 후 학습과 검증 데이터를 분리하면 효율적\n",
    "\n",
    "def get_train_valid_test_split(train_images, train_labels, test_images, test_labels, valid_size=0.15, random_state=42):\n",
    "    \n",
    "    # 학습과 테스트 데이터의 전처리 후 학습이랑 검증 데이터 분리\n",
    "    train_images, train_oh_labels = get_preprocessed_ohe(train_images, train_labels)\n",
    "    test_images, test_oh_labels = get_preprocessed_ohe(test_images, test_labels)\n",
    "    \n",
    "    # 학습과 검증 데이터 분리\n",
    "    train_images, valid_images, train_oh_images, valid_oh_labels = train_test_split(train_images, train_oh_labels, test_size=valid_size, random_state=random_state)\n",
    "    \n",
    "    return (train_images, train_oh_images), (valid_images, valid_oh_labels), (test_images, test_oh_labels)"
   ]
  },
  {
   "cell_type": "code",
   "execution_count": 7,
   "id": "35c2e9cc",
   "metadata": {
    "execution": {
     "iopub.execute_input": "2024-02-04T07:32:40.772746Z",
     "iopub.status.busy": "2024-02-04T07:32:40.772046Z",
     "iopub.status.idle": "2024-02-04T07:32:41.456143Z",
     "shell.execute_reply": "2024-02-04T07:32:41.455036Z"
    },
    "papermill": {
     "duration": 0.700939,
     "end_time": "2024-02-04T07:32:41.458640",
     "exception": false,
     "start_time": "2024-02-04T07:32:40.757701",
     "status": "completed"
    },
    "tags": []
   },
   "outputs": [
    {
     "name": "stdout",
     "output_type": "stream",
     "text": [
      "<class 'numpy.ndarray'>\n",
      "((51000, 28, 28), (51000, 10))\n"
     ]
    }
   ],
   "source": [
    "# 데이터 전처리 함수를 활용한 실제 데이터 전처리\n",
    "\n",
    "from tensorflow.keras.datasets import fashion_mnist\n",
    "\n",
    "# fashion mnist 데이터 재 로딩 및 전처리 적용해서 학습/검증/테스트 데이터 세트 결정\n",
    "# 데이터 받아오기 / 처음 받아오는 데이터 타입은 numpy.ndarray이다\n",
    "\n",
    "(train_images, train_labels), (test_images, test_labels) = fashion_mnist.load_data()\n",
    "print(type(train_labels))\n",
    "\n",
    "(tr_images, tr_oh_labels), (val_images, val_oh_labels), (test_images, test_oh_labels) = \\\n",
    "    get_train_valid_test_split(train_images, train_labels, test_images, test_labels, valid_size=0.15, random_state=42)\n",
    "\n",
    "print((tr_images.shape, tr_oh_labels.shape))  # labels를 보면 one hot encoding이 되어 있다"
   ]
  },
  {
   "cell_type": "markdown",
   "id": "411224a2",
   "metadata": {
    "papermill": {
     "duration": 0.012539,
     "end_time": "2024-02-04T07:32:41.486188",
     "exception": false,
     "start_time": "2024-02-04T07:32:41.473649",
     "status": "completed"
    },
    "tags": []
   },
   "source": [
    "# loss와 optimizer 설정을 통한 학습 수행\n",
    "* loss는 categorical_crossentropy로, optimizer는 Adam으로 설정\n",
    "* categorical crossentropy를 위해서 Label을 one hot encoding으로 변경(keras의 to_categorical을 통해)"
   ]
  },
  {
   "cell_type": "code",
   "execution_count": 8,
   "id": "9a89d842",
   "metadata": {
    "execution": {
     "iopub.execute_input": "2024-02-04T07:32:41.513137Z",
     "iopub.status.busy": "2024-02-04T07:32:41.512835Z",
     "iopub.status.idle": "2024-02-04T07:32:41.592580Z",
     "shell.execute_reply": "2024-02-04T07:32:41.591848Z"
    },
    "papermill": {
     "duration": 0.095561,
     "end_time": "2024-02-04T07:32:41.594461",
     "exception": false,
     "start_time": "2024-02-04T07:32:41.498900",
     "status": "completed"
    },
    "tags": []
   },
   "outputs": [
    {
     "name": "stdout",
     "output_type": "stream",
     "text": [
      "Model: \"model_1\"\n",
      "_________________________________________________________________\n",
      " Layer (type)                Output Shape              Param #   \n",
      "=================================================================\n",
      " input_2 (InputLayer)        [(None, 28, 28)]          0         \n",
      "                                                                 \n",
      " flatten_1 (Flatten)         (None, 784)               0         \n",
      "                                                                 \n",
      " dense_3 (Dense)             (None, 100)               78500     \n",
      "                                                                 \n",
      " dense_4 (Dense)             (None, 30)                3030      \n",
      "                                                                 \n",
      " dense_5 (Dense)             (None, 10)                310       \n",
      "                                                                 \n",
      "=================================================================\n",
      "Total params: 81840 (319.69 KB)\n",
      "Trainable params: 81840 (319.69 KB)\n",
      "Non-trainable params: 0 (0.00 Byte)\n",
      "_________________________________________________________________\n"
     ]
    }
   ],
   "source": [
    "from tensorflow.keras.optimizers import Adam\n",
    "\n",
    "# model 생성 및 optimizer, loss, metric 적용\n",
    "\n",
    "model = create_model()\n",
    "model.summary()\n",
    "\n",
    "# compile을 통해 loss 함수와 optimizer 설정\n",
    "# one hot encoding이 되었으면 categorical, 아닌 경우 sparse categorical\n",
    "model.compile(optimizer='Adam', loss='categorical_crossentropy', metrics=['accuracy'])\n"
   ]
  },
  {
   "cell_type": "code",
   "execution_count": 9,
   "id": "0f7d1753",
   "metadata": {
    "execution": {
     "iopub.execute_input": "2024-02-04T07:32:41.624225Z",
     "iopub.status.busy": "2024-02-04T07:32:41.623950Z",
     "iopub.status.idle": "2024-02-04T07:33:23.634780Z",
     "shell.execute_reply": "2024-02-04T07:33:23.633923Z"
    },
    "papermill": {
     "duration": 42.028354,
     "end_time": "2024-02-04T07:33:23.636994",
     "exception": false,
     "start_time": "2024-02-04T07:32:41.608640",
     "status": "completed"
    },
    "tags": []
   },
   "outputs": [
    {
     "name": "stdout",
     "output_type": "stream",
     "text": [
      "Epoch 1/20\n"
     ]
    },
    {
     "name": "stderr",
     "output_type": "stream",
     "text": [
      "WARNING: All log messages before absl::InitializeLog() is called are written to STDERR\n",
      "I0000 00:00:1707031963.644760      72 device_compiler.h:186] Compiled cluster using XLA!  This line is logged at most once for the lifetime of the process.\n"
     ]
    },
    {
     "name": "stdout",
     "output_type": "stream",
     "text": [
      "399/399 [==============================] - 4s 4ms/step - loss: 0.5897 - accuracy: 0.7964 - val_loss: 0.4618 - val_accuracy: 0.8378\n",
      "Epoch 2/20\n",
      "399/399 [==============================] - 1s 3ms/step - loss: 0.4177 - accuracy: 0.8525 - val_loss: 0.4120 - val_accuracy: 0.8547\n",
      "Epoch 3/20\n",
      "399/399 [==============================] - 1s 3ms/step - loss: 0.3754 - accuracy: 0.8654 - val_loss: 0.3866 - val_accuracy: 0.8642\n",
      "Epoch 4/20\n",
      "399/399 [==============================] - 1s 3ms/step - loss: 0.3458 - accuracy: 0.8754 - val_loss: 0.3585 - val_accuracy: 0.8721\n",
      "Epoch 5/20\n",
      "399/399 [==============================] - 1s 3ms/step - loss: 0.3259 - accuracy: 0.8829 - val_loss: 0.3822 - val_accuracy: 0.8648\n",
      "Epoch 6/20\n",
      "399/399 [==============================] - 1s 3ms/step - loss: 0.3155 - accuracy: 0.8851 - val_loss: 0.3555 - val_accuracy: 0.8708\n",
      "Epoch 7/20\n",
      "399/399 [==============================] - 1s 4ms/step - loss: 0.2993 - accuracy: 0.8904 - val_loss: 0.3450 - val_accuracy: 0.8757\n",
      "Epoch 8/20\n",
      "399/399 [==============================] - 1s 4ms/step - loss: 0.2881 - accuracy: 0.8936 - val_loss: 0.3287 - val_accuracy: 0.8814\n",
      "Epoch 9/20\n",
      "399/399 [==============================] - 1s 3ms/step - loss: 0.2806 - accuracy: 0.8966 - val_loss: 0.3392 - val_accuracy: 0.8770\n",
      "Epoch 10/20\n",
      "399/399 [==============================] - 1s 3ms/step - loss: 0.2672 - accuracy: 0.9014 - val_loss: 0.3388 - val_accuracy: 0.8797\n",
      "Epoch 11/20\n",
      "399/399 [==============================] - 1s 3ms/step - loss: 0.2619 - accuracy: 0.9041 - val_loss: 0.3505 - val_accuracy: 0.8774\n",
      "Epoch 12/20\n",
      "399/399 [==============================] - 1s 3ms/step - loss: 0.2549 - accuracy: 0.9058 - val_loss: 0.3396 - val_accuracy: 0.8758\n",
      "Epoch 13/20\n",
      "399/399 [==============================] - 1s 3ms/step - loss: 0.2464 - accuracy: 0.9089 - val_loss: 0.3207 - val_accuracy: 0.8872\n",
      "Epoch 14/20\n",
      "399/399 [==============================] - 1s 3ms/step - loss: 0.2414 - accuracy: 0.9111 - val_loss: 0.3422 - val_accuracy: 0.8806\n",
      "Epoch 15/20\n",
      "399/399 [==============================] - 1s 3ms/step - loss: 0.2324 - accuracy: 0.9127 - val_loss: 0.3264 - val_accuracy: 0.8873\n",
      "Epoch 16/20\n",
      "399/399 [==============================] - 1s 3ms/step - loss: 0.2298 - accuracy: 0.9147 - val_loss: 0.3301 - val_accuracy: 0.8791\n",
      "Epoch 17/20\n",
      "399/399 [==============================] - 1s 3ms/step - loss: 0.2235 - accuracy: 0.9165 - val_loss: 0.3307 - val_accuracy: 0.8849\n",
      "Epoch 18/20\n",
      "399/399 [==============================] - 1s 3ms/step - loss: 0.2163 - accuracy: 0.9199 - val_loss: 0.3252 - val_accuracy: 0.8847\n",
      "Epoch 19/20\n",
      "399/399 [==============================] - 1s 3ms/step - loss: 0.2139 - accuracy: 0.9195 - val_loss: 0.3215 - val_accuracy: 0.8922\n",
      "Epoch 20/20\n",
      "399/399 [==============================] - 1s 3ms/step - loss: 0.2054 - accuracy: 0.9236 - val_loss: 0.3226 - val_accuracy: 0.8852\n"
     ]
    }
   ],
   "source": [
    "# 학습 수행의 경우 model의 fit을 통해 진행\n",
    "# history를 통해 결과를 받는다. loss와 accuracy metrics를 받는다\n",
    "# epoch를 통해 6만개를 batch 수만큼 쪼개서 학습하는데 이걸 epoch 횟수만큼 반복\n",
    "\n",
    "history = model.fit(x=tr_images, y=tr_oh_labels, batch_size=128, epochs=20, validation_data=(val_images, val_oh_labels))"
   ]
  },
  {
   "cell_type": "code",
   "execution_count": 10,
   "id": "e57d0908",
   "metadata": {
    "execution": {
     "iopub.execute_input": "2024-02-04T07:33:23.746159Z",
     "iopub.status.busy": "2024-02-04T07:33:23.745849Z",
     "iopub.status.idle": "2024-02-04T07:33:23.753547Z",
     "shell.execute_reply": "2024-02-04T07:33:23.752719Z"
    },
    "papermill": {
     "duration": 0.063423,
     "end_time": "2024-02-04T07:33:23.755438",
     "exception": false,
     "start_time": "2024-02-04T07:33:23.692015",
     "status": "completed"
    },
    "tags": []
   },
   "outputs": [
    {
     "data": {
      "text/plain": [
       "{'loss': [0.5896711349487305,\n",
       "  0.41771572828292847,\n",
       "  0.3754328191280365,\n",
       "  0.3458065986633301,\n",
       "  0.3259369134902954,\n",
       "  0.3155412971973419,\n",
       "  0.2993238866329193,\n",
       "  0.2881312668323517,\n",
       "  0.2805613875389099,\n",
       "  0.2672165036201477,\n",
       "  0.26188766956329346,\n",
       "  0.25489556789398193,\n",
       "  0.2464272677898407,\n",
       "  0.24137383699417114,\n",
       "  0.23242823779582977,\n",
       "  0.22979310154914856,\n",
       "  0.2235359400510788,\n",
       "  0.21631233394145966,\n",
       "  0.2139105349779129,\n",
       "  0.20539622008800507],\n",
       " 'accuracy': [0.7964313626289368,\n",
       "  0.8524901866912842,\n",
       "  0.8654313683509827,\n",
       "  0.8754117488861084,\n",
       "  0.8828823566436768,\n",
       "  0.8850784301757812,\n",
       "  0.8904313445091248,\n",
       "  0.8936470746994019,\n",
       "  0.8966078162193298,\n",
       "  0.901411771774292,\n",
       "  0.9040784239768982,\n",
       "  0.905803918838501,\n",
       "  0.9088823795318604,\n",
       "  0.911098062992096,\n",
       "  0.9127255082130432,\n",
       "  0.9147450923919678,\n",
       "  0.9164901971817017,\n",
       "  0.9199411869049072,\n",
       "  0.9194509983062744,\n",
       "  0.923568606376648],\n",
       " 'val_loss': [0.46179789304733276,\n",
       "  0.41204938292503357,\n",
       "  0.3866032361984253,\n",
       "  0.3584819734096527,\n",
       "  0.38218286633491516,\n",
       "  0.3555125892162323,\n",
       "  0.34501636028289795,\n",
       "  0.32866352796554565,\n",
       "  0.3391941785812378,\n",
       "  0.33880889415740967,\n",
       "  0.35052329301834106,\n",
       "  0.33959493041038513,\n",
       "  0.32065093517303467,\n",
       "  0.342225581407547,\n",
       "  0.3264279365539551,\n",
       "  0.33010733127593994,\n",
       "  0.3307172656059265,\n",
       "  0.32522085309028625,\n",
       "  0.3214830756187439,\n",
       "  0.32262688875198364],\n",
       " 'val_accuracy': [0.8377777934074402,\n",
       "  0.8546666502952576,\n",
       "  0.8642222285270691,\n",
       "  0.8721110820770264,\n",
       "  0.8647778034210205,\n",
       "  0.8707777857780457,\n",
       "  0.8756666779518127,\n",
       "  0.8814444541931152,\n",
       "  0.8769999742507935,\n",
       "  0.8796666860580444,\n",
       "  0.8774444460868835,\n",
       "  0.8757777810096741,\n",
       "  0.8872222304344177,\n",
       "  0.8805555701255798,\n",
       "  0.887333333492279,\n",
       "  0.879111111164093,\n",
       "  0.8848888874053955,\n",
       "  0.8846666812896729,\n",
       "  0.8922222256660461,\n",
       "  0.8852221965789795]}"
      ]
     },
     "execution_count": 10,
     "metadata": {},
     "output_type": "execute_result"
    }
   ],
   "source": [
    "history.history"
   ]
  },
  {
   "cell_type": "code",
   "execution_count": 11,
   "id": "f6b925d2",
   "metadata": {
    "execution": {
     "iopub.execute_input": "2024-02-04T07:33:23.862386Z",
     "iopub.status.busy": "2024-02-04T07:33:23.862091Z",
     "iopub.status.idle": "2024-02-04T07:33:24.100941Z",
     "shell.execute_reply": "2024-02-04T07:33:24.100063Z"
    },
    "papermill": {
     "duration": 0.294542,
     "end_time": "2024-02-04T07:33:24.102860",
     "exception": false,
     "start_time": "2024-02-04T07:33:23.808318",
     "status": "completed"
    },
    "tags": []
   },
   "outputs": [
    {
     "data": {
      "image/png": "[encoded data removed]",
      "text/plain": [
       "<Figure size 640x480 with 1 Axes>"
      ]
     },
     "metadata": {},
     "output_type": "display_data"
    }
   ],
   "source": [
    "import matplotlib.pyplot as plt\n",
    "%matplotlib inline\n",
    "\n",
    "def show_history(hisotry):\n",
    "    plt.plot(history.history['accuracy'], label='train')\n",
    "    plt.plot(history.history['val_accuracy'], label='valid')\n",
    "    plt.legend()\n",
    "    \n",
    "show_history(history)"
   ]
  },
  {
   "cell_type": "code",
   "execution_count": 12,
   "id": "26a2c430",
   "metadata": {
    "execution": {
     "iopub.execute_input": "2024-02-04T07:33:24.213068Z",
     "iopub.status.busy": "2024-02-04T07:33:24.212773Z",
     "iopub.status.idle": "2024-02-04T07:33:24.468949Z",
     "shell.execute_reply": "2024-02-04T07:33:24.467996Z"
    },
    "papermill": {
     "duration": 0.313506,
     "end_time": "2024-02-04T07:33:24.470960",
     "exception": false,
     "start_time": "2024-02-04T07:33:24.157454",
     "status": "completed"
    },
    "tags": []
   },
   "outputs": [
    {
     "name": "stdout",
     "output_type": "stream",
     "text": [
      "40/40 [==============================] - 0s 3ms/step - loss: 0.3529 - accuracy: 0.8812\n"
     ]
    },
    {
     "data": {
      "text/plain": [
       "[0.3528536856174469, 0.8812000155448914]"
      ]
     },
     "execution_count": 12,
     "metadata": {},
     "output_type": "execute_result"
    }
   ],
   "source": [
    "# 테스트 세트로 모델 성능 검증\n",
    "\n",
    "model.evaluate(x=test_images, y=test_oh_labels, batch_size=256, verbose=1)"
   ]
  },
  {
   "cell_type": "markdown",
   "id": "d2a962a1",
   "metadata": {
    "papermill": {
     "duration": 0.054901,
     "end_time": "2024-02-04T07:33:24.581305",
     "exception": false,
     "start_time": "2024-02-04T07:33:24.526404",
     "status": "completed"
    },
    "tags": []
   },
   "source": [
    "## callback\n",
    "* 학습 iteration을 수행할 때 특정 event가 발생하는 경우 호출하는 기능들\n",
    "* 대표적으로 ModelCheckpoint(), ReduceLROnPlateau(), LearningRateScheduler(), EarlyStopping(), TensorBoard 등이 있음"
   ]
  },
  {
   "cell_type": "markdown",
   "id": "42e1013a",
   "metadata": {
    "papermill": {
     "duration": 0.056707,
     "end_time": "2024-02-04T07:33:24.736006",
     "exception": false,
     "start_time": "2024-02-04T07:33:24.679299",
     "status": "completed"
    },
    "tags": []
   },
   "source": [
    "### ModelCheckpoint(filepath, monitor='val_loss', verbose=0, save_best_only=False, save_weights_only=False, mode='auto', period=1)\n",
    "\n",
    "* 특정 조건에 맞춰서 모델을 파일에 저장\n",
    "* filepath: filepath의 경우 on epoch end에서 전달되는 epoch 값과 logs의 키로 채워진 이름 형식 옵션을 가질 수 있다. 예를 들어 filepath가 weights.{epoch:02d}-{val_loss:.2f}.hdf5d인 경우, 파일 이름에 세대 번호와 검증 손실을 넣어 모델의 체크포인트가 저장된다\n",
    "* monitor: 모니터할 지표(loss 또는 평가 지표) / 대표적으론 val_loss, val_accuracy\n",
    "* save_best_only: 가장 좋은 성능을 나타내는 모델만 저장할 여부\n",
    "* save_weights_only: weights만 저장여부 / 성능 및 버그 감소를 위해 True로 두는 것이 좋고, save weights를 통해 저장된 값은 load weights를 통해 다시 불러오면 된다\n",
    "* mode: {auto, min, max} 중 하나. monitor 지표가 감소해야 좋을 경우, 증가해야 좋은 경우를 구분해서 입력하면 된다. auto로 두면 알아서 분류해주긴 하는데 간혹 틀린 경우가 있어 직접 명시적으로 지정해주는 것이 좋다.\n",
    "* periods를 길게 설정하면 save weights 같은 작업 반복 주기를 늘릴 수 있다."
   ]
  },
  {
   "cell_type": "code",
   "execution_count": 13,
   "id": "d7f7f337",
   "metadata": {
    "execution": {
     "iopub.execute_input": "2024-02-04T07:33:24.866357Z",
     "iopub.status.busy": "2024-02-04T07:33:24.865968Z",
     "iopub.status.idle": "2024-02-04T07:33:25.886220Z",
     "shell.execute_reply": "2024-02-04T07:33:25.885259Z"
    },
    "papermill": {
     "duration": 1.086434,
     "end_time": "2024-02-04T07:33:25.888517",
     "exception": false,
     "start_time": "2024-02-04T07:33:24.802083",
     "status": "completed"
    },
    "tags": []
   },
   "outputs": [
    {
     "name": "stdout",
     "output_type": "stream",
     "text": [
      "/kaggle/working\r\n"
     ]
    }
   ],
   "source": [
    "# 현재 dir 위치\n",
    "!pwd"
   ]
  },
  {
   "cell_type": "code",
   "execution_count": 14,
   "id": "a15567a3",
   "metadata": {
    "execution": {
     "iopub.execute_input": "2024-02-04T07:33:26.000313Z",
     "iopub.status.busy": "2024-02-04T07:33:25.999977Z",
     "iopub.status.idle": "2024-02-04T07:33:40.868219Z",
     "shell.execute_reply": "2024-02-04T07:33:40.867219Z"
    },
    "papermill": {
     "duration": 14.926042,
     "end_time": "2024-02-04T07:33:40.870540",
     "exception": false,
     "start_time": "2024-02-04T07:33:25.944498",
     "status": "completed"
    },
    "tags": []
   },
   "outputs": [
    {
     "name": "stdout",
     "output_type": "stream",
     "text": [
      "Epoch 1/10\n",
      "394/399 [============================>.] - ETA: 0s - loss: 0.5422 - accuracy: 0.8098\n",
      "Epoch 1: val_loss improved from inf to 0.43803, saving model to /kaggle/working/weights.01-0.44.hdf5\n",
      "399/399 [==============================] - 2s 4ms/step - loss: 0.5401 - accuracy: 0.8105 - val_loss: 0.4380 - val_accuracy: 0.8456\n",
      "Epoch 2/10\n",
      "389/399 [============================>.] - ETA: 0s - loss: 0.4012 - accuracy: 0.8552\n",
      "Epoch 2: val_loss improved from 0.43803 to 0.41063, saving model to /kaggle/working/weights.02-0.41.hdf5\n",
      "399/399 [==============================] - 1s 3ms/step - loss: 0.4014 - accuracy: 0.8554 - val_loss: 0.4106 - val_accuracy: 0.8548\n",
      "Epoch 3/10\n",
      "396/399 [============================>.] - ETA: 0s - loss: 0.3695 - accuracy: 0.8647\n",
      "Epoch 3: val_loss improved from 0.41063 to 0.41035, saving model to /kaggle/working/weights.03-0.41.hdf5\n",
      "399/399 [==============================] - 1s 3ms/step - loss: 0.3698 - accuracy: 0.8646 - val_loss: 0.4103 - val_accuracy: 0.8539\n",
      "Epoch 4/10\n",
      "395/399 [============================>.] - ETA: 0s - loss: 0.3519 - accuracy: 0.8710\n",
      "Epoch 4: val_loss improved from 0.41035 to 0.37829, saving model to /kaggle/working/weights.04-0.38.hdf5\n",
      "399/399 [==============================] - 1s 3ms/step - loss: 0.3515 - accuracy: 0.8711 - val_loss: 0.3783 - val_accuracy: 0.8659\n",
      "Epoch 5/10\n",
      "396/399 [============================>.] - ETA: 0s - loss: 0.3376 - accuracy: 0.8763\n",
      "Epoch 5: val_loss improved from 0.37829 to 0.36323, saving model to /kaggle/working/weights.05-0.36.hdf5\n",
      "399/399 [==============================] - 1s 3ms/step - loss: 0.3381 - accuracy: 0.8762 - val_loss: 0.3632 - val_accuracy: 0.8713\n",
      "Epoch 6/10\n",
      "398/399 [============================>.] - ETA: 0s - loss: 0.3278 - accuracy: 0.8795\n",
      "Epoch 6: val_loss did not improve from 0.36323\n",
      "399/399 [==============================] - 1s 3ms/step - loss: 0.3277 - accuracy: 0.8795 - val_loss: 0.3953 - val_accuracy: 0.8561\n",
      "Epoch 7/10\n",
      "391/399 [============================>.] - ETA: 0s - loss: 0.3184 - accuracy: 0.8837\n",
      "Epoch 7: val_loss did not improve from 0.36323\n",
      "399/399 [==============================] - 1s 3ms/step - loss: 0.3190 - accuracy: 0.8836 - val_loss: 0.3711 - val_accuracy: 0.8671\n",
      "Epoch 8/10\n",
      "392/399 [============================>.] - ETA: 0s - loss: 0.3166 - accuracy: 0.8850\n",
      "Epoch 8: val_loss did not improve from 0.36323\n",
      "399/399 [==============================] - 1s 3ms/step - loss: 0.3166 - accuracy: 0.8850 - val_loss: 0.3880 - val_accuracy: 0.8661\n",
      "Epoch 9/10\n",
      "391/399 [============================>.] - ETA: 0s - loss: 0.3054 - accuracy: 0.8864\n",
      "Epoch 9: val_loss improved from 0.36323 to 0.36314, saving model to /kaggle/working/weights.09-0.36.hdf5\n",
      "399/399 [==============================] - 1s 3ms/step - loss: 0.3056 - accuracy: 0.8864 - val_loss: 0.3631 - val_accuracy: 0.8727\n",
      "Epoch 10/10\n",
      "389/399 [============================>.] - ETA: 0s - loss: 0.2987 - accuracy: 0.8907\n",
      "Epoch 10: val_loss did not improve from 0.36314\n",
      "399/399 [==============================] - 1s 3ms/step - loss: 0.2989 - accuracy: 0.8908 - val_loss: 0.3867 - val_accuracy: 0.8613\n"
     ]
    }
   ],
   "source": [
    "# 참고로 keras의 metrics(메트릭이라고 부르기도 함)은 평가지표를 의미한다\n",
    "\n",
    "from tensorflow.keras.callbacks import ModelCheckpoint\n",
    "\n",
    "model = create_model()\n",
    "model.compile(optimizer=Adam(0.01), loss='categorical_crossentropy', metrics=['accuracy'])\n",
    "\n",
    "mcp_ob = ModelCheckpoint(filepath='/kaggle/working/weights.{epoch:02d}-{val_loss:.2f}.hdf5', monitor='val_loss',\n",
    "                        save_best_only=True, save_weights_only=True, mode='min', periods=3, verbose=1)\n",
    "history = model.fit(x=tr_images, y=tr_oh_labels, batch_size=128, epochs=10, validation_data=(val_images, val_oh_labels),\n",
    "                   callbacks=[mcp_ob])"
   ]
  },
  {
   "cell_type": "code",
   "execution_count": 15,
   "id": "04705847",
   "metadata": {
    "execution": {
     "iopub.execute_input": "2024-02-04T07:33:41.031429Z",
     "iopub.status.busy": "2024-02-04T07:33:41.030680Z",
     "iopub.status.idle": "2024-02-04T07:33:43.971767Z",
     "shell.execute_reply": "2024-02-04T07:33:43.970651Z"
    },
    "papermill": {
     "duration": 3.020463,
     "end_time": "2024-02-04T07:33:43.974192",
     "exception": false,
     "start_time": "2024-02-04T07:33:40.953729",
     "status": "completed"
    },
    "tags": []
   },
   "outputs": [
    {
     "name": "stdout",
     "output_type": "stream",
     "text": [
      "total 2404\r\n",
      "   786440 drwxr-xr-x 2 root root   4096 Feb  4 07:33 .\r\n",
      "268744977 drwxr-xr-x 6 root root   4096 Feb  4 07:32 ..\r\n",
      "   786441 ---------- 1 root root 363844 Feb  4 07:33 __notebook__.ipynb\r\n",
      "   786442 -rw-r--r-- 1 root root 344080 Feb  4 07:33 weights.01-0.44.hdf5\r\n",
      "   786443 -rw-r--r-- 1 root root 344080 Feb  4 07:33 weights.02-0.41.hdf5\r\n",
      "   786444 -rw-r--r-- 1 root root 344080 Feb  4 07:33 weights.03-0.41.hdf5\r\n",
      "   786445 -rw-r--r-- 1 root root 344080 Feb  4 07:33 weights.04-0.38.hdf5\r\n",
      "   786446 -rw-r--r-- 1 root root 344080 Feb  4 07:33 weights.05-0.36.hdf5\r\n",
      "   786447 -rw-r--r-- 1 root root 344080 Feb  4 07:33 weights.09-0.36.hdf5\r\n",
      "total 364\r\n",
      "   786440 drwxr-xr-x 2 root root   4096 Feb  4 07:33 .\r\n",
      "268744977 drwxr-xr-x 6 root root   4096 Feb  4 07:32 ..\r\n",
      "   786441 ---------- 1 root root 363844 Feb  4 07:33 __notebook__.ipynb\r\n"
     ]
    }
   ],
   "source": [
    "# 위 과정을 통해 save best only option으로 인해 여러개의 파이이 만들어진다\n",
    "\n",
    "!ls -lia\n",
    "\n",
    "!rm -rf weight*\n",
    "!ls -lia"
   ]
  },
  {
   "cell_type": "markdown",
   "id": "d9ad4052",
   "metadata": {
    "papermill": {
     "duration": 0.075765,
     "end_time": "2024-02-04T07:33:44.126721",
     "exception": false,
     "start_time": "2024-02-04T07:33:44.050956",
     "status": "completed"
    },
    "tags": []
   },
   "source": [
    "### ReduceLROnPlateau(monitor='val_loss', factor=0.1, patience=10, verbose=0, mode='auto', min_delta=0.0001, cooldown=0, min_lr=0\n",
    "* 특정 epoch 횟수 동안 성능이 개선되지 않을 시 learning rate를 동적으로 감소시킨다\n",
    "* monitor: 모니터할 지표로, loss 또는 여러 평가 지표\n",
    "* factor: 학습 속도를 줄일 인수, new_lr = lr(기존 learning rate) * factor\n",
    "* patience: Learning rate를 줄이기 전에 monitor할 epochs 횟수\n",
    "* mode: auto, min, max 중 하나"
   ]
  },
  {
   "cell_type": "code",
   "execution_count": 16,
   "id": "77486fdb",
   "metadata": {
    "execution": {
     "iopub.execute_input": "2024-02-04T07:33:44.278699Z",
     "iopub.status.busy": "2024-02-04T07:33:44.278319Z",
     "iopub.status.idle": "2024-02-04T07:34:25.829404Z",
     "shell.execute_reply": "2024-02-04T07:34:25.828437Z"
    },
    "papermill": {
     "duration": 41.62981,
     "end_time": "2024-02-04T07:34:25.831648",
     "exception": false,
     "start_time": "2024-02-04T07:33:44.201838",
     "status": "completed"
    },
    "tags": []
   },
   "outputs": [
    {
     "name": "stdout",
     "output_type": "stream",
     "text": [
      "Epoch 1/30\n",
      "399/399 [==============================] - 2s 4ms/step - loss: 0.6277 - accuracy: 0.7855 - val_loss: 0.4578 - val_accuracy: 0.8371 - lr: 0.0010\n",
      "Epoch 2/30\n",
      "399/399 [==============================] - 1s 3ms/step - loss: 0.4111 - accuracy: 0.8547 - val_loss: 0.4161 - val_accuracy: 0.8526 - lr: 0.0010\n",
      "Epoch 3/30\n",
      "399/399 [==============================] - 1s 3ms/step - loss: 0.3728 - accuracy: 0.8670 - val_loss: 0.3681 - val_accuracy: 0.8674 - lr: 0.0010\n",
      "Epoch 4/30\n",
      "399/399 [==============================] - 1s 3ms/step - loss: 0.3490 - accuracy: 0.8748 - val_loss: 0.3730 - val_accuracy: 0.8642 - lr: 0.0010\n",
      "Epoch 5/30\n",
      "399/399 [==============================] - 1s 3ms/step - loss: 0.3306 - accuracy: 0.8798 - val_loss: 0.3527 - val_accuracy: 0.8760 - lr: 0.0010\n",
      "Epoch 6/30\n",
      "399/399 [==============================] - 1s 3ms/step - loss: 0.3112 - accuracy: 0.8877 - val_loss: 0.3457 - val_accuracy: 0.8737 - lr: 0.0010\n",
      "Epoch 7/30\n",
      "399/399 [==============================] - 1s 3ms/step - loss: 0.2982 - accuracy: 0.8914 - val_loss: 0.3338 - val_accuracy: 0.8791 - lr: 0.0010\n",
      "Epoch 8/30\n",
      "399/399 [==============================] - 1s 4ms/step - loss: 0.2888 - accuracy: 0.8945 - val_loss: 0.3345 - val_accuracy: 0.8781 - lr: 0.0010\n",
      "Epoch 9/30\n",
      "399/399 [==============================] - 1s 3ms/step - loss: 0.2772 - accuracy: 0.8984 - val_loss: 0.3323 - val_accuracy: 0.8841 - lr: 0.0010\n",
      "Epoch 10/30\n",
      "399/399 [==============================] - 1s 3ms/step - loss: 0.2654 - accuracy: 0.9023 - val_loss: 0.3343 - val_accuracy: 0.8813 - lr: 0.0010\n",
      "Epoch 11/30\n",
      "399/399 [==============================] - 1s 3ms/step - loss: 0.2635 - accuracy: 0.9036 - val_loss: 0.3314 - val_accuracy: 0.8846 - lr: 0.0010\n",
      "Epoch 12/30\n",
      "399/399 [==============================] - 1s 3ms/step - loss: 0.2543 - accuracy: 0.9056 - val_loss: 0.3263 - val_accuracy: 0.8827 - lr: 0.0010\n",
      "Epoch 13/30\n",
      "399/399 [==============================] - 1s 3ms/step - loss: 0.2450 - accuracy: 0.9091 - val_loss: 0.3309 - val_accuracy: 0.8830 - lr: 0.0010\n",
      "Epoch 14/30\n",
      "399/399 [==============================] - 1s 3ms/step - loss: 0.2398 - accuracy: 0.9111 - val_loss: 0.3217 - val_accuracy: 0.8858 - lr: 0.0010\n",
      "Epoch 15/30\n",
      "399/399 [==============================] - 1s 3ms/step - loss: 0.2304 - accuracy: 0.9162 - val_loss: 0.3187 - val_accuracy: 0.8830 - lr: 0.0010\n",
      "Epoch 16/30\n",
      "399/399 [==============================] - 1s 3ms/step - loss: 0.2244 - accuracy: 0.9157 - val_loss: 0.3430 - val_accuracy: 0.8783 - lr: 0.0010\n",
      "Epoch 17/30\n",
      "399/399 [==============================] - 1s 3ms/step - loss: 0.2213 - accuracy: 0.9194 - val_loss: 0.3310 - val_accuracy: 0.8878 - lr: 0.0010\n",
      "Epoch 18/30\n",
      "389/399 [============================>.] - ETA: 0s - loss: 0.2154 - accuracy: 0.9202\n",
      "Epoch 18: ReduceLROnPlateau reducing learning rate to 0.0003000000142492354.\n",
      "399/399 [==============================] - 1s 3ms/step - loss: 0.2150 - accuracy: 0.9202 - val_loss: 0.3346 - val_accuracy: 0.8850 - lr: 0.0010\n",
      "Epoch 19/30\n",
      "399/399 [==============================] - 1s 3ms/step - loss: 0.1864 - accuracy: 0.9320 - val_loss: 0.3123 - val_accuracy: 0.8917 - lr: 3.0000e-04\n",
      "Epoch 20/30\n",
      "399/399 [==============================] - 1s 3ms/step - loss: 0.1810 - accuracy: 0.9348 - val_loss: 0.3152 - val_accuracy: 0.8893 - lr: 3.0000e-04\n",
      "Epoch 21/30\n",
      "399/399 [==============================] - 1s 3ms/step - loss: 0.1790 - accuracy: 0.9350 - val_loss: 0.3157 - val_accuracy: 0.8893 - lr: 3.0000e-04\n",
      "Epoch 22/30\n",
      "391/399 [============================>.] - ETA: 0s - loss: 0.1773 - accuracy: 0.9356\n",
      "Epoch 22: ReduceLROnPlateau reducing learning rate to 9.000000427477062e-05.\n",
      "399/399 [==============================] - 1s 3ms/step - loss: 0.1771 - accuracy: 0.9356 - val_loss: 0.3194 - val_accuracy: 0.8892 - lr: 3.0000e-04\n",
      "Epoch 23/30\n",
      "399/399 [==============================] - 1s 3ms/step - loss: 0.1674 - accuracy: 0.9399 - val_loss: 0.3109 - val_accuracy: 0.8918 - lr: 9.0000e-05\n",
      "Epoch 24/30\n",
      "399/399 [==============================] - 1s 3ms/step - loss: 0.1657 - accuracy: 0.9412 - val_loss: 0.3147 - val_accuracy: 0.8922 - lr: 9.0000e-05\n",
      "Epoch 25/30\n",
      "399/399 [==============================] - 1s 3ms/step - loss: 0.1647 - accuracy: 0.9415 - val_loss: 0.3132 - val_accuracy: 0.8911 - lr: 9.0000e-05\n",
      "Epoch 26/30\n",
      "392/399 [============================>.] - ETA: 0s - loss: 0.1643 - accuracy: 0.9418\n",
      "Epoch 26: ReduceLROnPlateau reducing learning rate to 2.700000040931627e-05.\n",
      "399/399 [==============================] - 1s 3ms/step - loss: 0.1638 - accuracy: 0.9420 - val_loss: 0.3160 - val_accuracy: 0.8924 - lr: 9.0000e-05\n",
      "Epoch 27/30\n",
      "399/399 [==============================] - 1s 3ms/step - loss: 0.1607 - accuracy: 0.9425 - val_loss: 0.3146 - val_accuracy: 0.8926 - lr: 2.7000e-05\n",
      "Epoch 28/30\n",
      "399/399 [==============================] - 1s 3ms/step - loss: 0.1603 - accuracy: 0.9434 - val_loss: 0.3135 - val_accuracy: 0.8923 - lr: 2.7000e-05\n",
      "Epoch 29/30\n",
      "399/399 [==============================] - ETA: 0s - loss: 0.1598 - accuracy: 0.9428\n",
      "Epoch 29: ReduceLROnPlateau reducing learning rate to 8.100000013655517e-06.\n",
      "399/399 [==============================] - 1s 3ms/step - loss: 0.1598 - accuracy: 0.9428 - val_loss: 0.3146 - val_accuracy: 0.8918 - lr: 2.7000e-05\n",
      "Epoch 30/30\n",
      "399/399 [==============================] - 1s 3ms/step - loss: 0.1588 - accuracy: 0.9439 - val_loss: 0.3143 - val_accuracy: 0.8928 - lr: 8.1000e-06\n"
     ]
    }
   ],
   "source": [
    "from tensorflow.keras.callbacks import ReduceLROnPlateau\n",
    "\n",
    "model = create_model()\n",
    "model.compile(optimizer=Adam(0.001), loss='categorical_crossentropy', metrics=['accuracy'])\n",
    "\n",
    "rlr_cb = ReduceLROnPlateau(monitors='val_loss', factor=0.3, patience=3, mode='min', verbose=1)\n",
    "\n",
    "history = model.fit(x=tr_images, y=tr_oh_labels, batch_size=128, epochs=30, validation_data=(val_images, val_oh_labels),\n",
    "                   callbacks=[rlr_cb])"
   ]
  },
  {
   "cell_type": "markdown",
   "id": "3a1df793",
   "metadata": {
    "papermill": {
     "duration": 0.133827,
     "end_time": "2024-02-04T07:34:26.110919",
     "exception": false,
     "start_time": "2024-02-04T07:34:25.977092",
     "status": "completed"
    },
    "tags": []
   },
   "source": [
    "### EarlyStopping(monitor='val_loss', min_delta=0, patience=0, verbose=0, mode='auto', baseline=None, restore_best_weights=False)\n",
    "* 특정 epochs 동안 성능이 개선되지 않을 시 학습을 조기에 중단\n",
    "* monitor: 모니터할 지표\n",
    "* patience: early stopping 적용 전에 monitor할 epochs 횟수\n",
    "* mode: auto min max 중 선택"
   ]
  },
  {
   "cell_type": "code",
   "execution_count": 17,
   "id": "368b23ed",
   "metadata": {
    "execution": {
     "iopub.execute_input": "2024-02-04T07:34:26.380334Z",
     "iopub.status.busy": "2024-02-04T07:34:26.379509Z",
     "iopub.status.idle": "2024-02-04T07:34:51.905366Z",
     "shell.execute_reply": "2024-02-04T07:34:51.904159Z"
    },
    "papermill": {
     "duration": 25.662983,
     "end_time": "2024-02-04T07:34:51.907353",
     "exception": false,
     "start_time": "2024-02-04T07:34:26.244370",
     "status": "completed"
    },
    "tags": []
   },
   "outputs": [
    {
     "name": "stdout",
     "output_type": "stream",
     "text": [
      "Epoch 1/30\n",
      "399/399 [==============================] - 2s 4ms/step - loss: 0.6070 - accuracy: 0.7921 - val_loss: 0.4558 - val_accuracy: 0.8396\n",
      "Epoch 2/30\n",
      "399/399 [==============================] - 1s 3ms/step - loss: 0.4105 - accuracy: 0.8530 - val_loss: 0.4218 - val_accuracy: 0.8518\n",
      "Epoch 3/30\n",
      "399/399 [==============================] - 1s 3ms/step - loss: 0.3736 - accuracy: 0.8652 - val_loss: 0.3806 - val_accuracy: 0.8601\n",
      "Epoch 4/30\n",
      "399/399 [==============================] - 1s 3ms/step - loss: 0.3454 - accuracy: 0.8738 - val_loss: 0.3608 - val_accuracy: 0.8723\n",
      "Epoch 5/30\n",
      "399/399 [==============================] - 1s 3ms/step - loss: 0.3259 - accuracy: 0.8824 - val_loss: 0.3546 - val_accuracy: 0.8730\n",
      "Epoch 6/30\n",
      "399/399 [==============================] - 1s 3ms/step - loss: 0.3127 - accuracy: 0.8867 - val_loss: 0.3469 - val_accuracy: 0.8713\n",
      "Epoch 7/30\n",
      "399/399 [==============================] - 1s 3ms/step - loss: 0.2966 - accuracy: 0.8917 - val_loss: 0.3339 - val_accuracy: 0.8807\n",
      "Epoch 8/30\n",
      "399/399 [==============================] - 1s 3ms/step - loss: 0.2858 - accuracy: 0.8958 - val_loss: 0.3400 - val_accuracy: 0.8797\n",
      "Epoch 9/30\n",
      "399/399 [==============================] - 1s 3ms/step - loss: 0.2733 - accuracy: 0.8999 - val_loss: 0.3353 - val_accuracy: 0.8796\n",
      "Epoch 10/30\n",
      "399/399 [==============================] - 1s 3ms/step - loss: 0.2644 - accuracy: 0.9028 - val_loss: 0.3298 - val_accuracy: 0.8809\n",
      "Epoch 11/30\n",
      "399/399 [==============================] - 1s 3ms/step - loss: 0.2590 - accuracy: 0.9035 - val_loss: 0.3281 - val_accuracy: 0.8822\n",
      "Epoch 12/30\n",
      "399/399 [==============================] - 1s 3ms/step - loss: 0.2490 - accuracy: 0.9075 - val_loss: 0.3220 - val_accuracy: 0.8866\n",
      "Epoch 13/30\n",
      "399/399 [==============================] - 1s 3ms/step - loss: 0.2405 - accuracy: 0.9105 - val_loss: 0.3197 - val_accuracy: 0.8876\n",
      "Epoch 14/30\n",
      "399/399 [==============================] - 1s 3ms/step - loss: 0.2377 - accuracy: 0.9114 - val_loss: 0.3284 - val_accuracy: 0.8818\n",
      "Epoch 15/30\n",
      "399/399 [==============================] - 1s 3ms/step - loss: 0.2313 - accuracy: 0.9144 - val_loss: 0.3186 - val_accuracy: 0.8903\n",
      "Epoch 16/30\n",
      "399/399 [==============================] - 1s 3ms/step - loss: 0.2225 - accuracy: 0.9161 - val_loss: 0.3276 - val_accuracy: 0.8843\n",
      "Epoch 17/30\n",
      "399/399 [==============================] - 1s 3ms/step - loss: 0.2215 - accuracy: 0.9162 - val_loss: 0.3268 - val_accuracy: 0.8847\n",
      "Epoch 18/30\n",
      "399/399 [==============================] - 1s 3ms/step - loss: 0.2159 - accuracy: 0.9203 - val_loss: 0.3653 - val_accuracy: 0.8758\n",
      "Epoch 18: early stopping\n"
     ]
    }
   ],
   "source": [
    "from tensorflow.keras.callbacks import EarlyStopping\n",
    "\n",
    "model = create_model()\n",
    "model.compile(optimizer=Adam(0.001), loss='categorical_crossentropy', metrics=['accuracy'])\n",
    "\n",
    "ely_cb = EarlyStopping(monitor='val_loss', patience=3, mode='min', verbose=1)\n",
    "history = model.fit(x=tr_images, y=tr_oh_labels, batch_size=128, epochs=30, validation_data=(val_images, val_oh_labels),\n",
    "                   callbacks=[ely_cb])"
   ]
  },
  {
   "cell_type": "code",
   "execution_count": 18,
   "id": "108e1c49",
   "metadata": {
    "execution": {
     "iopub.execute_input": "2024-02-04T07:34:52.255102Z",
     "iopub.status.busy": "2024-02-04T07:34:52.254723Z",
     "iopub.status.idle": "2024-02-04T07:34:53.246092Z",
     "shell.execute_reply": "2024-02-04T07:34:53.245123Z"
    },
    "papermill": {
     "duration": 1.16816,
     "end_time": "2024-02-04T07:34:53.248158",
     "exception": false,
     "start_time": "2024-02-04T07:34:52.079998",
     "status": "completed"
    },
    "tags": []
   },
   "outputs": [
    {
     "name": "stdout",
     "output_type": "stream",
     "text": [
      "rm: cannot remove 'weigh*': No such file or directory\r\n"
     ]
    }
   ],
   "source": [
    "!rm weigh*"
   ]
  },
  {
   "cell_type": "code",
   "execution_count": 19,
   "id": "cb765351",
   "metadata": {
    "execution": {
     "iopub.execute_input": "2024-02-04T07:34:53.593736Z",
     "iopub.status.busy": "2024-02-04T07:34:53.593358Z",
     "iopub.status.idle": "2024-02-04T07:35:43.416627Z",
     "shell.execute_reply": "2024-02-04T07:35:43.415707Z"
    },
    "papermill": {
     "duration": 49.99788,
     "end_time": "2024-02-04T07:35:43.418838",
     "exception": false,
     "start_time": "2024-02-04T07:34:53.420958",
     "status": "completed"
    },
    "tags": []
   },
   "outputs": [
    {
     "name": "stdout",
     "output_type": "stream",
     "text": [
      "Epoch 1/40\n",
      " 55/399 [===>..........................] - ETA: 22s - loss: 1.1247 - accuracy: 0.6193"
     ]
    },
    {
     "name": "stderr",
     "output_type": "stream",
     "text": [
      "IOStream.flush timed out\n"
     ]
    },
    {
     "name": "stdout",
     "output_type": "stream",
     "text": [
      "399/399 [==============================] - 16s 12ms/step - loss: 0.5945 - accuracy: 0.7956 - val_loss: 0.4598 - val_accuracy: 0.8388 - lr: 0.0010\n",
      "Epoch 2/40\n",
      "399/399 [==============================] - 1s 3ms/step - loss: 0.4096 - accuracy: 0.8564 - val_loss: 0.3950 - val_accuracy: 0.8596 - lr: 0.0010\n",
      "Epoch 3/40\n",
      "399/399 [==============================] - 1s 3ms/step - loss: 0.3732 - accuracy: 0.8648 - val_loss: 0.3863 - val_accuracy: 0.8619 - lr: 0.0010\n",
      "Epoch 4/40\n",
      "399/399 [==============================] - 1s 3ms/step - loss: 0.3472 - accuracy: 0.8757 - val_loss: 0.3531 - val_accuracy: 0.8739 - lr: 0.0010\n",
      "Epoch 5/40\n",
      "399/399 [==============================] - 1s 3ms/step - loss: 0.3253 - accuracy: 0.8823 - val_loss: 0.3466 - val_accuracy: 0.8747 - lr: 0.0010\n",
      "Epoch 6/40\n",
      "399/399 [==============================] - 1s 3ms/step - loss: 0.3127 - accuracy: 0.8857 - val_loss: 0.3444 - val_accuracy: 0.8742 - lr: 0.0010\n",
      "Epoch 7/40\n",
      "399/399 [==============================] - 1s 3ms/step - loss: 0.2976 - accuracy: 0.8916 - val_loss: 0.3276 - val_accuracy: 0.8853 - lr: 0.0010\n",
      "Epoch 8/40\n",
      "399/399 [==============================] - 1s 3ms/step - loss: 0.2857 - accuracy: 0.8953 - val_loss: 0.3315 - val_accuracy: 0.8774 - lr: 0.0010\n",
      "Epoch 9/40\n",
      "399/399 [==============================] - 1s 3ms/step - loss: 0.2779 - accuracy: 0.8969 - val_loss: 0.3678 - val_accuracy: 0.8718 - lr: 0.0010\n",
      "Epoch 10/40\n",
      "399/399 [==============================] - 1s 3ms/step - loss: 0.2684 - accuracy: 0.9010 - val_loss: 0.3406 - val_accuracy: 0.8772 - lr: 0.0010\n",
      "Epoch 11/40\n",
      "399/399 [==============================] - 1s 3ms/step - loss: 0.2576 - accuracy: 0.9044 - val_loss: 0.3202 - val_accuracy: 0.8854 - lr: 0.0010\n",
      "Epoch 12/40\n",
      "399/399 [==============================] - 1s 3ms/step - loss: 0.2506 - accuracy: 0.9071 - val_loss: 0.3160 - val_accuracy: 0.8871 - lr: 0.0010\n",
      "Epoch 13/40\n",
      "399/399 [==============================] - 1s 3ms/step - loss: 0.2419 - accuracy: 0.9110 - val_loss: 0.3399 - val_accuracy: 0.8814 - lr: 0.0010\n",
      "Epoch 14/40\n",
      "399/399 [==============================] - 1s 3ms/step - loss: 0.2361 - accuracy: 0.9125 - val_loss: 0.3190 - val_accuracy: 0.8887 - lr: 0.0010\n",
      "Epoch 15/40\n",
      "399/399 [==============================] - 1s 3ms/step - loss: 0.2328 - accuracy: 0.9140 - val_loss: 0.3475 - val_accuracy: 0.8854 - lr: 0.0010\n",
      "Epoch 16/40\n",
      "399/399 [==============================] - 1s 4ms/step - loss: 0.2261 - accuracy: 0.9158 - val_loss: 0.3405 - val_accuracy: 0.8799 - lr: 0.0010\n",
      "Epoch 17/40\n",
      "386/399 [============================>.] - ETA: 0s - loss: 0.2184 - accuracy: 0.9185\n",
      "Epoch 17: ReduceLROnPlateau reducing learning rate to 0.0003000000142492354.\n",
      "399/399 [==============================] - 1s 3ms/step - loss: 0.2186 - accuracy: 0.9185 - val_loss: 0.3228 - val_accuracy: 0.8879 - lr: 0.0010\n",
      "Epoch 18/40\n",
      "399/399 [==============================] - 1s 3ms/step - loss: 0.1905 - accuracy: 0.9305 - val_loss: 0.3082 - val_accuracy: 0.8913 - lr: 3.0000e-04\n",
      "Epoch 19/40\n",
      "399/399 [==============================] - 1s 3ms/step - loss: 0.1855 - accuracy: 0.9325 - val_loss: 0.3044 - val_accuracy: 0.8936 - lr: 3.0000e-04\n",
      "Epoch 20/40\n",
      "399/399 [==============================] - 1s 3ms/step - loss: 0.1835 - accuracy: 0.9325 - val_loss: 0.3060 - val_accuracy: 0.8930 - lr: 3.0000e-04\n",
      "Epoch 21/40\n",
      "399/399 [==============================] - 1s 3ms/step - loss: 0.1811 - accuracy: 0.9345 - val_loss: 0.3128 - val_accuracy: 0.8897 - lr: 3.0000e-04\n",
      "Epoch 22/40\n",
      "399/399 [==============================] - 1s 3ms/step - loss: 0.1780 - accuracy: 0.9342 - val_loss: 0.3156 - val_accuracy: 0.8899 - lr: 3.0000e-04\n",
      "Epoch 23/40\n",
      "399/399 [==============================] - 1s 3ms/step - loss: 0.1764 - accuracy: 0.9346 - val_loss: 0.3140 - val_accuracy: 0.8908 - lr: 3.0000e-04\n",
      "Epoch 24/40\n",
      "387/399 [============================>.] - ETA: 0s - loss: 0.1732 - accuracy: 0.9363\n",
      "Epoch 24: ReduceLROnPlateau reducing learning rate to 9.000000427477062e-05.\n",
      "399/399 [==============================] - 1s 3ms/step - loss: 0.1733 - accuracy: 0.9363 - val_loss: 0.3205 - val_accuracy: 0.8897 - lr: 3.0000e-04\n",
      "Epoch 25/40\n",
      "399/399 [==============================] - 1s 3ms/step - loss: 0.1637 - accuracy: 0.9407 - val_loss: 0.3102 - val_accuracy: 0.8936 - lr: 9.0000e-05\n",
      "Epoch 26/40\n",
      "399/399 [==============================] - 1s 3ms/step - loss: 0.1617 - accuracy: 0.9415 - val_loss: 0.3125 - val_accuracy: 0.8917 - lr: 9.0000e-05\n",
      "Epoch 26: early stopping\n"
     ]
    }
   ],
   "source": [
    "# 보통은 위 callback들을 따로 쓰지 않고 한번에 다같이 쓴다\n",
    "\n",
    "from tensorflow.keras.callbacks import ModelCheckpoint, ReduceLROnPlateau, EarlyStopping\n",
    "\n",
    "model = create_model()\n",
    "model.compile(optimizer=Adam(0.001), loss='categorical_crossentropy', metrics=['accuracy'])\n",
    "\n",
    "mcp_cb = ModelCheckpoint(filepath='/kaggle/working/weights.{epoch:02d}-{val_loss:.2f}.hdf5', monitor='val_loss', \n",
    "                         save_best_only=True, save_weights_only=True, mode='min', period=1, verbose=0)\n",
    "rlr_cb = ReduceLROnPlateau(monitor='val_loss', factor=0.3, patience=5, mode='min', verbose=1)\n",
    "ely_cb = EarlyStopping(monitor='val_loss', patience=7, mode='min', verbose=1)\n",
    "\n",
    "history = model.fit(x=tr_images, y=tr_oh_labels, batch_size=128, epochs=40, validation_data=(val_images, val_oh_labels),\n",
    "                   callbacks=[mcp_cb, rlr_cb, ely_cb])"
   ]
  },
  {
   "cell_type": "markdown",
   "id": "f98ba06c",
   "metadata": {
    "papermill": {
     "duration": 0.224757,
     "end_time": "2024-02-04T07:35:43.866966",
     "exception": false,
     "start_time": "2024-02-04T07:35:43.642209",
     "status": "completed"
    },
    "tags": []
   },
   "source": [
    "# Convolutional Neural Network를 통한 feature extraction"
   ]
  },
  {
   "cell_type": "markdown",
   "id": "d6269018",
   "metadata": {
    "papermill": {
     "duration": 0.221858,
     "end_time": "2024-02-04T07:35:44.359221",
     "exception": false,
     "start_time": "2024-02-04T07:35:44.137363",
     "status": "completed"
    },
    "tags": []
   },
   "source": [
    "### Conv2D를 통한 구현\n",
    "* 위에서 구현한 일반 dense layer만을 이용한 이미지 classification시에 생기는 문제가 2가지가 있다\n",
    "* 먼저 분류 대상이 이미지의 어디에 있을지 알 수 없다\n",
    "* 이미지의 크기가 클수록 이를 위한 너무 많은 weight가 필요하다\n",
    "* 이를 위해 고안된 방식이 convolutional neural network를 통한 feature extracting 방식이고, keras에선 이를 layers의 Conv2D를 통해 구현한다."
   ]
  },
  {
   "cell_type": "code",
   "execution_count": 20,
   "id": "221ed41c",
   "metadata": {
    "execution": {
     "iopub.execute_input": "2024-02-04T07:35:44.808176Z",
     "iopub.status.busy": "2024-02-04T07:35:44.807375Z",
     "iopub.status.idle": "2024-02-04T07:35:45.571019Z",
     "shell.execute_reply": "2024-02-04T07:35:45.570071Z"
    },
    "papermill": {
     "duration": 0.99436,
     "end_time": "2024-02-04T07:35:45.573260",
     "exception": false,
     "start_time": "2024-02-04T07:35:44.578900",
     "status": "completed"
    },
    "tags": []
   },
   "outputs": [
    {
     "name": "stdout",
     "output_type": "stream",
     "text": [
      "Model: \"model_6\"\n",
      "_________________________________________________________________\n",
      " Layer (type)                Output Shape              Param #   \n",
      "=================================================================\n",
      " input_7 (InputLayer)        [(None, 28, 28, 1)]       0         \n",
      "                                                                 \n",
      " conv2d (Conv2D)             (None, 28, 28, 4)         40        \n",
      "                                                                 \n",
      "=================================================================\n",
      "Total params: 40 (160.00 Byte)\n",
      "Trainable params: 40 (160.00 Byte)\n",
      "Non-trainable params: 0 (0.00 Byte)\n",
      "_________________________________________________________________\n"
     ]
    }
   ],
   "source": [
    "# Conv2D 구현 예시\n",
    "\n",
    "from tensorflow.keras.layers import Input, Conv2D\n",
    "from tensorflow.keras.models import Model\n",
    "\n",
    "# 이전에 만들었던 model의 input tensor에서 봤듯이 keras에서 모델 생성 시 batch를 고려하지 않았다.\n",
    "# 그래서 우리도 2차원 배열을 shape로 넣어줬다\n",
    "# 그러나 keras layer의 conv2d는 batch를 제외하고도 3차운을 받는다. 이는 shape에서 channel의 공간을 고려했기 때문이다.\n",
    "# 해당 channel의 경우 tensorflow는 channel 정보를 무조건 뒤에서 받기 때문이다.\n",
    "input_tensor = Input(shape=(28,28,1))\n",
    "\n",
    "# padding 옵션의 경우, same이면 con2d 연산 전후 사이즈가 28*28로 갖게 맞춰진다.\n",
    "x = Conv2D(filters=4, kernel_size=3, strides=1, padding='same', activation='relu')(input_tensor)\n",
    "\n",
    "conv2d_model = Model(inputs=input_tensor, outputs=x)\n",
    "conv2d_model.summary()"
   ]
  },
  {
   "cell_type": "markdown",
   "id": "34bf95ba",
   "metadata": {
    "papermill": {
     "duration": 0.224787,
     "end_time": "2024-02-04T07:35:46.024928",
     "exception": false,
     "start_time": "2024-02-04T07:35:45.800141",
     "status": "completed"
    },
    "tags": []
   },
   "source": [
    "### Pooling 적용하기\n",
    "* pooling이란, 앞서서 conv2d layer의 계산 결과인 feature maps를 일종의 subsampling하는 과정이다.\n",
    "\n",
    "#### Pooling의 목적은 아래와 같다\n",
    "1. input size를 줄여 텐서의 크기를 줄여 계산 속도를 높이기.\n",
    "2. input size 감소를 통한 불필요한 parameter 제거로 overfitting 조절"
   ]
  },
  {
   "cell_type": "code",
   "execution_count": 21,
   "id": "49b4ebec",
   "metadata": {
    "execution": {
     "iopub.execute_input": "2024-02-04T07:35:46.471301Z",
     "iopub.status.busy": "2024-02-04T07:35:46.470599Z",
     "iopub.status.idle": "2024-02-04T07:35:46.525482Z",
     "shell.execute_reply": "2024-02-04T07:35:46.524537Z"
    },
    "papermill": {
     "duration": 0.28573,
     "end_time": "2024-02-04T07:35:46.532393",
     "exception": false,
     "start_time": "2024-02-04T07:35:46.246663",
     "status": "completed"
    },
    "tags": []
   },
   "outputs": [
    {
     "name": "stdout",
     "output_type": "stream",
     "text": [
      "KerasTensor(type_spec=TensorSpec(shape=(None, 13, 13, 32), dtype=tf.float32, name=None), name='max_pooling2d/MaxPool:0', description=\"created by layer 'max_pooling2d'\")\n",
      "Model: \"model_7\"\n",
      "_________________________________________________________________\n",
      " Layer (type)                Output Shape              Param #   \n",
      "=================================================================\n",
      " input_8 (InputLayer)        [(None, 28, 28, 1)]       0         \n",
      "                                                                 \n",
      " conv2d_1 (Conv2D)           (None, 28, 28, 16)        160       \n",
      "                                                                 \n",
      " conv2d_2 (Conv2D)           (None, 26, 26, 32)        4640      \n",
      "                                                                 \n",
      " max_pooling2d (MaxPooling2  (None, 13, 13, 32)        0         \n",
      " D)                                                              \n",
      "                                                                 \n",
      "=================================================================\n",
      "Total params: 4800 (18.75 KB)\n",
      "Trainable params: 4800 (18.75 KB)\n",
      "Non-trainable params: 0 (0.00 Byte)\n",
      "_________________________________________________________________\n"
     ]
    }
   ],
   "source": [
    "# pooling을 적용한 모델 구현 예시\n",
    "\n",
    "from tensorflow.keras.layers import Input, Conv2D, MaxPooling2D\n",
    "from tensorflow.keras.models import Model\n",
    "\n",
    "# maxpooling2d를 통해 channel의 수는 변하지 않고 평면적인 사이즈는 28*28에서 14*!4로 축소\n",
    "\n",
    "input_tensor = Input(shape=(28,28,1))\n",
    "x = Conv2D(filters=16, kernel_size=3, padding='same', activation='relu')(input_tensor)\n",
    "x = Conv2D(filters=32, kernel_size=3, activation='relu')(x)\n",
    "x = MaxPooling2D(2)(x)\n",
    "print(x)\n",
    "\n",
    "pooling_model = Model(inputs=input_tensor, outputs=x)\n",
    "# summary에서 maxpooling의 경우 기존에 있는 feature map에 연산을 통해 shape를 줄이는 역할을 수행했기에 parameter는 따로 없다\n",
    "# 첫 번째 conv2d에서 param수가 160인 이유는 kernel_size 3*3이 16개가 있고, 거기에 bias가 filter 개수만큼 붙어서 (3*3)*16 + 16 = 160이다.\n",
    "# 두 번째 conv2d의 pararm수는 한 filter에 3*3으로 구성된 kernel이 16개가 있다. 그렇게 구성된 filter가 32개가 있고 여기에 bias 32개가 붙어서 (3*3*16)*32 + 32 = 4640이다.\n",
    "# 결국 위처럼 구성된 cnn의 연산을 거쳐서 최적 feature 추출을 위한 필터 weight 값이 계산된다.\n",
    "pooling_model.summary()"
   ]
  },
  {
   "cell_type": "markdown",
   "id": "698bb707",
   "metadata": {
    "papermill": {
     "duration": 0.226624,
     "end_time": "2024-02-04T07:35:46.987462",
     "exception": false,
     "start_time": "2024-02-04T07:35:46.760838",
     "status": "completed"
    },
    "tags": []
   },
   "source": [
    "# feature extractor와 classifier를 합친 model 생성"
   ]
  },
  {
   "cell_type": "code",
   "execution_count": 22,
   "id": "ce273446",
   "metadata": {
    "execution": {
     "iopub.execute_input": "2024-02-04T07:35:47.437771Z",
     "iopub.status.busy": "2024-02-04T07:35:47.437429Z",
     "iopub.status.idle": "2024-02-04T07:35:47.522613Z",
     "shell.execute_reply": "2024-02-04T07:35:47.521631Z"
    },
    "papermill": {
     "duration": 0.322464,
     "end_time": "2024-02-04T07:35:47.534982",
     "exception": false,
     "start_time": "2024-02-04T07:35:47.212518",
     "status": "completed"
    },
    "tags": []
   },
   "outputs": [
    {
     "name": "stdout",
     "output_type": "stream",
     "text": [
      "Model: \"model_8\"\n",
      "_________________________________________________________________\n",
      " Layer (type)                Output Shape              Param #   \n",
      "=================================================================\n",
      " input_9 (InputLayer)        [(None, 28, 28, 1)]       0         \n",
      "                                                                 \n",
      " conv2d_3 (Conv2D)           (None, 28, 28, 32)        320       \n",
      "                                                                 \n",
      " conv2d_4 (Conv2D)           (None, 26, 26, 64)        18496     \n",
      "                                                                 \n",
      " max_pooling2d_1 (MaxPoolin  (None, 13, 13, 64)        0         \n",
      " g2D)                                                            \n",
      "                                                                 \n",
      " flatten_6 (Flatten)         (None, 10816)             0         \n",
      "                                                                 \n",
      " dense_18 (Dense)            (None, 100)               1081700   \n",
      "                                                                 \n",
      " dense_19 (Dense)            (None, 10)                1010      \n",
      "                                                                 \n",
      "=================================================================\n",
      "Total params: 1101526 (4.20 MB)\n",
      "Trainable params: 1101526 (4.20 MB)\n",
      "Non-trainable params: 0 (0.00 Byte)\n",
      "_________________________________________________________________\n"
     ]
    }
   ],
   "source": [
    "from tensorflow.keras.layers import  Input,Dense, Flatten, Conv2D, MaxPooling2D\n",
    "from tensorflow.keras.models import Model\n",
    "\n",
    "# feature extractor\n",
    "input_tensor = Input(shape=(28,28,1))\n",
    "x = Conv2D(filters=32, kernel_size=3, strides=1, padding='same', activation='relu')(input_tensor)\n",
    "x = Conv2D(filters=64, kernel_size=3, activation='relu')(x)\n",
    "x = MaxPooling2D(2)(x)\n",
    "\n",
    "# classifier\n",
    "x = Flatten()(x)\n",
    "x = Dense(100, activation='relu')(x)\n",
    "output = Dense(10, activation='softmax')(x)\n",
    "model = Model(inputs=input_tensor, outputs=output)\n",
    "model.summary()"
   ]
  },
  {
   "cell_type": "markdown",
   "id": "4486b139",
   "metadata": {
    "papermill": {
     "duration": 0.267911,
     "end_time": "2024-02-04T07:35:48.047877",
     "exception": false,
     "start_time": "2024-02-04T07:35:47.779966",
     "status": "completed"
    },
    "tags": []
   },
   "source": [
    "## fashion mnist 데이터를 사용한 모델 학습 및 평가"
   ]
  },
  {
   "cell_type": "code",
   "execution_count": 23,
   "id": "b1805539",
   "metadata": {
    "execution": {
     "iopub.execute_input": "2024-02-04T07:35:48.506122Z",
     "iopub.status.busy": "2024-02-04T07:35:48.505300Z",
     "iopub.status.idle": "2024-02-04T07:35:48.516730Z",
     "shell.execute_reply": "2024-02-04T07:35:48.515901Z"
    },
    "papermill": {
     "duration": 0.241443,
     "end_time": "2024-02-04T07:35:48.518770",
     "exception": false,
     "start_time": "2024-02-04T07:35:48.277327",
     "status": "completed"
    },
    "tags": []
   },
   "outputs": [],
   "source": [
    "from tensorflow.keras.optimizers import Adam\n",
    "\n",
    "model.compile(optimizer=Adam(0.001), loss='categorical_crossentropy', metrics=['accuracy'])"
   ]
  },
  {
   "cell_type": "code",
   "execution_count": 24,
   "id": "6fe26b99",
   "metadata": {
    "execution": {
     "iopub.execute_input": "2024-02-04T07:35:48.981200Z",
     "iopub.status.busy": "2024-02-04T07:35:48.980801Z",
     "iopub.status.idle": "2024-02-04T07:36:51.496170Z",
     "shell.execute_reply": "2024-02-04T07:36:51.495363Z"
    },
    "papermill": {
     "duration": 62.748703,
     "end_time": "2024-02-04T07:36:51.498228",
     "exception": false,
     "start_time": "2024-02-04T07:35:48.749525",
     "status": "completed"
    },
    "tags": []
   },
   "outputs": [
    {
     "name": "stdout",
     "output_type": "stream",
     "text": [
      "Epoch 1/20\n",
      "399/399 [==============================] - 7s 9ms/step - loss: 0.4407 - accuracy: 0.8459 - val_loss: 0.3099 - val_accuracy: 0.8872\n",
      "Epoch 2/20\n",
      "399/399 [==============================] - 3s 7ms/step - loss: 0.2734 - accuracy: 0.9024 - val_loss: 0.2672 - val_accuracy: 0.9034\n",
      "Epoch 3/20\n",
      "399/399 [==============================] - 3s 7ms/step - loss: 0.2215 - accuracy: 0.9204 - val_loss: 0.2428 - val_accuracy: 0.9114\n",
      "Epoch 4/20\n",
      "399/399 [==============================] - 3s 7ms/step - loss: 0.1855 - accuracy: 0.9315 - val_loss: 0.2554 - val_accuracy: 0.9090\n",
      "Epoch 5/20\n",
      "399/399 [==============================] - 3s 7ms/step - loss: 0.1548 - accuracy: 0.9444 - val_loss: 0.2206 - val_accuracy: 0.9166\n",
      "Epoch 6/20\n",
      "399/399 [==============================] - 3s 7ms/step - loss: 0.1298 - accuracy: 0.9533 - val_loss: 0.2455 - val_accuracy: 0.9158\n",
      "Epoch 7/20\n",
      "399/399 [==============================] - 3s 7ms/step - loss: 0.1092 - accuracy: 0.9596 - val_loss: 0.2287 - val_accuracy: 0.9192\n",
      "Epoch 8/20\n",
      "399/399 [==============================] - 3s 7ms/step - loss: 0.0858 - accuracy: 0.9698 - val_loss: 0.2508 - val_accuracy: 0.9182\n",
      "Epoch 9/20\n",
      "399/399 [==============================] - 3s 7ms/step - loss: 0.0684 - accuracy: 0.9753 - val_loss: 0.2752 - val_accuracy: 0.9161\n",
      "Epoch 10/20\n",
      "399/399 [==============================] - 3s 7ms/step - loss: 0.0559 - accuracy: 0.9807 - val_loss: 0.2739 - val_accuracy: 0.9256\n",
      "Epoch 11/20\n",
      "399/399 [==============================] - 3s 7ms/step - loss: 0.0382 - accuracy: 0.9870 - val_loss: 0.2994 - val_accuracy: 0.9237\n",
      "Epoch 12/20\n",
      "399/399 [==============================] - 3s 7ms/step - loss: 0.0366 - accuracy: 0.9872 - val_loss: 0.3191 - val_accuracy: 0.9219\n",
      "Epoch 13/20\n",
      "399/399 [==============================] - 3s 7ms/step - loss: 0.0289 - accuracy: 0.9905 - val_loss: 0.3406 - val_accuracy: 0.9187\n",
      "Epoch 14/20\n",
      "399/399 [==============================] - 3s 7ms/step - loss: 0.0225 - accuracy: 0.9923 - val_loss: 0.3785 - val_accuracy: 0.9176\n",
      "Epoch 15/20\n",
      "399/399 [==============================] - 3s 7ms/step - loss: 0.0183 - accuracy: 0.9942 - val_loss: 0.4091 - val_accuracy: 0.9157\n",
      "Epoch 16/20\n",
      "399/399 [==============================] - 3s 7ms/step - loss: 0.0150 - accuracy: 0.9953 - val_loss: 0.4107 - val_accuracy: 0.9232\n",
      "Epoch 17/20\n",
      "399/399 [==============================] - 3s 7ms/step - loss: 0.0190 - accuracy: 0.9934 - val_loss: 0.4423 - val_accuracy: 0.9222\n",
      "Epoch 18/20\n",
      "399/399 [==============================] - 3s 7ms/step - loss: 0.0199 - accuracy: 0.9932 - val_loss: 0.4473 - val_accuracy: 0.9180\n",
      "Epoch 19/20\n",
      "399/399 [==============================] - 3s 7ms/step - loss: 0.0157 - accuracy: 0.9948 - val_loss: 0.4647 - val_accuracy: 0.9168\n",
      "Epoch 20/20\n",
      "399/399 [==============================] - 3s 7ms/step - loss: 0.0125 - accuracy: 0.9960 - val_loss: 0.4714 - val_accuracy: 0.9181\n"
     ]
    }
   ],
   "source": [
    "history = model.fit(x=tr_images, y=tr_oh_labels, batch_size=128, epochs=20, validation_data=(val_images, val_oh_labels))"
   ]
  },
  {
   "cell_type": "code",
   "execution_count": 25,
   "id": "adfba6ca",
   "metadata": {
    "execution": {
     "iopub.execute_input": "2024-02-04T07:36:52.124472Z",
     "iopub.status.busy": "2024-02-04T07:36:52.124116Z",
     "iopub.status.idle": "2024-02-04T07:36:52.366568Z",
     "shell.execute_reply": "2024-02-04T07:36:52.365658Z"
    },
    "papermill": {
     "duration": 0.555899,
     "end_time": "2024-02-04T07:36:52.368773",
     "exception": false,
     "start_time": "2024-02-04T07:36:51.812874",
     "status": "completed"
    },
    "tags": []
   },
   "outputs": [
    {
     "data": {
      "image/png": "[encoded data removed]",
      "text/plain": [
       "<Figure size 640x480 with 1 Axes>"
      ]
     },
     "metadata": {},
     "output_type": "display_data"
    }
   ],
   "source": [
    "show_history(history)"
   ]
  },
  {
   "cell_type": "code",
   "execution_count": 26,
   "id": "f6d663d2",
   "metadata": {
    "execution": {
     "iopub.execute_input": "2024-02-04T07:36:53.046194Z",
     "iopub.status.busy": "2024-02-04T07:36:53.045817Z",
     "iopub.status.idle": "2024-02-04T07:36:53.541007Z",
     "shell.execute_reply": "2024-02-04T07:36:53.540074Z"
    },
    "papermill": {
     "duration": 0.818337,
     "end_time": "2024-02-04T07:36:53.543165",
     "exception": false,
     "start_time": "2024-02-04T07:36:52.724828",
     "status": "completed"
    },
    "tags": []
   },
   "outputs": [
    {
     "name": "stdout",
     "output_type": "stream",
     "text": [
      "79/79 [==============================] - 0s 5ms/step - loss: 0.4835 - accuracy: 0.9200\n"
     ]
    },
    {
     "data": {
      "text/plain": [
       "[0.4835459887981415, 0.9200000166893005]"
      ]
     },
     "execution_count": 26,
     "metadata": {},
     "output_type": "execute_result"
    }
   ],
   "source": [
    "# 기존에 위에서 feature extraction 과정 없이 진행한 모델에 비해 훨씬 낫다.\n",
    "\n",
    "model.evaluate(test_images, test_oh_labels, batch_size=128, verbose=1)"
   ]
  },
  {
   "cell_type": "code",
   "execution_count": null,
   "id": "263647b8",
   "metadata": {
    "papermill": {
     "duration": 0.315666,
     "end_time": "2024-02-04T07:36:54.186307",
     "exception": false,
     "start_time": "2024-02-04T07:36:53.870641",
     "status": "completed"
    },
    "tags": []
   },
   "outputs": [],
   "source": []
  }
 ],
 "metadata": {
  "kaggle": {
   "accelerator": "nvidiaTeslaT4",
   "dataSources": [],
   "dockerImageVersionId": 30646,
   "isGpuEnabled": true,
   "isInternetEnabled": true,
   "language": "python",
   "sourceType": "notebook"
  },
  "kernelspec": {
   "display_name": "Python 3",
   "language": "python",
   "name": "python3"
  },
  "language_info": {
   "codemirror_mode": {
    "name": "ipython",
    "version": 3
   },
   "file_extension": ".py",
   "mimetype": "text/x-python",
   "name": "python",
   "nbconvert_exporter": "python",
   "pygments_lexer": "ipython3",
   "version": "3.10.13"
  },
  "papermill": {
   "default_parameters": {},
   "duration": 278.672316,
   "end_time": "2024-02-04T07:36:57.813849",
   "environment_variables": {},
   "exception": null,
   "input_path": "__notebook__.ipynb",
   "output_path": "__notebook__.ipynb",
   "parameters": {},
   "start_time": "2024-02-04T07:32:19.141533",
   "version": "2.5.0"
  }
 },
 "nbformat": 4,
 "nbformat_minor": 5
}
