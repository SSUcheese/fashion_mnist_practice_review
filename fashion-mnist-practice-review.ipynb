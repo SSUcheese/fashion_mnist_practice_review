{
 "cells": [
  {
   "cell_type": "code",
   "execution_count": 1,
   "id": "ba0ce2ef",
   "metadata": {
    "_cell_guid": "b1076dfc-b9ad-4769-8c92-a6c4dae69d19",
    "_uuid": "8f2839f25d086af736a60e9eeb907d3b93b6e0e5",
    "execution": {
     "iopub.execute_input": "2024-02-02T02:04:40.428166Z",
     "iopub.status.busy": "2024-02-02T02:04:40.427794Z",
     "iopub.status.idle": "2024-02-02T02:04:41.212654Z",
     "shell.execute_reply": "2024-02-02T02:04:41.211756Z"
    },
    "papermill": {
     "duration": 0.797878,
     "end_time": "2024-02-02T02:04:41.215280",
     "exception": false,
     "start_time": "2024-02-02T02:04:40.417402",
     "status": "completed"
    },
    "tags": []
   },
   "outputs": [],
   "source": [
    "# This Python 3 environment comes with many helpful analytics libraries installed\n",
    "# It is defined by the kaggle/python Docker image: https://github.com/kaggle/docker-python\n",
    "# For example, here's several helpful packages to load\n",
    "\n",
    "import numpy as np # linear algebra\n",
    "import pandas as pd # data processing, CSV file I/O (e.g. pd.read_csv)\n",
    "\n",
    "# Input data files are available in the read-only \"../input/\" directory\n",
    "# For example, running this (by clicking run or pressing Shift+Enter) will list all files under the input directory\n",
    "\n",
    "import os\n",
    "for dirname, _, filenames in os.walk('/kaggle/input'):\n",
    "    for filename in filenames:\n",
    "        print(os.path.join(dirname, filename))\n",
    "\n",
    "# You can write up to 20GB to the current directory (/kaggle/working/) that gets preserved as output when you create a version using \"Save & Run All\" \n",
    "# You can also write temporary files to /kaggle/temp/, but they won't be saved outside of the current session"
   ]
  },
  {
   "cell_type": "markdown",
   "id": "24c0f9e1",
   "metadata": {
    "papermill": {
     "duration": 0.007915,
     "end_time": "2024-02-02T02:04:41.231471",
     "exception": false,
     "start_time": "2024-02-02T02:04:41.223556",
     "status": "completed"
    },
    "tags": []
   },
   "source": [
    "# fashion mnist dataset을 통한 딥러닝 학습 실습을 정리하기 위한 공간임\n",
    "\n",
    "* 일반적으로 로직은\n",
    "* functional api 모델 생성 후 pixel 값 조정 및 type 조정\n",
    "* one hot encoding 적용\n",
    "* 이후 학습 검증 테스트 데이터로 나눈다\n",
    "* 마지막으로 complie, 학습/예측/평가"
   ]
  },
  {
   "cell_type": "raw",
   "id": "3e15de68",
   "metadata": {
    "papermill": {
     "duration": 0.007986,
     "end_time": "2024-02-02T02:04:41.247729",
     "exception": false,
     "start_time": "2024-02-02T02:04:41.239743",
     "status": "completed"
    },
    "tags": []
   },
   "source": [
    "%config Completer.use_jedi = False"
   ]
  },
  {
   "cell_type": "markdown",
   "id": "f2db4d69",
   "metadata": {
    "papermill": {
     "duration": 0.007377,
     "end_time": "2024-02-02T02:04:41.263066",
     "exception": false,
     "start_time": "2024-02-02T02:04:41.255689",
     "status": "completed"
    },
    "tags": []
   },
   "source": [
    "## 데이터 전처리 수행\n",
    "\n",
    "* 0에서 255 사이의 픽셀값을 0에서 1 사이로 변환. 이 과정을 거쳐야 성능 향상\n",
    "* array type은 float32. tensorflow도 데이터를 끌어올 떄 자동적으로 float32로 바꾼다\n",
    "* 전처리를 수행하기 전에 train_labels를 보면 type이 unit8로 되어 있음"
   ]
  },
  {
   "cell_type": "code",
   "execution_count": 2,
   "id": "9456d1e6",
   "metadata": {
    "execution": {
     "iopub.execute_input": "2024-02-02T02:04:41.280770Z",
     "iopub.status.busy": "2024-02-02T02:04:41.280269Z",
     "iopub.status.idle": "2024-02-02T02:04:56.931373Z",
     "shell.execute_reply": "2024-02-02T02:04:56.930046Z"
    },
    "papermill": {
     "duration": 15.663128,
     "end_time": "2024-02-02T02:04:56.934243",
     "exception": false,
     "start_time": "2024-02-02T02:04:41.271115",
     "status": "completed"
    },
    "tags": []
   },
   "outputs": [
    {
     "name": "stderr",
     "output_type": "stream",
     "text": [
      "2024-02-02 02:04:43.150136: E external/local_xla/xla/stream_executor/cuda/cuda_dnn.cc:9261] Unable to register cuDNN factory: Attempting to register factory for plugin cuDNN when one has already been registered\n",
      "2024-02-02 02:04:43.150252: E external/local_xla/xla/stream_executor/cuda/cuda_fft.cc:607] Unable to register cuFFT factory: Attempting to register factory for plugin cuFFT when one has already been registered\n",
      "2024-02-02 02:04:43.296083: E external/local_xla/xla/stream_executor/cuda/cuda_blas.cc:1515] Unable to register cuBLAS factory: Attempting to register factory for plugin cuBLAS when one has already been registered\n"
     ]
    },
    {
     "name": "stdout",
     "output_type": "stream",
     "text": [
      "Downloading data from https://storage.googleapis.com/tensorflow/tf-keras-datasets/train-labels-idx1-ubyte.gz\n",
      "29515/29515 [==============================] - 0s 0us/step\n",
      "Downloading data from https://storage.googleapis.com/tensorflow/tf-keras-datasets/train-images-idx3-ubyte.gz\n",
      "26421880/26421880 [==============================] - 1s 0us/step\n",
      "Downloading data from https://storage.googleapis.com/tensorflow/tf-keras-datasets/t10k-labels-idx1-ubyte.gz\n",
      "5148/5148 [==============================] - 0s 0us/step\n",
      "Downloading data from https://storage.googleapis.com/tensorflow/tf-keras-datasets/t10k-images-idx3-ubyte.gz\n",
      "4422102/4422102 [==============================] - 0s 0us/step\n",
      "<class 'numpy.uint8'>\n",
      "(60000, 28, 28)\n"
     ]
    }
   ],
   "source": [
    "from tensorflow.keras.datasets import fashion_mnist\n",
    "\n",
    "(train_images, train_labels), (test_images, test_labels) = fashion_mnist.load_data()\n",
    "\n",
    "# 전처리를 수행하기 전 데이터들을 보면 type이 unit8임\n",
    "print(type(train_images[0][0][0]))\n",
    "print(train_images.shape)"
   ]
  },
  {
   "cell_type": "code",
   "execution_count": 3,
   "id": "d0605bee",
   "metadata": {
    "execution": {
     "iopub.execute_input": "2024-02-02T02:04:56.968182Z",
     "iopub.status.busy": "2024-02-02T02:04:56.966967Z",
     "iopub.status.idle": "2024-02-02T02:04:56.974028Z",
     "shell.execute_reply": "2024-02-02T02:04:56.973045Z"
    },
    "papermill": {
     "duration": 0.028341,
     "end_time": "2024-02-02T02:04:56.978307",
     "exception": false,
     "start_time": "2024-02-02T02:04:56.949966",
     "status": "completed"
    },
    "tags": []
   },
   "outputs": [
    {
     "name": "stdout",
     "output_type": "stream",
     "text": [
      "(10000, 28, 28)\n"
     ]
    }
   ],
   "source": [
    "print(test_images.shape)"
   ]
  },
  {
   "cell_type": "code",
   "execution_count": 4,
   "id": "bf003779",
   "metadata": {
    "execution": {
     "iopub.execute_input": "2024-02-02T02:04:57.021517Z",
     "iopub.status.busy": "2024-02-02T02:04:57.020916Z",
     "iopub.status.idle": "2024-02-02T02:04:57.323371Z",
     "shell.execute_reply": "2024-02-02T02:04:57.322472Z"
    },
    "papermill": {
     "duration": 0.326609,
     "end_time": "2024-02-02T02:04:57.325573",
     "exception": false,
     "start_time": "2024-02-02T02:04:56.998964",
     "status": "completed"
    },
    "tags": []
   },
   "outputs": [
    {
     "data": {
      "text/plain": [
       "Text(0.5, 1.0, '9')"
      ]
     },
     "execution_count": 4,
     "metadata": {},
     "output_type": "execute_result"
    },
    {
     "data": {
      "image/png": "[encoded data removed]",
      "text/plain": [
       "<Figure size 640x480 with 1 Axes>"
      ]
     },
     "metadata": {},
     "output_type": "display_data"
    }
   ],
   "source": [
    "# fashion mnist 데이터 샘플 출력\n",
    "\n",
    "import matplotlib.pyplot as plt\n",
    "%matplotlib inline\n",
    "\n",
    "plt.imshow(train_images[0], cmap='gray')\n",
    "plt.title(train_labels[0])"
   ]
  },
  {
   "cell_type": "code",
   "execution_count": 5,
   "id": "04ca853b",
   "metadata": {
    "execution": {
     "iopub.execute_input": "2024-02-02T02:04:57.351358Z",
     "iopub.status.busy": "2024-02-02T02:04:57.350981Z",
     "iopub.status.idle": "2024-02-02T02:04:57.489775Z",
     "shell.execute_reply": "2024-02-02T02:04:57.488992Z"
    },
    "papermill": {
     "duration": 0.159771,
     "end_time": "2024-02-02T02:04:57.498190",
     "exception": false,
     "start_time": "2024-02-02T02:04:57.338419",
     "status": "completed"
    },
    "tags": []
   },
   "outputs": [
    {
     "name": "stdout",
     "output_type": "stream",
     "text": [
      "Model: \"model\"\n",
      "_________________________________________________________________\n",
      " Layer (type)                Output Shape              Param #   \n",
      "=================================================================\n",
      " input_1 (InputLayer)        [(None, 28, 28)]          0         \n",
      "                                                                 \n",
      " flatten (Flatten)           (None, 784)               0         \n",
      "                                                                 \n",
      " dense (Dense)               (None, 100)               78500     \n",
      "                                                                 \n",
      " dense_1 (Dense)             (None, 30)                3030      \n",
      "                                                                 \n",
      " dense_2 (Dense)             (None, 10)                310       \n",
      "                                                                 \n",
      "=================================================================\n",
      "Total params: 81840 (319.69 KB)\n",
      "Trainable params: 81840 (319.69 KB)\n",
      "Non-trainable params: 0 (0.00 Byte)\n",
      "_________________________________________________________________\n"
     ]
    }
   ],
   "source": [
    "# functional api를 이용한 model 생성\n",
    "\n",
    "from tensorflow.keras.layers import  Layer, Input, Dense, Flatten\n",
    "from tensorflow.keras.models import Model\n",
    "import tensorflow as tf\n",
    "\n",
    "INPUT_SIZE = 28\n",
    "\n",
    "def create_model():\n",
    "    input_tensor = Input(shape=(INPUT_SIZE, INPUT_SIZE))\n",
    "    x = Flatten()(input_tensor)\n",
    "    x = Dense(100, activation='relu')(x)\n",
    "    x = Dense(30, activation='relu')(x)\n",
    "    output = Dense(10, activation='softmax')(x)\n",
    "    \n",
    "    # functional api의 경우 multi input output을 지원하는데 sequentail은 불가능\n",
    "    model = Model(inputs=input_tensor, outputs=output)\n",
    "    \n",
    "    return model\n",
    "\n",
    "model = create_model()\n",
    "model.summary()"
   ]
  },
  {
   "cell_type": "code",
   "execution_count": 6,
   "id": "3ca2b39e",
   "metadata": {
    "execution": {
     "iopub.execute_input": "2024-02-02T02:04:57.528725Z",
     "iopub.status.busy": "2024-02-02T02:04:57.528315Z",
     "iopub.status.idle": "2024-02-02T02:04:58.584693Z",
     "shell.execute_reply": "2024-02-02T02:04:58.583853Z"
    },
    "papermill": {
     "duration": 1.074389,
     "end_time": "2024-02-02T02:04:58.587372",
     "exception": false,
     "start_time": "2024-02-02T02:04:57.512983",
     "status": "completed"
    },
    "tags": []
   },
   "outputs": [],
   "source": [
    "# 데이터 전처리 함수\n",
    "\n",
    "from tensorflow.keras.utils import to_categorical\n",
    "from sklearn.model_selection import train_test_split\n",
    "\n",
    "# 0~1 사잇값의 float32로 전처리\n",
    "\n",
    "def get_preprocessed_data(images, labels):\n",
    "    images = np.array(images/255.0, dtype=np.float32)\n",
    "    labels = np.array(labels, dtype=np.float32)\n",
    "    \n",
    "    return images, labels\n",
    "\n",
    "# 0~1 사잇값 float32로 변경하는 함수 호출 후 one hot encoding 적용\n",
    "\n",
    "def get_preprocessed_ohe(images, labels):\n",
    "    images, labels = get_preprocessed_data(images, labels)\n",
    "    \n",
    "    # labels 데이터를 one hot encoding\n",
    "    oh_labels = to_categorical(labels)\n",
    "    \n",
    "    return images, oh_labels\n",
    "\n",
    "# 학습/검증/테스트 데이터 세트에 전처리 및 one hot encoding 적용\n",
    "# 여기서 전처리 및 one hot encoding 과정을 거친 후 학습과 검증 데이터를 분리하면 효율적\n",
    "\n",
    "def get_train_valid_test_split(train_images, train_labels, test_images, test_labels, valid_size=0.15, random_state=42):\n",
    "    \n",
    "    # 학습과 테스트 데이터의 전처리 후 학습이랑 검증 데이터 분리\n",
    "    train_images, train_oh_labels = get_preprocessed_ohe(train_images, train_labels)\n",
    "    test_images, test_oh_labels = get_preprocessed_ohe(test_images, test_labels)\n",
    "    \n",
    "    # 학습과 검증 데이터 분리\n",
    "    train_images, valid_images, train_oh_images, valid_oh_labels = train_test_split(train_images, train_oh_labels, test_size=valid_size, random_state=random_state)\n",
    "    \n",
    "    return (train_images, train_oh_images), (valid_images, valid_oh_labels), (test_images, test_oh_labels)"
   ]
  },
  {
   "cell_type": "code",
   "execution_count": 7,
   "id": "7b28284c",
   "metadata": {
    "execution": {
     "iopub.execute_input": "2024-02-02T02:04:58.615411Z",
     "iopub.status.busy": "2024-02-02T02:04:58.615081Z",
     "iopub.status.idle": "2024-02-02T02:04:59.444241Z",
     "shell.execute_reply": "2024-02-02T02:04:59.442726Z"
    },
    "papermill": {
     "duration": 0.845938,
     "end_time": "2024-02-02T02:04:59.446603",
     "exception": false,
     "start_time": "2024-02-02T02:04:58.600665",
     "status": "completed"
    },
    "tags": []
   },
   "outputs": [
    {
     "name": "stdout",
     "output_type": "stream",
     "text": [
      "<class 'numpy.ndarray'>\n",
      "((51000, 28, 28), (51000, 10))\n"
     ]
    }
   ],
   "source": [
    "# 데이터 전처리 함수를 활용한 실제 데이터 전처리\n",
    "\n",
    "from tensorflow.keras.datasets import fashion_mnist\n",
    "\n",
    "# fashion mnist 데이터 재 로딩 및 전처리 적용해서 학습/검증/테스트 데이터 세트 결정\n",
    "# 데이터 받아오기 / 처음 받아오는 데이터 타입은 numpy.ndarray이다\n",
    "\n",
    "(train_images, train_labels), (test_images, test_labels) = fashion_mnist.load_data()\n",
    "print(type(train_labels))\n",
    "\n",
    "(tr_images, tr_oh_labels), (val_images, val_oh_labels), (test_images, test_oh_labels) = \\\n",
    "    get_train_valid_test_split(train_images, train_labels, test_images, test_labels, valid_size=0.15, random_state=42)\n",
    "\n",
    "print((tr_images.shape, tr_oh_labels.shape))  # labels를 보면 one hot encoding이 되어 있다"
   ]
  },
  {
   "cell_type": "markdown",
   "id": "26053f2e",
   "metadata": {
    "papermill": {
     "duration": 0.014198,
     "end_time": "2024-02-02T02:04:59.475225",
     "exception": false,
     "start_time": "2024-02-02T02:04:59.461027",
     "status": "completed"
    },
    "tags": []
   },
   "source": [
    "# loss와 optimizer 설정을 통한 학습 수행\n",
    "* loss는 categorical_crossentropy로, optimizer는 Adam으로 설정\n",
    "* categorical crossentropy를 위해서 Label을 one hot encoding으로 변경(keras의 to_categorical을 통해)"
   ]
  },
  {
   "cell_type": "code",
   "execution_count": 8,
   "id": "2c1fd1eb",
   "metadata": {
    "execution": {
     "iopub.execute_input": "2024-02-02T02:04:59.505226Z",
     "iopub.status.busy": "2024-02-02T02:04:59.504819Z",
     "iopub.status.idle": "2024-02-02T02:04:59.586502Z",
     "shell.execute_reply": "2024-02-02T02:04:59.585411Z"
    },
    "papermill": {
     "duration": 0.099361,
     "end_time": "2024-02-02T02:04:59.588814",
     "exception": false,
     "start_time": "2024-02-02T02:04:59.489453",
     "status": "completed"
    },
    "tags": []
   },
   "outputs": [
    {
     "name": "stdout",
     "output_type": "stream",
     "text": [
      "Model: \"model_1\"\n",
      "_________________________________________________________________\n",
      " Layer (type)                Output Shape              Param #   \n",
      "=================================================================\n",
      " input_2 (InputLayer)        [(None, 28, 28)]          0         \n",
      "                                                                 \n",
      " flatten_1 (Flatten)         (None, 784)               0         \n",
      "                                                                 \n",
      " dense_3 (Dense)             (None, 100)               78500     \n",
      "                                                                 \n",
      " dense_4 (Dense)             (None, 30)                3030      \n",
      "                                                                 \n",
      " dense_5 (Dense)             (None, 10)                310       \n",
      "                                                                 \n",
      "=================================================================\n",
      "Total params: 81840 (319.69 KB)\n",
      "Trainable params: 81840 (319.69 KB)\n",
      "Non-trainable params: 0 (0.00 Byte)\n",
      "_________________________________________________________________\n"
     ]
    }
   ],
   "source": [
    "from tensorflow.keras.optimizers import Adam\n",
    "\n",
    "# model 생성 및 optimizer, loss, metric 적용\n",
    "\n",
    "model = create_model()\n",
    "model.summary()\n",
    "\n",
    "# compile을 통해 loss 함수와 optimizer 설정\n",
    "# one hot encoding이 되었으면 categorical, 아닌 경우 sparse categorical\n",
    "model.compile(optimizer='Adam', loss='categorical_crossentropy', metrics=['accuracy'])\n"
   ]
  },
  {
   "cell_type": "code",
   "execution_count": 9,
   "id": "d6472247",
   "metadata": {
    "execution": {
     "iopub.execute_input": "2024-02-02T02:04:59.622153Z",
     "iopub.status.busy": "2024-02-02T02:04:59.621764Z",
     "iopub.status.idle": "2024-02-02T02:05:26.509202Z",
     "shell.execute_reply": "2024-02-02T02:05:26.508218Z"
    },
    "papermill": {
     "duration": 26.906853,
     "end_time": "2024-02-02T02:05:26.511597",
     "exception": false,
     "start_time": "2024-02-02T02:04:59.604744",
     "status": "completed"
    },
    "tags": []
   },
   "outputs": [
    {
     "name": "stdout",
     "output_type": "stream",
     "text": [
      "Epoch 1/20\n",
      "399/399 [==============================] - 2s 4ms/step - loss: 0.5943 - accuracy: 0.7990 - val_loss: 0.4724 - val_accuracy: 0.8301\n",
      "Epoch 2/20\n",
      "399/399 [==============================] - 1s 3ms/step - loss: 0.4156 - accuracy: 0.8541 - val_loss: 0.3941 - val_accuracy: 0.8609\n",
      "Epoch 3/20\n",
      "399/399 [==============================] - 1s 3ms/step - loss: 0.3770 - accuracy: 0.8652 - val_loss: 0.3790 - val_accuracy: 0.8664\n",
      "Epoch 4/20\n",
      "399/399 [==============================] - 1s 3ms/step - loss: 0.3491 - accuracy: 0.8746 - val_loss: 0.3646 - val_accuracy: 0.8707\n",
      "Epoch 5/20\n",
      "399/399 [==============================] - 1s 3ms/step - loss: 0.3302 - accuracy: 0.8803 - val_loss: 0.3618 - val_accuracy: 0.8683\n",
      "Epoch 6/20\n",
      "399/399 [==============================] - 1s 3ms/step - loss: 0.3133 - accuracy: 0.8864 - val_loss: 0.3472 - val_accuracy: 0.8729\n",
      "Epoch 7/20\n",
      "399/399 [==============================] - 1s 3ms/step - loss: 0.2996 - accuracy: 0.8924 - val_loss: 0.3476 - val_accuracy: 0.8761\n",
      "Epoch 8/20\n",
      "399/399 [==============================] - 1s 3ms/step - loss: 0.2890 - accuracy: 0.8957 - val_loss: 0.3361 - val_accuracy: 0.8774\n",
      "Epoch 9/20\n",
      "399/399 [==============================] - 1s 3ms/step - loss: 0.2791 - accuracy: 0.8966 - val_loss: 0.3464 - val_accuracy: 0.8748\n",
      "Epoch 10/20\n",
      "399/399 [==============================] - 1s 3ms/step - loss: 0.2660 - accuracy: 0.9029 - val_loss: 0.3344 - val_accuracy: 0.8808\n",
      "Epoch 11/20\n",
      "399/399 [==============================] - 1s 3ms/step - loss: 0.2572 - accuracy: 0.9065 - val_loss: 0.3313 - val_accuracy: 0.8834\n",
      "Epoch 12/20\n",
      "399/399 [==============================] - 1s 3ms/step - loss: 0.2509 - accuracy: 0.9083 - val_loss: 0.3224 - val_accuracy: 0.8843\n",
      "Epoch 13/20\n",
      "399/399 [==============================] - 1s 3ms/step - loss: 0.2451 - accuracy: 0.9103 - val_loss: 0.3256 - val_accuracy: 0.8809\n",
      "Epoch 14/20\n",
      "399/399 [==============================] - 1s 3ms/step - loss: 0.2389 - accuracy: 0.9122 - val_loss: 0.3397 - val_accuracy: 0.8819\n",
      "Epoch 15/20\n",
      "399/399 [==============================] - 1s 3ms/step - loss: 0.2317 - accuracy: 0.9146 - val_loss: 0.3564 - val_accuracy: 0.8764\n",
      "Epoch 16/20\n",
      "399/399 [==============================] - 1s 3ms/step - loss: 0.2269 - accuracy: 0.9176 - val_loss: 0.3169 - val_accuracy: 0.8890\n",
      "Epoch 17/20\n",
      "399/399 [==============================] - 1s 3ms/step - loss: 0.2196 - accuracy: 0.9191 - val_loss: 0.3316 - val_accuracy: 0.8831\n",
      "Epoch 18/20\n",
      "399/399 [==============================] - 1s 3ms/step - loss: 0.2125 - accuracy: 0.9221 - val_loss: 0.3188 - val_accuracy: 0.8893\n",
      "Epoch 19/20\n",
      "399/399 [==============================] - 1s 3ms/step - loss: 0.2099 - accuracy: 0.9221 - val_loss: 0.3229 - val_accuracy: 0.8921\n",
      "Epoch 20/20\n",
      "399/399 [==============================] - 1s 3ms/step - loss: 0.2023 - accuracy: 0.9261 - val_loss: 0.3316 - val_accuracy: 0.8869\n"
     ]
    }
   ],
   "source": [
    "# 학습 수행의 경우 model의 fit을 통해 진행\n",
    "# history를 통해 결과를 받는다. loss와 accuracy metrics를 받는다\n",
    "# epoch를 통해 6만개를 batch 수만큼 쪼개서 학습하는데 이걸 epoch 횟수만큼 반복\n",
    "\n",
    "history = model.fit(x=tr_images, y=tr_oh_labels, batch_size=128, epochs=20, validation_data=(val_images, val_oh_labels))"
   ]
  },
  {
   "cell_type": "code",
   "execution_count": 10,
   "id": "1281a28b",
   "metadata": {
    "execution": {
     "iopub.execute_input": "2024-02-02T02:05:26.631612Z",
     "iopub.status.busy": "2024-02-02T02:05:26.631224Z",
     "iopub.status.idle": "2024-02-02T02:05:26.638517Z",
     "shell.execute_reply": "2024-02-02T02:05:26.637547Z"
    },
    "papermill": {
     "duration": 0.070197,
     "end_time": "2024-02-02T02:05:26.640974",
     "exception": false,
     "start_time": "2024-02-02T02:05:26.570777",
     "status": "completed"
    },
    "tags": []
   },
   "outputs": [
    {
     "data": {
      "text/plain": [
       "{'loss': [0.5942926406860352,\n",
       "  0.41556861996650696,\n",
       "  0.3770429193973541,\n",
       "  0.34908828139305115,\n",
       "  0.33017629384994507,\n",
       "  0.3132941424846649,\n",
       "  0.2995648980140686,\n",
       "  0.28899580240249634,\n",
       "  0.27906903624534607,\n",
       "  0.2660312056541443,\n",
       "  0.25717249512672424,\n",
       "  0.25093984603881836,\n",
       "  0.24511288106441498,\n",
       "  0.23891253769397736,\n",
       "  0.2316754013299942,\n",
       "  0.22687296569347382,\n",
       "  0.2195637971162796,\n",
       "  0.21247774362564087,\n",
       "  0.20992568135261536,\n",
       "  0.20234628021717072],\n",
       " 'accuracy': [0.7990000247955322,\n",
       "  0.8540784120559692,\n",
       "  0.8652156591415405,\n",
       "  0.8746274709701538,\n",
       "  0.8802745342254639,\n",
       "  0.8863529562950134,\n",
       "  0.892431378364563,\n",
       "  0.8956666588783264,\n",
       "  0.8965686559677124,\n",
       "  0.9029019474983215,\n",
       "  0.9065098166465759,\n",
       "  0.908294141292572,\n",
       "  0.9102745056152344,\n",
       "  0.9122353196144104,\n",
       "  0.91460782289505,\n",
       "  0.9175686240196228,\n",
       "  0.9191372394561768,\n",
       "  0.9220588207244873,\n",
       "  0.9221176505088806,\n",
       "  0.9261176586151123],\n",
       " 'val_loss': [0.47237178683280945,\n",
       "  0.3940671980381012,\n",
       "  0.3789612054824829,\n",
       "  0.36464592814445496,\n",
       "  0.36179032921791077,\n",
       "  0.34717023372650146,\n",
       "  0.3475925028324127,\n",
       "  0.3360506296157837,\n",
       "  0.3463625907897949,\n",
       "  0.33441290259361267,\n",
       "  0.33129292726516724,\n",
       "  0.32242658734321594,\n",
       "  0.32560306787490845,\n",
       "  0.3396758437156677,\n",
       "  0.3564493656158447,\n",
       "  0.316895455121994,\n",
       "  0.33161938190460205,\n",
       "  0.31881922483444214,\n",
       "  0.3228761553764343,\n",
       "  0.3316335678100586],\n",
       " 'val_accuracy': [0.8301110863685608,\n",
       "  0.8608888983726501,\n",
       "  0.86644446849823,\n",
       "  0.8706666827201843,\n",
       "  0.8683333396911621,\n",
       "  0.8728888630867004,\n",
       "  0.8761110901832581,\n",
       "  0.8774444460868835,\n",
       "  0.8747777938842773,\n",
       "  0.8807777762413025,\n",
       "  0.8834444284439087,\n",
       "  0.8843333125114441,\n",
       "  0.8808888792991638,\n",
       "  0.8818888664245605,\n",
       "  0.8764444589614868,\n",
       "  0.8889999985694885,\n",
       "  0.8831111192703247,\n",
       "  0.8893333077430725,\n",
       "  0.8921111226081848,\n",
       "  0.886888861656189]}"
      ]
     },
     "execution_count": 10,
     "metadata": {},
     "output_type": "execute_result"
    }
   ],
   "source": [
    "history.history"
   ]
  },
  {
   "cell_type": "code",
   "execution_count": 11,
   "id": "afbafd3f",
   "metadata": {
    "execution": {
     "iopub.execute_input": "2024-02-02T02:05:26.759258Z",
     "iopub.status.busy": "2024-02-02T02:05:26.758841Z",
     "iopub.status.idle": "2024-02-02T02:05:27.013476Z",
     "shell.execute_reply": "2024-02-02T02:05:27.012437Z"
    },
    "papermill": {
     "duration": 0.316787,
     "end_time": "2024-02-02T02:05:27.015923",
     "exception": false,
     "start_time": "2024-02-02T02:05:26.699136",
     "status": "completed"
    },
    "tags": []
   },
   "outputs": [
    {
     "data": {
      "image/png": "[encoded data removed]",
      "text/plain": [
       "<Figure size 640x480 with 1 Axes>"
      ]
     },
     "metadata": {},
     "output_type": "display_data"
    }
   ],
   "source": [
    "import matplotlib.pyplot as plt\n",
    "%matplotlib inline\n",
    "\n",
    "def show_history(hisotry):\n",
    "    plt.plot(history.history['accuracy'], label='train')\n",
    "    plt.plot(history.history['val_accuracy'], label='valid')\n",
    "    plt.legend()\n",
    "    \n",
    "show_history(history)"
   ]
  },
  {
   "cell_type": "code",
   "execution_count": 12,
   "id": "c32e47f7",
   "metadata": {
    "execution": {
     "iopub.execute_input": "2024-02-02T02:05:27.139898Z",
     "iopub.status.busy": "2024-02-02T02:05:27.139494Z",
     "iopub.status.idle": "2024-02-02T02:05:27.366867Z",
     "shell.execute_reply": "2024-02-02T02:05:27.365728Z"
    },
    "papermill": {
     "duration": 0.295951,
     "end_time": "2024-02-02T02:05:27.369279",
     "exception": false,
     "start_time": "2024-02-02T02:05:27.073328",
     "status": "completed"
    },
    "tags": []
   },
   "outputs": [
    {
     "name": "stdout",
     "output_type": "stream",
     "text": [
      "40/40 [==============================] - 0s 3ms/step - loss: 0.3530 - accuracy: 0.8809\n"
     ]
    },
    {
     "data": {
      "text/plain": [
       "[0.3530273735523224, 0.8809000253677368]"
      ]
     },
     "execution_count": 12,
     "metadata": {},
     "output_type": "execute_result"
    }
   ],
   "source": [
    "# 테스트 세트로 모델 성능 검증\n",
    "\n",
    "model.evaluate(x=test_images, y=test_oh_labels, batch_size=256, verbose=1)"
   ]
  },
  {
   "cell_type": "markdown",
   "id": "af63183d",
   "metadata": {
    "papermill": {
     "duration": 0.061363,
     "end_time": "2024-02-02T02:05:27.491411",
     "exception": false,
     "start_time": "2024-02-02T02:05:27.430048",
     "status": "completed"
    },
    "tags": []
   },
   "source": [
    "## callback\n",
    "* 학습 iteration을 수행할 때 특정 event가 발생하는 경우 호출하는 기능들\n",
    "* 대표적으로 ModelCheckpoint(), ReduceLROnPlateau(), LearningRateScheduler(), EarlyStopping(), TensorBoard 등이 있음"
   ]
  },
  {
   "cell_type": "markdown",
   "id": "cad65e9a",
   "metadata": {
    "papermill": {
     "duration": 0.059264,
     "end_time": "2024-02-02T02:05:27.608503",
     "exception": false,
     "start_time": "2024-02-02T02:05:27.549239",
     "status": "completed"
    },
    "tags": []
   },
   "source": [
    "### ModelCheckpoint(filepath, monitor='val_loss', verbose=0, save_best_only=False, save_weights_only=False, mode='auto', period=1)\n",
    "\n",
    "* 특정 조건에 맞춰서 모델을 파일에 저장\n",
    "* filepath: filepath의 경우 on epoch end에서 전달되는 epoch 값과 logs의 키로 채워진 이름 형식 옵션을 가질 수 있다. 예를 들어 filepath가 weights.{epoch:02d}-{val_loss:.2f}.hdf5d인 경우, 파일 이름에 세대 번호와 검증 손실을 넣어 모델의 체크포인트가 저장된다\n",
    "* monitor: 모니터할 지표(loss 또는 평가 지표) / 대표적으론 val_loss, val_accuracy\n",
    "* save_best_only: 가장 좋은 성능을 나타내는 모델만 저장할 여부\n",
    "* save_weights_only: weights만 저장여부 / 성능 및 버그 감소를 위해 True로 두는 것이 좋고, save weights를 통해 저장된 값은 load weights를 통해 다시 불러오면 된다\n",
    "* mode: {auto, min, max} 중 하나. monitor 지표가 감소해야 좋을 경우, 증가해야 좋은 경우를 구분해서 입력하면 된다. auto로 두면 알아서 분류해주긴 하는데 간혹 틀린 경우가 있어 직접 명시적으로 지정해주는 것이 좋다.\n",
    "* periods를 길게 설정하면 save weights 같은 작업 반복 주기를 늘릴 수 있다."
   ]
  },
  {
   "cell_type": "code",
   "execution_count": 13,
   "id": "01f7c890",
   "metadata": {
    "execution": {
     "iopub.execute_input": "2024-02-02T02:05:27.775082Z",
     "iopub.status.busy": "2024-02-02T02:05:27.774639Z",
     "iopub.status.idle": "2024-02-02T02:05:28.828614Z",
     "shell.execute_reply": "2024-02-02T02:05:28.827502Z"
    },
    "papermill": {
     "duration": 1.117659,
     "end_time": "2024-02-02T02:05:28.831206",
     "exception": false,
     "start_time": "2024-02-02T02:05:27.713547",
     "status": "completed"
    },
    "tags": []
   },
   "outputs": [
    {
     "name": "stdout",
     "output_type": "stream",
     "text": [
      "/kaggle/working\r\n"
     ]
    }
   ],
   "source": [
    "# 현재 dir 위치\n",
    "!pwd"
   ]
  },
  {
   "cell_type": "code",
   "execution_count": 14,
   "id": "ff8b9767",
   "metadata": {
    "execution": {
     "iopub.execute_input": "2024-02-02T02:05:28.956294Z",
     "iopub.status.busy": "2024-02-02T02:05:28.955844Z",
     "iopub.status.idle": "2024-02-02T02:05:43.314143Z",
     "shell.execute_reply": "2024-02-02T02:05:43.313067Z"
    },
    "papermill": {
     "duration": 14.424412,
     "end_time": "2024-02-02T02:05:43.316612",
     "exception": false,
     "start_time": "2024-02-02T02:05:28.892200",
     "status": "completed"
    },
    "tags": []
   },
   "outputs": [
    {
     "name": "stdout",
     "output_type": "stream",
     "text": [
      "Epoch 1/10\n",
      "384/399 [===========================>..] - ETA: 0s - loss: 0.5508 - accuracy: 0.7993\n",
      "Epoch 1: val_loss improved from inf to 0.48458, saving model to /kaggle/working/weights.01-0.48.hdf5\n",
      "399/399 [==============================] - 2s 4ms/step - loss: 0.5465 - accuracy: 0.8009 - val_loss: 0.4846 - val_accuracy: 0.8158\n",
      "Epoch 2/10\n",
      "384/399 [===========================>..] - ETA: 0s - loss: 0.4087 - accuracy: 0.8516\n",
      "Epoch 2: val_loss improved from 0.48458 to 0.40623, saving model to /kaggle/working/weights.02-0.41.hdf5\n",
      "399/399 [==============================] - 1s 3ms/step - loss: 0.4078 - accuracy: 0.8517 - val_loss: 0.4062 - val_accuracy: 0.8499\n",
      "Epoch 3/10\n",
      "387/399 [============================>.] - ETA: 0s - loss: 0.3732 - accuracy: 0.8624\n",
      "Epoch 3: val_loss improved from 0.40623 to 0.39538, saving model to /kaggle/working/weights.03-0.40.hdf5\n",
      "399/399 [==============================] - 1s 3ms/step - loss: 0.3733 - accuracy: 0.8624 - val_loss: 0.3954 - val_accuracy: 0.8576\n",
      "Epoch 4/10\n",
      "384/399 [===========================>..] - ETA: 0s - loss: 0.3544 - accuracy: 0.8697\n",
      "Epoch 4: val_loss improved from 0.39538 to 0.39192, saving model to /kaggle/working/weights.04-0.39.hdf5\n",
      "399/399 [==============================] - 1s 3ms/step - loss: 0.3535 - accuracy: 0.8700 - val_loss: 0.3919 - val_accuracy: 0.8593\n",
      "Epoch 5/10\n",
      "393/399 [============================>.] - ETA: 0s - loss: 0.3429 - accuracy: 0.8726\n",
      "Epoch 5: val_loss did not improve from 0.39192\n",
      "399/399 [==============================] - 2s 4ms/step - loss: 0.3424 - accuracy: 0.8728 - val_loss: 0.4021 - val_accuracy: 0.8560\n",
      "Epoch 6/10\n",
      "389/399 [============================>.] - ETA: 0s - loss: 0.3335 - accuracy: 0.8768\n",
      "Epoch 6: val_loss did not improve from 0.39192\n",
      "399/399 [==============================] - 1s 3ms/step - loss: 0.3339 - accuracy: 0.8765 - val_loss: 0.3942 - val_accuracy: 0.8594\n",
      "Epoch 7/10\n",
      "392/399 [============================>.] - ETA: 0s - loss: 0.3224 - accuracy: 0.8788\n",
      "Epoch 7: val_loss improved from 0.39192 to 0.37645, saving model to /kaggle/working/weights.07-0.38.hdf5\n",
      "399/399 [==============================] - 1s 3ms/step - loss: 0.3217 - accuracy: 0.8791 - val_loss: 0.3764 - val_accuracy: 0.8720\n",
      "Epoch 8/10\n",
      "394/399 [============================>.] - ETA: 0s - loss: 0.3169 - accuracy: 0.8817\n",
      "Epoch 8: val_loss improved from 0.37645 to 0.36320, saving model to /kaggle/working/weights.08-0.36.hdf5\n",
      "399/399 [==============================] - 1s 3ms/step - loss: 0.3172 - accuracy: 0.8817 - val_loss: 0.3632 - val_accuracy: 0.8691\n",
      "Epoch 9/10\n",
      "395/399 [============================>.] - ETA: 0s - loss: 0.3077 - accuracy: 0.8882\n",
      "Epoch 9: val_loss did not improve from 0.36320\n",
      "399/399 [==============================] - 1s 3ms/step - loss: 0.3077 - accuracy: 0.8882 - val_loss: 0.3714 - val_accuracy: 0.8669\n",
      "Epoch 10/10\n",
      "385/399 [===========================>..] - ETA: 0s - loss: 0.2985 - accuracy: 0.8895\n",
      "Epoch 10: val_loss did not improve from 0.36320\n",
      "399/399 [==============================] - 1s 3ms/step - loss: 0.2989 - accuracy: 0.8897 - val_loss: 0.3778 - val_accuracy: 0.8670\n"
     ]
    }
   ],
   "source": [
    "# 참고로 keras의 metrics(메트릭이라고 부르기도 함)은 평가지표를 의미한다\n",
    "\n",
    "from tensorflow.keras.callbacks import ModelCheckpoint\n",
    "\n",
    "model = create_model()\n",
    "model.compile(optimizer=Adam(0.01), loss='categorical_crossentropy', metrics=['accuracy'])\n",
    "\n",
    "mcp_ob = ModelCheckpoint(filepath='/kaggle/working/weights.{epoch:02d}-{val_loss:.2f}.hdf5', monitor='val_loss',\n",
    "                        save_best_only=True, save_weights_only=True, mode='min', periods=3, verbose=1)\n",
    "history = model.fit(x=tr_images, y=tr_oh_labels, batch_size=128, epochs=10, validation_data=(val_images, val_oh_labels),\n",
    "                   callbacks=[mcp_ob])"
   ]
  },
  {
   "cell_type": "code",
   "execution_count": 15,
   "id": "a39b973b",
   "metadata": {
    "execution": {
     "iopub.execute_input": "2024-02-02T02:05:43.483709Z",
     "iopub.status.busy": "2024-02-02T02:05:43.482658Z",
     "iopub.status.idle": "2024-02-02T02:05:46.629614Z",
     "shell.execute_reply": "2024-02-02T02:05:46.628403Z"
    },
    "papermill": {
     "duration": 3.233285,
     "end_time": "2024-02-02T02:05:46.632662",
     "exception": false,
     "start_time": "2024-02-02T02:05:43.399377",
     "status": "completed"
    },
    "tags": []
   },
   "outputs": [
    {
     "name": "stdout",
     "output_type": "stream",
     "text": [
      "total 2392\r\n",
      "   131080 drwxr-xr-x 2 root root   4096 Feb  2 02:05 .\r\n",
      "268744970 drwxr-xr-x 6 root root   4096 Feb  2 02:04 ..\r\n",
      "   131081 ---------- 1 root root 349379 Feb  2 02:05 __notebook__.ipynb\r\n",
      "   131082 -rw-r--r-- 1 root root 344080 Feb  2 02:05 weights.01-0.48.hdf5\r\n",
      "   131083 -rw-r--r-- 1 root root 344080 Feb  2 02:05 weights.02-0.41.hdf5\r\n",
      "   131084 -rw-r--r-- 1 root root 344080 Feb  2 02:05 weights.03-0.40.hdf5\r\n",
      "   131085 -rw-r--r-- 1 root root 344080 Feb  2 02:05 weights.04-0.39.hdf5\r\n",
      "   131086 -rw-r--r-- 1 root root 344080 Feb  2 02:05 weights.07-0.38.hdf5\r\n",
      "   131087 -rw-r--r-- 1 root root 344080 Feb  2 02:05 weights.08-0.36.hdf5\r\n",
      "total 352\r\n",
      "   131080 drwxr-xr-x 2 root root   4096 Feb  2 02:05 .\r\n",
      "268744970 drwxr-xr-x 6 root root   4096 Feb  2 02:04 ..\r\n",
      "   131081 ---------- 1 root root 349379 Feb  2 02:05 __notebook__.ipynb\r\n"
     ]
    }
   ],
   "source": [
    "# 위 과정을 통해 save best only option으로 인해 여러개의 파이이 만들어진다\n",
    "\n",
    "!ls -lia\n",
    "\n",
    "!rm -rf weight*\n",
    "!ls -lia"
   ]
  },
  {
   "cell_type": "markdown",
   "id": "e1d1c4f7",
   "metadata": {
    "papermill": {
     "duration": 0.080615,
     "end_time": "2024-02-02T02:05:46.795739",
     "exception": false,
     "start_time": "2024-02-02T02:05:46.715124",
     "status": "completed"
    },
    "tags": []
   },
   "source": [
    "### ReduceLROnPlateau(monitor='val_loss', factor=0.1, patience=10, verbose=0, mode='auto', min_delta=0.0001, cooldown=0, min_lr=0\n",
    "* 특정 epoch 횟수 동안 성능이 개선되지 않을 시 learning rate를 동적으로 감소시킨다\n",
    "* monitor: 모니터할 지표로, loss 또는 여러 평가 지표\n",
    "* factor: 학습 속도를 줄일 인수, new_lr = lr(기존 learning rate) * factor\n",
    "* patience: Learning rate를 줄이기 전에 monitor할 epochs 횟수\n",
    "* mode: auto, min, max 중 하나"
   ]
  },
  {
   "cell_type": "code",
   "execution_count": 16,
   "id": "08ce72fa",
   "metadata": {
    "execution": {
     "iopub.execute_input": "2024-02-02T02:05:46.957097Z",
     "iopub.status.busy": "2024-02-02T02:05:46.956643Z",
     "iopub.status.idle": "2024-02-02T02:06:25.736764Z",
     "shell.execute_reply": "2024-02-02T02:06:25.735909Z"
    },
    "papermill": {
     "duration": 38.864168,
     "end_time": "2024-02-02T02:06:25.738778",
     "exception": false,
     "start_time": "2024-02-02T02:05:46.874610",
     "status": "completed"
    },
    "tags": []
   },
   "outputs": [
    {
     "name": "stdout",
     "output_type": "stream",
     "text": [
      "Epoch 1/30\n",
      "399/399 [==============================] - 2s 4ms/step - loss: 0.5931 - accuracy: 0.8000 - val_loss: 0.4339 - val_accuracy: 0.8449 - lr: 0.0010\n",
      "Epoch 2/30\n",
      "399/399 [==============================] - 1s 3ms/step - loss: 0.4073 - accuracy: 0.8573 - val_loss: 0.4253 - val_accuracy: 0.8471 - lr: 0.0010\n",
      "Epoch 3/30\n",
      "399/399 [==============================] - 1s 3ms/step - loss: 0.3690 - accuracy: 0.8672 - val_loss: 0.3767 - val_accuracy: 0.8623 - lr: 0.0010\n",
      "Epoch 4/30\n",
      "399/399 [==============================] - 1s 3ms/step - loss: 0.3465 - accuracy: 0.8747 - val_loss: 0.3904 - val_accuracy: 0.8549 - lr: 0.0010\n",
      "Epoch 5/30\n",
      "399/399 [==============================] - 1s 3ms/step - loss: 0.3234 - accuracy: 0.8824 - val_loss: 0.3451 - val_accuracy: 0.8771 - lr: 0.0010\n",
      "Epoch 6/30\n",
      "399/399 [==============================] - 1s 3ms/step - loss: 0.3070 - accuracy: 0.8880 - val_loss: 0.3513 - val_accuracy: 0.8737 - lr: 0.0010\n",
      "Epoch 7/30\n",
      "399/399 [==============================] - 1s 3ms/step - loss: 0.2956 - accuracy: 0.8919 - val_loss: 0.3270 - val_accuracy: 0.8806 - lr: 0.0010\n",
      "Epoch 8/30\n",
      "399/399 [==============================] - 1s 3ms/step - loss: 0.2843 - accuracy: 0.8958 - val_loss: 0.3298 - val_accuracy: 0.8811 - lr: 0.0010\n",
      "Epoch 9/30\n",
      "399/399 [==============================] - 1s 3ms/step - loss: 0.2733 - accuracy: 0.8994 - val_loss: 0.3264 - val_accuracy: 0.8834 - lr: 0.0010\n",
      "Epoch 10/30\n",
      "399/399 [==============================] - 1s 3ms/step - loss: 0.2668 - accuracy: 0.9012 - val_loss: 0.3217 - val_accuracy: 0.8871 - lr: 0.0010\n",
      "Epoch 11/30\n",
      "399/399 [==============================] - 1s 3ms/step - loss: 0.2588 - accuracy: 0.9033 - val_loss: 0.3426 - val_accuracy: 0.8772 - lr: 0.0010\n",
      "Epoch 12/30\n",
      "399/399 [==============================] - 1s 3ms/step - loss: 0.2473 - accuracy: 0.9085 - val_loss: 0.3269 - val_accuracy: 0.8824 - lr: 0.0010\n",
      "Epoch 13/30\n",
      "396/399 [============================>.] - ETA: 0s - loss: 0.2413 - accuracy: 0.9089\n",
      "Epoch 13: ReduceLROnPlateau reducing learning rate to 0.0003000000142492354.\n",
      "399/399 [==============================] - 1s 3ms/step - loss: 0.2414 - accuracy: 0.9088 - val_loss: 0.3407 - val_accuracy: 0.8806 - lr: 0.0010\n",
      "Epoch 14/30\n",
      "399/399 [==============================] - 1s 3ms/step - loss: 0.2125 - accuracy: 0.9219 - val_loss: 0.3058 - val_accuracy: 0.8902 - lr: 3.0000e-04\n",
      "Epoch 15/30\n",
      "399/399 [==============================] - 1s 3ms/step - loss: 0.2085 - accuracy: 0.9225 - val_loss: 0.3071 - val_accuracy: 0.8927 - lr: 3.0000e-04\n",
      "Epoch 16/30\n",
      "399/399 [==============================] - 1s 3ms/step - loss: 0.2050 - accuracy: 0.9244 - val_loss: 0.3053 - val_accuracy: 0.8904 - lr: 3.0000e-04\n",
      "Epoch 17/30\n",
      "399/399 [==============================] - 1s 4ms/step - loss: 0.2013 - accuracy: 0.9264 - val_loss: 0.3110 - val_accuracy: 0.8911 - lr: 3.0000e-04\n",
      "Epoch 18/30\n",
      "399/399 [==============================] - 1s 3ms/step - loss: 0.1998 - accuracy: 0.9271 - val_loss: 0.3080 - val_accuracy: 0.8912 - lr: 3.0000e-04\n",
      "Epoch 19/30\n",
      "394/399 [============================>.] - ETA: 0s - loss: 0.1963 - accuracy: 0.9283\n",
      "Epoch 19: ReduceLROnPlateau reducing learning rate to 9.000000427477062e-05.\n",
      "399/399 [==============================] - 1s 3ms/step - loss: 0.1964 - accuracy: 0.9283 - val_loss: 0.3083 - val_accuracy: 0.8918 - lr: 3.0000e-04\n",
      "Epoch 20/30\n",
      "399/399 [==============================] - 1s 3ms/step - loss: 0.1861 - accuracy: 0.9329 - val_loss: 0.3036 - val_accuracy: 0.8936 - lr: 9.0000e-05\n",
      "Epoch 21/30\n",
      "399/399 [==============================] - 1s 3ms/step - loss: 0.1846 - accuracy: 0.9337 - val_loss: 0.3054 - val_accuracy: 0.8951 - lr: 9.0000e-05\n",
      "Epoch 22/30\n",
      "399/399 [==============================] - 1s 3ms/step - loss: 0.1832 - accuracy: 0.9338 - val_loss: 0.3061 - val_accuracy: 0.8917 - lr: 9.0000e-05\n",
      "Epoch 23/30\n",
      "390/399 [============================>.] - ETA: 0s - loss: 0.1830 - accuracy: 0.9342\n",
      "Epoch 23: ReduceLROnPlateau reducing learning rate to 2.700000040931627e-05.\n",
      "399/399 [==============================] - 1s 3ms/step - loss: 0.1827 - accuracy: 0.9344 - val_loss: 0.3051 - val_accuracy: 0.8950 - lr: 9.0000e-05\n",
      "Epoch 24/30\n",
      "399/399 [==============================] - 1s 3ms/step - loss: 0.1792 - accuracy: 0.9355 - val_loss: 0.3050 - val_accuracy: 0.8946 - lr: 2.7000e-05\n",
      "Epoch 25/30\n",
      "399/399 [==============================] - 1s 3ms/step - loss: 0.1785 - accuracy: 0.9358 - val_loss: 0.3053 - val_accuracy: 0.8939 - lr: 2.7000e-05\n",
      "Epoch 26/30\n",
      "392/399 [============================>.] - ETA: 0s - loss: 0.1784 - accuracy: 0.9360\n",
      "Epoch 26: ReduceLROnPlateau reducing learning rate to 8.100000013655517e-06.\n",
      "399/399 [==============================] - 1s 3ms/step - loss: 0.1783 - accuracy: 0.9361 - val_loss: 0.3058 - val_accuracy: 0.8951 - lr: 2.7000e-05\n",
      "Epoch 27/30\n",
      "399/399 [==============================] - 1s 3ms/step - loss: 0.1771 - accuracy: 0.9365 - val_loss: 0.3050 - val_accuracy: 0.8948 - lr: 8.1000e-06\n",
      "Epoch 28/30\n",
      "399/399 [==============================] - 1s 3ms/step - loss: 0.1769 - accuracy: 0.9365 - val_loss: 0.3051 - val_accuracy: 0.8954 - lr: 8.1000e-06\n",
      "Epoch 29/30\n",
      "386/399 [============================>.] - ETA: 0s - loss: 0.1768 - accuracy: 0.9363\n",
      "Epoch 29: ReduceLROnPlateau reducing learning rate to 2.429999949526973e-06.\n",
      "399/399 [==============================] - 1s 3ms/step - loss: 0.1768 - accuracy: 0.9366 - val_loss: 0.3045 - val_accuracy: 0.8954 - lr: 8.1000e-06\n",
      "Epoch 30/30\n",
      "399/399 [==============================] - 1s 3ms/step - loss: 0.1764 - accuracy: 0.9367 - val_loss: 0.3047 - val_accuracy: 0.8953 - lr: 2.4300e-06\n"
     ]
    }
   ],
   "source": [
    "from tensorflow.keras.callbacks import ReduceLROnPlateau\n",
    "\n",
    "model = create_model()\n",
    "model.compile(optimizer=Adam(0.001), loss='categorical_crossentropy', metrics=['accuracy'])\n",
    "\n",
    "rlr_cb = ReduceLROnPlateau(monitors='val_loss', factor=0.3, patience=3, mode='min', verbose=1)\n",
    "\n",
    "history = model.fit(x=tr_images, y=tr_oh_labels, batch_size=128, epochs=30, validation_data=(val_images, val_oh_labels),\n",
    "                   callbacks=[rlr_cb])"
   ]
  },
  {
   "cell_type": "markdown",
   "id": "604b8e3d",
   "metadata": {
    "papermill": {
     "duration": 0.146735,
     "end_time": "2024-02-02T02:06:26.029198",
     "exception": false,
     "start_time": "2024-02-02T02:06:25.882463",
     "status": "completed"
    },
    "tags": []
   },
   "source": [
    "### EarlyStopping(monitor='val_loss', min_delta=0, patience=0, verbose=0, mode='auto', baseline=None, restore_best_weights=False)\n",
    "* 특정 epochs 동안 성능이 개선되지 않을 시 학습을 조기에 중단\n",
    "* monitor: 모니터할 지표\n",
    "* patience: early stopping 적용 전에 monitor할 epochs 횟수\n",
    "* mode: auto min max 중 선택"
   ]
  },
  {
   "cell_type": "code",
   "execution_count": 17,
   "id": "1a65eb69",
   "metadata": {
    "execution": {
     "iopub.execute_input": "2024-02-02T02:06:26.320641Z",
     "iopub.status.busy": "2024-02-02T02:06:26.319444Z",
     "iopub.status.idle": "2024-02-02T02:06:45.436307Z",
     "shell.execute_reply": "2024-02-02T02:06:45.435401Z"
    },
    "papermill": {
     "duration": 19.262329,
     "end_time": "2024-02-02T02:06:45.438560",
     "exception": false,
     "start_time": "2024-02-02T02:06:26.176231",
     "status": "completed"
    },
    "tags": []
   },
   "outputs": [
    {
     "name": "stdout",
     "output_type": "stream",
     "text": [
      "Epoch 1/30\n",
      "399/399 [==============================] - 2s 4ms/step - loss: 0.5980 - accuracy: 0.7940 - val_loss: 0.4523 - val_accuracy: 0.8411\n",
      "Epoch 2/30\n",
      "399/399 [==============================] - 1s 3ms/step - loss: 0.4125 - accuracy: 0.8543 - val_loss: 0.4057 - val_accuracy: 0.8549\n",
      "Epoch 3/30\n",
      "399/399 [==============================] - 1s 3ms/step - loss: 0.3709 - accuracy: 0.8672 - val_loss: 0.3881 - val_accuracy: 0.8628\n",
      "Epoch 4/30\n",
      "399/399 [==============================] - 1s 3ms/step - loss: 0.3413 - accuracy: 0.8778 - val_loss: 0.3788 - val_accuracy: 0.8658\n",
      "Epoch 5/30\n",
      "399/399 [==============================] - 1s 3ms/step - loss: 0.3236 - accuracy: 0.8817 - val_loss: 0.3621 - val_accuracy: 0.8707\n",
      "Epoch 6/30\n",
      "399/399 [==============================] - 1s 3ms/step - loss: 0.3078 - accuracy: 0.8872 - val_loss: 0.3579 - val_accuracy: 0.8676\n",
      "Epoch 7/30\n",
      "399/399 [==============================] - 1s 3ms/step - loss: 0.2962 - accuracy: 0.8915 - val_loss: 0.3432 - val_accuracy: 0.8782\n",
      "Epoch 8/30\n",
      "399/399 [==============================] - 1s 3ms/step - loss: 0.2841 - accuracy: 0.8960 - val_loss: 0.3265 - val_accuracy: 0.8848\n",
      "Epoch 9/30\n",
      "399/399 [==============================] - 1s 3ms/step - loss: 0.2760 - accuracy: 0.8978 - val_loss: 0.3463 - val_accuracy: 0.8739\n",
      "Epoch 10/30\n",
      "399/399 [==============================] - 2s 4ms/step - loss: 0.2675 - accuracy: 0.9016 - val_loss: 0.3269 - val_accuracy: 0.8817\n",
      "Epoch 11/30\n",
      "399/399 [==============================] - 1s 3ms/step - loss: 0.2577 - accuracy: 0.9037 - val_loss: 0.3231 - val_accuracy: 0.8852\n",
      "Epoch 12/30\n",
      "399/399 [==============================] - 1s 3ms/step - loss: 0.2481 - accuracy: 0.9082 - val_loss: 0.3364 - val_accuracy: 0.8794\n",
      "Epoch 13/30\n",
      "399/399 [==============================] - 1s 3ms/step - loss: 0.2427 - accuracy: 0.9101 - val_loss: 0.3367 - val_accuracy: 0.8824\n",
      "Epoch 14/30\n",
      "399/399 [==============================] - 1s 3ms/step - loss: 0.2336 - accuracy: 0.9135 - val_loss: 0.3527 - val_accuracy: 0.8770\n",
      "Epoch 14: early stopping\n"
     ]
    }
   ],
   "source": [
    "from tensorflow.keras.callbacks import EarlyStopping\n",
    "\n",
    "model = create_model()\n",
    "model.compile(optimizer=Adam(0.001), loss='categorical_crossentropy', metrics=['accuracy'])\n",
    "\n",
    "ely_cb = EarlyStopping(monitor='val_loss', patience=3, mode='min', verbose=1)\n",
    "history = model.fit(x=tr_images, y=tr_oh_labels, batch_size=128, epochs=30, validation_data=(val_images, val_oh_labels),\n",
    "                   callbacks=[ely_cb])"
   ]
  },
  {
   "cell_type": "code",
   "execution_count": 18,
   "id": "9a56d68b",
   "metadata": {
    "execution": {
     "iopub.execute_input": "2024-02-02T02:06:45.805287Z",
     "iopub.status.busy": "2024-02-02T02:06:45.804117Z",
     "iopub.status.idle": "2024-02-02T02:06:46.891844Z",
     "shell.execute_reply": "2024-02-02T02:06:46.890313Z"
    },
    "papermill": {
     "duration": 1.277826,
     "end_time": "2024-02-02T02:06:46.894820",
     "exception": false,
     "start_time": "2024-02-02T02:06:45.616994",
     "status": "completed"
    },
    "tags": []
   },
   "outputs": [
    {
     "name": "stdout",
     "output_type": "stream",
     "text": [
      "rm: cannot remove 'weigh*': No such file or directory\r\n"
     ]
    }
   ],
   "source": [
    "!rm weigh*"
   ]
  },
  {
   "cell_type": "code",
   "execution_count": 19,
   "id": "222c649f",
   "metadata": {
    "execution": {
     "iopub.execute_input": "2024-02-02T02:06:47.258544Z",
     "iopub.status.busy": "2024-02-02T02:06:47.257381Z",
     "iopub.status.idle": "2024-02-02T02:07:29.060747Z",
     "shell.execute_reply": "2024-02-02T02:07:29.059555Z"
    },
    "papermill": {
     "duration": 41.99028,
     "end_time": "2024-02-02T02:07:29.063039",
     "exception": false,
     "start_time": "2024-02-02T02:06:47.072759",
     "status": "completed"
    },
    "tags": []
   },
   "outputs": [
    {
     "name": "stdout",
     "output_type": "stream",
     "text": [
      "Epoch 1/40\n",
      "399/399 [==============================] - 2s 4ms/step - loss: 0.6006 - accuracy: 0.7910 - val_loss: 0.4625 - val_accuracy: 0.8364 - lr: 0.0010\n",
      "Epoch 2/40\n",
      "399/399 [==============================] - 1s 3ms/step - loss: 0.4122 - accuracy: 0.8543 - val_loss: 0.4068 - val_accuracy: 0.8568 - lr: 0.0010\n",
      "Epoch 3/40\n",
      "399/399 [==============================] - 1s 3ms/step - loss: 0.3725 - accuracy: 0.8672 - val_loss: 0.3710 - val_accuracy: 0.8646 - lr: 0.0010\n",
      "Epoch 4/40\n",
      "399/399 [==============================] - 1s 3ms/step - loss: 0.3437 - accuracy: 0.8767 - val_loss: 0.3878 - val_accuracy: 0.8588 - lr: 0.0010\n",
      "Epoch 5/40\n",
      "399/399 [==============================] - 1s 3ms/step - loss: 0.3248 - accuracy: 0.8821 - val_loss: 0.3637 - val_accuracy: 0.8658 - lr: 0.0010\n",
      "Epoch 6/40\n",
      "399/399 [==============================] - 1s 3ms/step - loss: 0.3099 - accuracy: 0.8877 - val_loss: 0.3371 - val_accuracy: 0.8787 - lr: 0.0010\n",
      "Epoch 7/40\n",
      "399/399 [==============================] - 1s 3ms/step - loss: 0.2973 - accuracy: 0.8915 - val_loss: 0.3375 - val_accuracy: 0.8791 - lr: 0.0010\n",
      "Epoch 8/40\n",
      "399/399 [==============================] - 1s 3ms/step - loss: 0.2895 - accuracy: 0.8935 - val_loss: 0.3295 - val_accuracy: 0.8817 - lr: 0.0010\n",
      "Epoch 9/40\n",
      "399/399 [==============================] - 1s 3ms/step - loss: 0.2769 - accuracy: 0.8975 - val_loss: 0.3396 - val_accuracy: 0.8776 - lr: 0.0010\n",
      "Epoch 10/40\n",
      "399/399 [==============================] - 1s 3ms/step - loss: 0.2669 - accuracy: 0.9009 - val_loss: 0.3349 - val_accuracy: 0.8812 - lr: 0.0010\n",
      "Epoch 11/40\n",
      "399/399 [==============================] - 1s 3ms/step - loss: 0.2614 - accuracy: 0.9023 - val_loss: 0.3151 - val_accuracy: 0.8848 - lr: 0.0010\n",
      "Epoch 12/40\n",
      "399/399 [==============================] - 1s 3ms/step - loss: 0.2528 - accuracy: 0.9065 - val_loss: 0.3222 - val_accuracy: 0.8843 - lr: 0.0010\n",
      "Epoch 13/40\n",
      "399/399 [==============================] - 1s 3ms/step - loss: 0.2422 - accuracy: 0.9099 - val_loss: 0.3285 - val_accuracy: 0.8847 - lr: 0.0010\n",
      "Epoch 14/40\n",
      "399/399 [==============================] - 1s 3ms/step - loss: 0.2363 - accuracy: 0.9127 - val_loss: 0.3327 - val_accuracy: 0.8804 - lr: 0.0010\n",
      "Epoch 15/40\n",
      "399/399 [==============================] - 1s 3ms/step - loss: 0.2298 - accuracy: 0.9139 - val_loss: 0.3158 - val_accuracy: 0.8883 - lr: 0.0010\n",
      "Epoch 16/40\n",
      "395/399 [============================>.] - ETA: 0s - loss: 0.2246 - accuracy: 0.9154\n",
      "Epoch 16: ReduceLROnPlateau reducing learning rate to 0.0003000000142492354.\n",
      "399/399 [==============================] - 1s 3ms/step - loss: 0.2247 - accuracy: 0.9154 - val_loss: 0.3329 - val_accuracy: 0.8818 - lr: 0.0010\n",
      "Epoch 17/40\n",
      "399/399 [==============================] - 1s 3ms/step - loss: 0.1958 - accuracy: 0.9281 - val_loss: 0.3112 - val_accuracy: 0.8918 - lr: 3.0000e-04\n",
      "Epoch 18/40\n",
      "399/399 [==============================] - 1s 3ms/step - loss: 0.1916 - accuracy: 0.9295 - val_loss: 0.3070 - val_accuracy: 0.8939 - lr: 3.0000e-04\n",
      "Epoch 19/40\n",
      "399/399 [==============================] - 1s 4ms/step - loss: 0.1888 - accuracy: 0.9314 - val_loss: 0.3066 - val_accuracy: 0.8931 - lr: 3.0000e-04\n",
      "Epoch 20/40\n",
      "399/399 [==============================] - 1s 3ms/step - loss: 0.1856 - accuracy: 0.9315 - val_loss: 0.3089 - val_accuracy: 0.8930 - lr: 3.0000e-04\n",
      "Epoch 21/40\n",
      "399/399 [==============================] - 1s 3ms/step - loss: 0.1828 - accuracy: 0.9335 - val_loss: 0.3111 - val_accuracy: 0.8902 - lr: 3.0000e-04\n",
      "Epoch 22/40\n",
      "399/399 [==============================] - 1s 3ms/step - loss: 0.1805 - accuracy: 0.9340 - val_loss: 0.3097 - val_accuracy: 0.8937 - lr: 3.0000e-04\n",
      "Epoch 23/40\n",
      "399/399 [==============================] - 1s 3ms/step - loss: 0.1776 - accuracy: 0.9347 - val_loss: 0.3096 - val_accuracy: 0.8941 - lr: 3.0000e-04\n",
      "Epoch 24/40\n",
      "393/399 [============================>.] - ETA: 0s - loss: 0.1756 - accuracy: 0.9356\n",
      "Epoch 24: ReduceLROnPlateau reducing learning rate to 9.000000427477062e-05.\n",
      "399/399 [==============================] - 1s 3ms/step - loss: 0.1759 - accuracy: 0.9353 - val_loss: 0.3118 - val_accuracy: 0.8943 - lr: 3.0000e-04\n",
      "Epoch 25/40\n",
      "399/399 [==============================] - 1s 3ms/step - loss: 0.1650 - accuracy: 0.9397 - val_loss: 0.3046 - val_accuracy: 0.8952 - lr: 9.0000e-05\n",
      "Epoch 26/40\n",
      "399/399 [==============================] - 1s 3ms/step - loss: 0.1634 - accuracy: 0.9404 - val_loss: 0.3052 - val_accuracy: 0.8962 - lr: 9.0000e-05\n",
      "Epoch 27/40\n",
      "399/399 [==============================] - 1s 3ms/step - loss: 0.1625 - accuracy: 0.9410 - val_loss: 0.3059 - val_accuracy: 0.8947 - lr: 9.0000e-05\n",
      "Epoch 28/40\n",
      "399/399 [==============================] - 1s 3ms/step - loss: 0.1619 - accuracy: 0.9413 - val_loss: 0.3094 - val_accuracy: 0.8946 - lr: 9.0000e-05\n",
      "Epoch 29/40\n",
      "399/399 [==============================] - 1s 3ms/step - loss: 0.1609 - accuracy: 0.9419 - val_loss: 0.3077 - val_accuracy: 0.8953 - lr: 9.0000e-05\n",
      "Epoch 30/40\n",
      "392/399 [============================>.] - ETA: 0s - loss: 0.1602 - accuracy: 0.9423\n",
      "Epoch 30: ReduceLROnPlateau reducing learning rate to 2.700000040931627e-05.\n",
      "399/399 [==============================] - 1s 3ms/step - loss: 0.1599 - accuracy: 0.9424 - val_loss: 0.3089 - val_accuracy: 0.8937 - lr: 9.0000e-05\n",
      "Epoch 31/40\n",
      "399/399 [==============================] - 1s 3ms/step - loss: 0.1566 - accuracy: 0.9434 - val_loss: 0.3075 - val_accuracy: 0.8960 - lr: 2.7000e-05\n",
      "Epoch 32/40\n",
      "399/399 [==============================] - 1s 3ms/step - loss: 0.1560 - accuracy: 0.9438 - val_loss: 0.3081 - val_accuracy: 0.8967 - lr: 2.7000e-05\n",
      "Epoch 32: early stopping\n"
     ]
    }
   ],
   "source": [
    "# 보통은 위 callback들을 따로 쓰지 않고 한번에 다같이 쓴다\n",
    "\n",
    "from tensorflow.keras.callbacks import ModelCheckpoint, ReduceLROnPlateau, EarlyStopping\n",
    "\n",
    "model = create_model()\n",
    "model.compile(optimizer=Adam(0.001), loss='categorical_crossentropy', metrics=['accuracy'])\n",
    "\n",
    "mcp_cb = ModelCheckpoint(filepath='/kaggle/working/weights.{epoch:02d}-{val_loss:.2f}.hdf5', monitor='val_loss', \n",
    "                         save_best_only=True, save_weights_only=True, mode='min', period=1, verbose=0)\n",
    "rlr_cb = ReduceLROnPlateau(monitor='val_loss', factor=0.3, patience=5, mode='min', verbose=1)\n",
    "ely_cb = EarlyStopping(monitor='val_loss', patience=7, mode='min', verbose=1)\n",
    "\n",
    "history = model.fit(x=tr_images, y=tr_oh_labels, batch_size=128, epochs=40, validation_data=(val_images, val_oh_labels),\n",
    "                   callbacks=[mcp_cb, rlr_cb, ely_cb])"
   ]
  },
  {
   "cell_type": "code",
   "execution_count": null,
   "id": "85d014a4",
   "metadata": {
    "papermill": {
     "duration": 0.238284,
     "end_time": "2024-02-02T02:07:29.549577",
     "exception": false,
     "start_time": "2024-02-02T02:07:29.311293",
     "status": "completed"
    },
    "tags": []
   },
   "outputs": [],
   "source": []
  }
 ],
 "metadata": {
  "kaggle": {
   "accelerator": "none",
   "dataSources": [],
   "dockerImageVersionId": 30646,
   "isGpuEnabled": false,
   "isInternetEnabled": true,
   "language": "python",
   "sourceType": "notebook"
  },
  "kernelspec": {
   "display_name": "Python 3",
   "language": "python",
   "name": "python3"
  },
  "language_info": {
   "codemirror_mode": {
    "name": "ipython",
    "version": 3
   },
   "file_extension": ".py",
   "mimetype": "text/x-python",
   "name": "python",
   "nbconvert_exporter": "python",
   "pygments_lexer": "ipython3",
   "version": "3.10.13"
  },
  "papermill": {
   "default_parameters": {},
   "duration": 173.787658,
   "end_time": "2024-02-02T02:07:31.508284",
   "environment_variables": {},
   "exception": null,
   "input_path": "__notebook__.ipynb",
   "output_path": "__notebook__.ipynb",
   "parameters": {},
   "start_time": "2024-02-02T02:04:37.720626",
   "version": "2.5.0"
  }
 },
 "nbformat": 4,
 "nbformat_minor": 5
}
