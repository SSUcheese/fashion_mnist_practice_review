{
 "cells": [
  {
   "cell_type": "code",
   "execution_count": 1,
   "id": "cc4d9232",
   "metadata": {
    "_cell_guid": "b1076dfc-b9ad-4769-8c92-a6c4dae69d19",
    "_uuid": "8f2839f25d086af736a60e9eeb907d3b93b6e0e5",
    "execution": {
     "iopub.execute_input": "2024-02-01T13:36:19.165289Z",
     "iopub.status.busy": "2024-02-01T13:36:19.164747Z",
     "iopub.status.idle": "2024-02-01T13:36:20.193149Z",
     "shell.execute_reply": "2024-02-01T13:36:20.191481Z"
    },
    "papermill": {
     "duration": 1.040204,
     "end_time": "2024-02-01T13:36:20.196633",
     "exception": false,
     "start_time": "2024-02-01T13:36:19.156429",
     "status": "completed"
    },
    "tags": []
   },
   "outputs": [],
   "source": [
    "# This Python 3 environment comes with many helpful analytics libraries installed\n",
    "# It is defined by the kaggle/python Docker image: https://github.com/kaggle/docker-python\n",
    "# For example, here's several helpful packages to load\n",
    "\n",
    "import numpy as np # linear algebra\n",
    "import pandas as pd # data processing, CSV file I/O (e.g. pd.read_csv)\n",
    "\n",
    "# Input data files are available in the read-only \"../input/\" directory\n",
    "# For example, running this (by clicking run or pressing Shift+Enter) will list all files under the input directory\n",
    "\n",
    "import os\n",
    "for dirname, _, filenames in os.walk('/kaggle/input'):\n",
    "    for filename in filenames:\n",
    "        print(os.path.join(dirname, filename))\n",
    "\n",
    "# You can write up to 20GB to the current directory (/kaggle/working/) that gets preserved as output when you create a version using \"Save & Run All\" \n",
    "# You can also write temporary files to /kaggle/temp/, but they won't be saved outside of the current session"
   ]
  },
  {
   "cell_type": "markdown",
   "id": "9a028539",
   "metadata": {
    "papermill": {
     "duration": 0.006564,
     "end_time": "2024-02-01T13:36:20.210080",
     "exception": false,
     "start_time": "2024-02-01T13:36:20.203516",
     "status": "completed"
    },
    "tags": []
   },
   "source": [
    "# fashion mnist dataset을 통한 딥러닝 학습 실습을 정리하기 위한 공간임\n",
    "\n",
    "* 일반적으로 로직은\n",
    "* functional api 모델 생성 후 pixel 값 조정 및 type 조정\n",
    "* one hot encoding 적용\n",
    "* 이후 학습 검증 테스트 데이터로 나눈다\n",
    "* 마지막으로 complie, 학습/예측/평가"
   ]
  },
  {
   "cell_type": "raw",
   "id": "d49ae965",
   "metadata": {
    "papermill": {
     "duration": 0.006407,
     "end_time": "2024-02-01T13:36:20.223023",
     "exception": false,
     "start_time": "2024-02-01T13:36:20.216616",
     "status": "completed"
    },
    "tags": []
   },
   "source": [
    "%config Completer.use_jedi = False"
   ]
  },
  {
   "cell_type": "markdown",
   "id": "727e6911",
   "metadata": {
    "papermill": {
     "duration": 0.006695,
     "end_time": "2024-02-01T13:36:20.236267",
     "exception": false,
     "start_time": "2024-02-01T13:36:20.229572",
     "status": "completed"
    },
    "tags": []
   },
   "source": [
    "## 데이터 전처리 수행\n",
    "\n",
    "* 0에서 255 사이의 픽셀값을 0에서 1 사이로 변환. 이 과정을 거쳐야 성능 향상\n",
    "* array type은 float32. tensorflow도 데이터를 끌어올 떄 자동적으로 float32로 바꾼다\n",
    "* 전처리를 수행하기 전에 train_labels를 보면 type이 unit8로 되어 있음"
   ]
  },
  {
   "cell_type": "code",
   "execution_count": 2,
   "id": "8f9440c3",
   "metadata": {
    "execution": {
     "iopub.execute_input": "2024-02-01T13:36:20.251783Z",
     "iopub.status.busy": "2024-02-01T13:36:20.251133Z",
     "iopub.status.idle": "2024-02-01T13:36:40.305904Z",
     "shell.execute_reply": "2024-02-01T13:36:40.304526Z"
    },
    "papermill": {
     "duration": 20.065799,
     "end_time": "2024-02-01T13:36:40.308580",
     "exception": false,
     "start_time": "2024-02-01T13:36:20.242781",
     "status": "completed"
    },
    "tags": []
   },
   "outputs": [
    {
     "name": "stderr",
     "output_type": "stream",
     "text": [
      "2024-02-01 13:36:22.748658: E external/local_xla/xla/stream_executor/cuda/cuda_dnn.cc:9261] Unable to register cuDNN factory: Attempting to register factory for plugin cuDNN when one has already been registered\n",
      "2024-02-01 13:36:22.748830: E external/local_xla/xla/stream_executor/cuda/cuda_fft.cc:607] Unable to register cuFFT factory: Attempting to register factory for plugin cuFFT when one has already been registered\n",
      "2024-02-01 13:36:22.924094: E external/local_xla/xla/stream_executor/cuda/cuda_blas.cc:1515] Unable to register cuBLAS factory: Attempting to register factory for plugin cuBLAS when one has already been registered\n"
     ]
    },
    {
     "name": "stdout",
     "output_type": "stream",
     "text": [
      "Downloading data from https://storage.googleapis.com/tensorflow/tf-keras-datasets/train-labels-idx1-ubyte.gz\n",
      "29515/29515 [==============================] - 0s 0us/step\n",
      "Downloading data from https://storage.googleapis.com/tensorflow/tf-keras-datasets/train-images-idx3-ubyte.gz\n",
      "26421880/26421880 [==============================] - 1s 0us/step\n",
      "Downloading data from https://storage.googleapis.com/tensorflow/tf-keras-datasets/t10k-labels-idx1-ubyte.gz\n",
      "5148/5148 [==============================] - 0s 0us/step\n",
      "Downloading data from https://storage.googleapis.com/tensorflow/tf-keras-datasets/t10k-images-idx3-ubyte.gz\n",
      "4422102/4422102 [==============================] - 1s 0us/step\n",
      "<class 'numpy.uint8'>\n",
      "(60000, 28, 28)\n"
     ]
    }
   ],
   "source": [
    "from tensorflow.keras.datasets import fashion_mnist\n",
    "\n",
    "(train_images, train_labels), (test_images, test_labels) = fashion_mnist.load_data()\n",
    "\n",
    "# 전처리를 수행하기 전 데이터들을 보면 type이 unit8임\n",
    "print(type(train_images[0][0][0]))\n",
    "print(train_images.shape)"
   ]
  },
  {
   "cell_type": "code",
   "execution_count": 3,
   "id": "273aa920",
   "metadata": {
    "execution": {
     "iopub.execute_input": "2024-02-01T13:36:40.333051Z",
     "iopub.status.busy": "2024-02-01T13:36:40.331997Z",
     "iopub.status.idle": "2024-02-01T13:36:40.337995Z",
     "shell.execute_reply": "2024-02-01T13:36:40.336692Z"
    },
    "papermill": {
     "duration": 0.021726,
     "end_time": "2024-02-01T13:36:40.340765",
     "exception": false,
     "start_time": "2024-02-01T13:36:40.319039",
     "status": "completed"
    },
    "tags": []
   },
   "outputs": [
    {
     "name": "stdout",
     "output_type": "stream",
     "text": [
      "(10000, 28, 28)\n"
     ]
    }
   ],
   "source": [
    "print(test_images.shape)"
   ]
  },
  {
   "cell_type": "code",
   "execution_count": 4,
   "id": "bf3f69ea",
   "metadata": {
    "execution": {
     "iopub.execute_input": "2024-02-01T13:36:40.363612Z",
     "iopub.status.busy": "2024-02-01T13:36:40.362921Z",
     "iopub.status.idle": "2024-02-01T13:36:40.672259Z",
     "shell.execute_reply": "2024-02-01T13:36:40.671216Z"
    },
    "papermill": {
     "duration": 0.323696,
     "end_time": "2024-02-01T13:36:40.674913",
     "exception": false,
     "start_time": "2024-02-01T13:36:40.351217",
     "status": "completed"
    },
    "tags": []
   },
   "outputs": [
    {
     "data": {
      "text/plain": [
       "Text(0.5, 1.0, '9')"
      ]
     },
     "execution_count": 4,
     "metadata": {},
     "output_type": "execute_result"
    },
    {
     "data": {
      "image/png": "[encoded data removed]",
      "text/plain": [
       "<Figure size 640x480 with 1 Axes>"
      ]
     },
     "metadata": {},
     "output_type": "display_data"
    }
   ],
   "source": [
    "# fashion mnist 데이터 샘플 출력\n",
    "\n",
    "import matplotlib.pyplot as plt\n",
    "%matplotlib inline\n",
    "\n",
    "plt.imshow(train_images[0], cmap='gray')\n",
    "plt.title(train_labels[0])"
   ]
  },
  {
   "cell_type": "code",
   "execution_count": 5,
   "id": "dbebb11b",
   "metadata": {
    "execution": {
     "iopub.execute_input": "2024-02-01T13:36:40.699444Z",
     "iopub.status.busy": "2024-02-01T13:36:40.699035Z",
     "iopub.status.idle": "2024-02-01T13:36:40.853689Z",
     "shell.execute_reply": "2024-02-01T13:36:40.852482Z"
    },
    "papermill": {
     "duration": 0.177468,
     "end_time": "2024-02-01T13:36:40.863721",
     "exception": false,
     "start_time": "2024-02-01T13:36:40.686253",
     "status": "completed"
    },
    "tags": []
   },
   "outputs": [
    {
     "name": "stdout",
     "output_type": "stream",
     "text": [
      "Model: \"model\"\n",
      "_________________________________________________________________\n",
      " Layer (type)                Output Shape              Param #   \n",
      "=================================================================\n",
      " input_1 (InputLayer)        [(None, 28, 28)]          0         \n",
      "                                                                 \n",
      " flatten (Flatten)           (None, 784)               0         \n",
      "                                                                 \n",
      " dense (Dense)               (None, 100)               78500     \n",
      "                                                                 \n",
      " dense_1 (Dense)             (None, 30)                3030      \n",
      "                                                                 \n",
      " dense_2 (Dense)             (None, 10)                310       \n",
      "                                                                 \n",
      "=================================================================\n",
      "Total params: 81840 (319.69 KB)\n",
      "Trainable params: 81840 (319.69 KB)\n",
      "Non-trainable params: 0 (0.00 Byte)\n",
      "_________________________________________________________________\n"
     ]
    }
   ],
   "source": [
    "# functional api를 이용한 model 생성\n",
    "\n",
    "from tensorflow.keras.layers import  Layer, Input, Dense, Flatten\n",
    "from tensorflow.keras.models import Model\n",
    "import tensorflow as tf\n",
    "\n",
    "INPUT_SIZE = 28\n",
    "\n",
    "def create_model():\n",
    "    input_tensor = Input(shape=(INPUT_SIZE, INPUT_SIZE))\n",
    "    x = Flatten()(input_tensor)\n",
    "    x = Dense(100, activation='relu')(x)\n",
    "    x = Dense(30, activation='relu')(x)\n",
    "    output = Dense(10, activation='softmax')(x)\n",
    "    \n",
    "    # functional api의 경우 multi input output을 지원하는데 sequentail은 불가능\n",
    "    model = Model(inputs=input_tensor, outputs=output)\n",
    "    \n",
    "    return model\n",
    "\n",
    "model = create_model()\n",
    "model.summary()"
   ]
  },
  {
   "cell_type": "code",
   "execution_count": 6,
   "id": "c4404a36",
   "metadata": {
    "execution": {
     "iopub.execute_input": "2024-02-01T13:36:40.892459Z",
     "iopub.status.busy": "2024-02-01T13:36:40.891920Z",
     "iopub.status.idle": "2024-02-01T13:36:42.324173Z",
     "shell.execute_reply": "2024-02-01T13:36:42.322710Z"
    },
    "papermill": {
     "duration": 1.450953,
     "end_time": "2024-02-01T13:36:42.327223",
     "exception": false,
     "start_time": "2024-02-01T13:36:40.876270",
     "status": "completed"
    },
    "tags": []
   },
   "outputs": [],
   "source": [
    "# 데이터 전처리 함수\n",
    "\n",
    "from tensorflow.keras.utils import to_categorical\n",
    "from sklearn.model_selection import train_test_split\n",
    "\n",
    "# 0~1 사잇값의 float32로 전처리\n",
    "\n",
    "def get_preprocessed_data(images, labels):\n",
    "    images = np.array(images/255.0, dtype=np.float32)\n",
    "    labels = np.array(labels, dtype=np.float32)\n",
    "    \n",
    "    return images, labels\n",
    "\n",
    "# 0~1 사잇값 float32로 변경하는 함수 호출 후 one hot encoding 적용\n",
    "\n",
    "def get_preprocessed_ohe(images, labels):\n",
    "    images, labels = get_preprocessed_data(images, labels)\n",
    "    \n",
    "    # labels 데이터를 one hot encoding\n",
    "    oh_labels = to_categorical(labels)\n",
    "    \n",
    "    return images, oh_labels\n",
    "\n",
    "# 학습/검증/테스트 데이터 세트에 전처리 및 one hot encoding 적용\n",
    "# 여기서 전처리 및 one hot encoding 과정을 거친 후 학습과 검증 데이터를 분리하면 효율적\n",
    "\n",
    "def get_train_valid_test_split(train_images, train_labels, test_images, test_labels, valid_size=0.15, random_state=42):\n",
    "    \n",
    "    # 학습과 테스트 데이터의 전처리 후 학습이랑 검증 데이터 분리\n",
    "    train_images, train_oh_labels = get_preprocessed_ohe(train_images, train_labels)\n",
    "    test_images, test_oh_labels = get_preprocessed_ohe(test_images, test_labels)\n",
    "    \n",
    "    # 학습과 검증 데이터 분리\n",
    "    train_images, valid_images, train_oh_images, valid_oh_labels = train_test_split(train_images, train_oh_labels, test_size=valid_size, random_state=random_state)\n",
    "    \n",
    "    return (train_images, train_oh_images), (valid_images, valid_oh_labels), (test_images, test_oh_labels)"
   ]
  },
  {
   "cell_type": "code",
   "execution_count": 7,
   "id": "f09bad43",
   "metadata": {
    "execution": {
     "iopub.execute_input": "2024-02-01T13:36:42.354718Z",
     "iopub.status.busy": "2024-02-01T13:36:42.354292Z",
     "iopub.status.idle": "2024-02-01T13:36:43.201004Z",
     "shell.execute_reply": "2024-02-01T13:36:43.199604Z"
    },
    "papermill": {
     "duration": 0.86348,
     "end_time": "2024-02-01T13:36:43.203672",
     "exception": false,
     "start_time": "2024-02-01T13:36:42.340192",
     "status": "completed"
    },
    "tags": []
   },
   "outputs": [
    {
     "name": "stdout",
     "output_type": "stream",
     "text": [
      "<class 'numpy.ndarray'>\n",
      "((51000, 28, 28), (51000, 10))\n"
     ]
    }
   ],
   "source": [
    "# 데이터 전처리 함수를 활용한 실제 데이터 전처리\n",
    "\n",
    "from tensorflow.keras.datasets import fashion_mnist\n",
    "\n",
    "# fashion mnist 데이터 재 로딩 및 전처리 적용해서 학습/검증/테스트 데이터 세트 결정\n",
    "# 데이터 받아오기 / 처음 받아오는 데이터 타입은 numpy.ndarray이다\n",
    "\n",
    "(train_images, train_labels), (test_images, test_labels) = fashion_mnist.load_data()\n",
    "print(type(train_labels))\n",
    "\n",
    "(tr_images, tr_oh_labels), (val_images, val_oh_labels), (test_images, test_oh_labels) = \\\n",
    "    get_train_valid_test_split(train_images, train_labels, test_images, test_labels, valid_size=0.15, random_state=42)\n",
    "\n",
    "print((tr_images.shape, tr_oh_labels.shape))  # labels를 보면 one hot encoding이 되어 있다"
   ]
  },
  {
   "cell_type": "markdown",
   "id": "7f7704e9",
   "metadata": {
    "papermill": {
     "duration": 0.013098,
     "end_time": "2024-02-01T13:36:43.230743",
     "exception": false,
     "start_time": "2024-02-01T13:36:43.217645",
     "status": "completed"
    },
    "tags": []
   },
   "source": [
    "# loss와 optimizer 설정을 통한 학습 수행\n",
    "* loss는 categorical_crossentropy로, optimizer는 Adam으로 설정\n",
    "* categorical crossentropy를 위해서 Label을 one hot encoding으로 변경(keras의 to_categorical을 통해)"
   ]
  },
  {
   "cell_type": "code",
   "execution_count": 8,
   "id": "10bf44c3",
   "metadata": {
    "execution": {
     "iopub.execute_input": "2024-02-01T13:36:43.260000Z",
     "iopub.status.busy": "2024-02-01T13:36:43.258828Z",
     "iopub.status.idle": "2024-02-01T13:36:43.365718Z",
     "shell.execute_reply": "2024-02-01T13:36:43.364467Z"
    },
    "papermill": {
     "duration": 0.124039,
     "end_time": "2024-02-01T13:36:43.368789",
     "exception": false,
     "start_time": "2024-02-01T13:36:43.244750",
     "status": "completed"
    },
    "tags": []
   },
   "outputs": [
    {
     "name": "stdout",
     "output_type": "stream",
     "text": [
      "Model: \"model_1\"\n",
      "_________________________________________________________________\n",
      " Layer (type)                Output Shape              Param #   \n",
      "=================================================================\n",
      " input_2 (InputLayer)        [(None, 28, 28)]          0         \n",
      "                                                                 \n",
      " flatten_1 (Flatten)         (None, 784)               0         \n",
      "                                                                 \n",
      " dense_3 (Dense)             (None, 100)               78500     \n",
      "                                                                 \n",
      " dense_4 (Dense)             (None, 30)                3030      \n",
      "                                                                 \n",
      " dense_5 (Dense)             (None, 10)                310       \n",
      "                                                                 \n",
      "=================================================================\n",
      "Total params: 81840 (319.69 KB)\n",
      "Trainable params: 81840 (319.69 KB)\n",
      "Non-trainable params: 0 (0.00 Byte)\n",
      "_________________________________________________________________\n"
     ]
    }
   ],
   "source": [
    "from tensorflow.keras.optimizers import Adam\n",
    "\n",
    "# model 생성 및 optimizer, loss, metric 적용\n",
    "\n",
    "model = create_model()\n",
    "model.summary()\n",
    "\n",
    "# compile을 통해 loss 함수와 optimizer 설정\n",
    "# one hot encoding이 되었으면 categorical, 아닌 경우 sparse categorical\n",
    "model.compile(optimizer='Adam', loss='categorical_crossentropy', metrics=['accuracy'])\n"
   ]
  },
  {
   "cell_type": "code",
   "execution_count": 9,
   "id": "b092ca86",
   "metadata": {
    "execution": {
     "iopub.execute_input": "2024-02-01T13:36:43.400314Z",
     "iopub.status.busy": "2024-02-01T13:36:43.399650Z",
     "iopub.status.idle": "2024-02-01T13:37:25.565338Z",
     "shell.execute_reply": "2024-02-01T13:37:25.563662Z"
    },
    "papermill": {
     "duration": 42.185253,
     "end_time": "2024-02-01T13:37:25.568520",
     "exception": false,
     "start_time": "2024-02-01T13:36:43.383267",
     "status": "completed"
    },
    "tags": []
   },
   "outputs": [
    {
     "name": "stdout",
     "output_type": "stream",
     "text": [
      "Epoch 1/20\n",
      "399/399 [==============================] - 3s 5ms/step - loss: 0.6018 - accuracy: 0.7923 - val_loss: 0.4701 - val_accuracy: 0.8350\n",
      "Epoch 2/20\n",
      "399/399 [==============================] - 2s 5ms/step - loss: 0.4113 - accuracy: 0.8544 - val_loss: 0.4162 - val_accuracy: 0.8491\n",
      "Epoch 3/20\n",
      "399/399 [==============================] - 2s 4ms/step - loss: 0.3699 - accuracy: 0.8685 - val_loss: 0.3761 - val_accuracy: 0.8646\n",
      "Epoch 4/20\n",
      "399/399 [==============================] - 2s 5ms/step - loss: 0.3430 - accuracy: 0.8760 - val_loss: 0.3657 - val_accuracy: 0.8711\n",
      "Epoch 5/20\n",
      "399/399 [==============================] - 2s 4ms/step - loss: 0.3206 - accuracy: 0.8843 - val_loss: 0.3554 - val_accuracy: 0.8691\n",
      "Epoch 6/20\n",
      "399/399 [==============================] - 2s 4ms/step - loss: 0.3102 - accuracy: 0.8869 - val_loss: 0.3394 - val_accuracy: 0.8792\n",
      "Epoch 7/20\n",
      "399/399 [==============================] - 2s 5ms/step - loss: 0.2956 - accuracy: 0.8926 - val_loss: 0.3543 - val_accuracy: 0.8713\n",
      "Epoch 8/20\n",
      "399/399 [==============================] - 2s 4ms/step - loss: 0.2870 - accuracy: 0.8943 - val_loss: 0.3350 - val_accuracy: 0.8818\n",
      "Epoch 9/20\n",
      "399/399 [==============================] - 2s 5ms/step - loss: 0.2737 - accuracy: 0.8995 - val_loss: 0.3440 - val_accuracy: 0.8813\n",
      "Epoch 10/20\n",
      "399/399 [==============================] - 2s 4ms/step - loss: 0.2654 - accuracy: 0.9024 - val_loss: 0.3483 - val_accuracy: 0.8737\n",
      "Epoch 11/20\n",
      "399/399 [==============================] - 2s 4ms/step - loss: 0.2555 - accuracy: 0.9059 - val_loss: 0.3209 - val_accuracy: 0.8883\n",
      "Epoch 12/20\n",
      "399/399 [==============================] - 2s 5ms/step - loss: 0.2516 - accuracy: 0.9074 - val_loss: 0.3314 - val_accuracy: 0.8854\n",
      "Epoch 13/20\n",
      "399/399 [==============================] - 2s 4ms/step - loss: 0.2420 - accuracy: 0.9109 - val_loss: 0.3347 - val_accuracy: 0.8799\n",
      "Epoch 14/20\n",
      "399/399 [==============================] - 2s 4ms/step - loss: 0.2381 - accuracy: 0.9110 - val_loss: 0.3342 - val_accuracy: 0.8798\n",
      "Epoch 15/20\n",
      "399/399 [==============================] - 2s 5ms/step - loss: 0.2318 - accuracy: 0.9135 - val_loss: 0.3270 - val_accuracy: 0.8861\n",
      "Epoch 16/20\n",
      "399/399 [==============================] - 2s 4ms/step - loss: 0.2272 - accuracy: 0.9153 - val_loss: 0.3259 - val_accuracy: 0.8873\n",
      "Epoch 17/20\n",
      "399/399 [==============================] - 2s 4ms/step - loss: 0.2212 - accuracy: 0.9179 - val_loss: 0.3252 - val_accuracy: 0.8886\n",
      "Epoch 18/20\n",
      "399/399 [==============================] - 2s 5ms/step - loss: 0.2167 - accuracy: 0.9191 - val_loss: 0.3409 - val_accuracy: 0.8828\n",
      "Epoch 19/20\n",
      "399/399 [==============================] - 2s 5ms/step - loss: 0.2126 - accuracy: 0.9220 - val_loss: 0.3314 - val_accuracy: 0.8890\n",
      "Epoch 20/20\n",
      "399/399 [==============================] - 2s 5ms/step - loss: 0.2067 - accuracy: 0.9231 - val_loss: 0.3341 - val_accuracy: 0.8878\n"
     ]
    }
   ],
   "source": [
    "# 학습 수행의 경우 model의 fit을 통해 진행\n",
    "# history를 통해 결과를 받는다. loss와 accuracy metrics를 받는다\n",
    "# epoch를 통해 6만개를 batch 수만큼 쪼개서 학습하는데 이걸 epoch 횟수만큼 반복\n",
    "\n",
    "history = model.fit(x=tr_images, y=tr_oh_labels, batch_size=128, epochs=20, validation_data=(val_images, val_oh_labels))"
   ]
  },
  {
   "cell_type": "code",
   "execution_count": 10,
   "id": "f95c3182",
   "metadata": {
    "execution": {
     "iopub.execute_input": "2024-02-01T13:37:25.726812Z",
     "iopub.status.busy": "2024-02-01T13:37:25.726128Z",
     "iopub.status.idle": "2024-02-01T13:37:25.737592Z",
     "shell.execute_reply": "2024-02-01T13:37:25.736042Z"
    },
    "papermill": {
     "duration": 0.096037,
     "end_time": "2024-02-01T13:37:25.740494",
     "exception": false,
     "start_time": "2024-02-01T13:37:25.644457",
     "status": "completed"
    },
    "tags": []
   },
   "outputs": [
    {
     "data": {
      "text/plain": [
       "{'loss': [0.601794421672821,\n",
       "  0.41133037209510803,\n",
       "  0.3698749542236328,\n",
       "  0.3430267572402954,\n",
       "  0.3206246495246887,\n",
       "  0.31016167998313904,\n",
       "  0.2955970764160156,\n",
       "  0.28696930408477783,\n",
       "  0.273668497800827,\n",
       "  0.26539716124534607,\n",
       "  0.2555334270000458,\n",
       "  0.25158587098121643,\n",
       "  0.24201028048992157,\n",
       "  0.23805639147758484,\n",
       "  0.23181156814098358,\n",
       "  0.22720134258270264,\n",
       "  0.2211804986000061,\n",
       "  0.21666978299617767,\n",
       "  0.21256013214588165,\n",
       "  0.20673620700836182],\n",
       " 'accuracy': [0.7922549247741699,\n",
       "  0.854411780834198,\n",
       "  0.8685490489006042,\n",
       "  0.8760195970535278,\n",
       "  0.8842744827270508,\n",
       "  0.8869019746780396,\n",
       "  0.8925686478614807,\n",
       "  0.8943137526512146,\n",
       "  0.8994901776313782,\n",
       "  0.9023921489715576,\n",
       "  0.9059215784072876,\n",
       "  0.9073725342750549,\n",
       "  0.910921573638916,\n",
       "  0.9109607934951782,\n",
       "  0.91354900598526,\n",
       "  0.9152941107749939,\n",
       "  0.9179019331932068,\n",
       "  0.9191372394561768,\n",
       "  0.9220196008682251,\n",
       "  0.9230980277061462],\n",
       " 'val_loss': [0.47010889649391174,\n",
       "  0.416184663772583,\n",
       "  0.3760523200035095,\n",
       "  0.36567792296409607,\n",
       "  0.3554207384586334,\n",
       "  0.33938220143318176,\n",
       "  0.3542795479297638,\n",
       "  0.33499979972839355,\n",
       "  0.34396472573280334,\n",
       "  0.3482755124568939,\n",
       "  0.32086509466171265,\n",
       "  0.33139416575431824,\n",
       "  0.3347037434577942,\n",
       "  0.3342006206512451,\n",
       "  0.327041357755661,\n",
       "  0.3259131610393524,\n",
       "  0.3252348005771637,\n",
       "  0.3408728241920471,\n",
       "  0.3313624858856201,\n",
       "  0.33407384157180786],\n",
       " 'val_accuracy': [0.8349999785423279,\n",
       "  0.8491111397743225,\n",
       "  0.8645555377006531,\n",
       "  0.8711110949516296,\n",
       "  0.8691111207008362,\n",
       "  0.8792222142219543,\n",
       "  0.8713333606719971,\n",
       "  0.8817777633666992,\n",
       "  0.8813333511352539,\n",
       "  0.8736666440963745,\n",
       "  0.8883333206176758,\n",
       "  0.8854444622993469,\n",
       "  0.8798888921737671,\n",
       "  0.8797777891159058,\n",
       "  0.8861111402511597,\n",
       "  0.887333333492279,\n",
       "  0.8885555267333984,\n",
       "  0.882777750492096,\n",
       "  0.8889999985694885,\n",
       "  0.8877778053283691]}"
      ]
     },
     "execution_count": 10,
     "metadata": {},
     "output_type": "execute_result"
    }
   ],
   "source": [
    "history.history"
   ]
  },
  {
   "cell_type": "code",
   "execution_count": 11,
   "id": "2c9cbc68",
   "metadata": {
    "execution": {
     "iopub.execute_input": "2024-02-01T13:37:25.896090Z",
     "iopub.status.busy": "2024-02-01T13:37:25.895535Z",
     "iopub.status.idle": "2024-02-01T13:37:26.184661Z",
     "shell.execute_reply": "2024-02-01T13:37:26.183184Z"
    },
    "papermill": {
     "duration": 0.370591,
     "end_time": "2024-02-01T13:37:26.187931",
     "exception": false,
     "start_time": "2024-02-01T13:37:25.817340",
     "status": "completed"
    },
    "tags": []
   },
   "outputs": [
    {
     "data": {
      "image/png": "[encoded data removed]",
      "text/plain": [
       "<Figure size 640x480 with 1 Axes>"
      ]
     },
     "metadata": {},
     "output_type": "display_data"
    }
   ],
   "source": [
    "import matplotlib.pyplot as plt\n",
    "%matplotlib inline\n",
    "\n",
    "def show_history(hisotry):\n",
    "    plt.plot(history.history['accuracy'], label='train')\n",
    "    plt.plot(history.history['val_accuracy'], label='valid')\n",
    "    plt.legend()\n",
    "    \n",
    "show_history(history)"
   ]
  },
  {
   "cell_type": "code",
   "execution_count": 12,
   "id": "a6f6e3e8",
   "metadata": {
    "execution": {
     "iopub.execute_input": "2024-02-01T13:37:26.350409Z",
     "iopub.status.busy": "2024-02-01T13:37:26.349979Z",
     "iopub.status.idle": "2024-02-01T13:37:26.651187Z",
     "shell.execute_reply": "2024-02-01T13:37:26.649409Z"
    },
    "papermill": {
     "duration": 0.385032,
     "end_time": "2024-02-01T13:37:26.654259",
     "exception": false,
     "start_time": "2024-02-01T13:37:26.269227",
     "status": "completed"
    },
    "tags": []
   },
   "outputs": [
    {
     "name": "stdout",
     "output_type": "stream",
     "text": [
      "40/40 [==============================] - 0s 3ms/step - loss: 0.3572 - accuracy: 0.8829\n"
     ]
    },
    {
     "data": {
      "text/plain": [
       "[0.35724279284477234, 0.8828999996185303]"
      ]
     },
     "execution_count": 12,
     "metadata": {},
     "output_type": "execute_result"
    }
   ],
   "source": [
    "# 테스트 세트로 모델 성능 검증\n",
    "\n",
    "model.evaluate(x=test_images, y=test_oh_labels, batch_size=256, verbose=1)"
   ]
  },
  {
   "cell_type": "code",
   "execution_count": null,
   "id": "db918659",
   "metadata": {
    "papermill": {
     "duration": 0.144651,
     "end_time": "2024-02-01T13:37:26.876286",
     "exception": false,
     "start_time": "2024-02-01T13:37:26.731635",
     "status": "completed"
    },
    "tags": []
   },
   "outputs": [],
   "source": []
  }
 ],
 "metadata": {
  "kaggle": {
   "accelerator": "none",
   "dataSources": [],
   "dockerImageVersionId": 30646,
   "isGpuEnabled": false,
   "isInternetEnabled": true,
   "language": "python",
   "sourceType": "notebook"
  },
  "kernelspec": {
   "display_name": "Python 3",
   "language": "python",
   "name": "python3"
  },
  "language_info": {
   "codemirror_mode": {
    "name": "ipython",
    "version": 3
   },
   "file_extension": ".py",
   "mimetype": "text/x-python",
   "name": "python",
   "nbconvert_exporter": "python",
   "pygments_lexer": "ipython3",
   "version": "3.10.13"
  },
  "papermill": {
   "default_parameters": {},
   "duration": 72.8685,
   "end_time": "2024-02-01T13:37:28.879999",
   "environment_variables": {},
   "exception": null,
   "input_path": "__notebook__.ipynb",
   "output_path": "__notebook__.ipynb",
   "parameters": {},
   "start_time": "2024-02-01T13:36:16.011499",
   "version": "2.5.0"
  }
 },
 "nbformat": 4,
 "nbformat_minor": 5
}
